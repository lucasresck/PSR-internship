{
 "cells": [
  {
   "cell_type": "code",
   "execution_count": 1,
   "metadata": {},
   "outputs": [
    {
     "name": "stderr",
     "output_type": "stream",
     "text": [
      "┌ Warning: On Windows, creating file symlinks requires Administrator privileges\n",
      "└ @ Base.Filesystem file.jl:789\n"
     ]
    }
   ],
   "source": [
    "using InstantiateFromURL\n",
    "\n",
    "# activate the QuantEcon environment\n",
    "activate_github(\"QuantEcon/QuantEconLecturePackages\", tag = \"v0.9.5\");"
   ]
  },
  {
   "cell_type": "code",
   "execution_count": 2,
   "metadata": {},
   "outputs": [
    {
     "name": "stderr",
     "output_type": "stream",
     "text": [
      "┌ Info: Recompiling stale cache file C:\\Users\\lucasresck\\.julia\\compiled\\v1.0\\Distributions\\xILW0.ji for Distributions [31c24e10-a181-5473-b8eb-7969acd0382f]\n",
      "└ @ Base loading.jl:1190\n",
      "┌ Info: Recompiling stale cache file C:\\Users\\lucasresck\\.julia\\compiled\\v1.0\\StatPlots\\iAmZm.ji for StatPlots [60ddc479-9b66-56df-82fc-76a74619b69c]\n",
      "└ @ Base loading.jl:1190\n"
     ]
    }
   ],
   "source": [
    "using LinearAlgebra, Statistics, Compat\n",
    "using Distributions, StatPlots, QuadGK, Polynomials, Interpolations"
   ]
  },
  {
   "cell_type": "code",
   "execution_count": 3,
   "metadata": {},
   "outputs": [
    {
     "data": {
      "text/plain": [
       "subtypetree (generic function with 3 methods)"
      ]
     },
     "execution_count": 3,
     "metadata": {},
     "output_type": "execute_result"
    }
   ],
   "source": [
    "function subtypetree(t, level=1, indent=4)\n",
    "    if level == 1\n",
    "        println(t)\n",
    "    end\n",
    "    for s in subtypes(t)\n",
    "        println(join(fill(\" \", level * indent)) * string(s))  # print type\n",
    "        subtypetree(s, level+1, indent)  # recursively print the next type, indenting\n",
    "    end\n",
    "end"
   ]
  },
  {
   "cell_type": "code",
   "execution_count": 4,
   "metadata": {},
   "outputs": [
    {
     "name": "stdout",
     "output_type": "stream",
     "text": [
      "AbstractArray\n",
      "    AbstractInterpolation\n",
      "        Interpolations.AbstractInterpolationWrapper{T,N,ITPT,IT} where IT<:Union{Tuple{Vararg{InterpolationType,N} where N}, InterpolationType} where ITPT where N where T\n",
      "            AbstractExtrapolation{T,N,ITPT,IT} where IT<:Union{Tuple{Vararg{InterpolationType,N} where N}, InterpolationType} where ITPT where N where T\n",
      "                Interpolations.Extrapolation{T,N,ITPT,IT,ET} where ET where IT<:Union{Tuple{Vararg{InterpolationType,N} where N}, InterpolationType} where ITPT where N where T\n",
      "                Interpolations.FilledExtrapolation{T,N,ITP,IT,FT} where FT where IT<:Union{Tuple{Vararg{InterpolationType,N} where N}, InterpolationType} where ITP<:AbstractInterpolation where N where T\n",
      "            ScaledInterpolation{T,N,ITPT,IT,RT} where RT where IT<:Union{Tuple{Vararg{InterpolationType,N} where N}, InterpolationType} where ITPT where N where T\n",
      "        Interpolations.BSplineInterpolation\n",
      "        Interpolations.GriddedInterpolation\n",
      "        Interpolations.MonotonicInterpolation\n",
      "    AbstractRange\n",
      "        LinRange\n",
      "        OrdinalRange\n",
      "            AbstractUnitRange\n",
      "                Base.OneTo\n",
      "                Base.Slice\n",
      "                StaticArrays.SOneTo\n",
      "                UnitRange\n",
      "            StepRange\n",
      "        StepRangeLen\n",
      "    Adjoint\n",
      "    Arpack.AtA_or_AAt\n",
      "    Arpack.SVDAugmented\n",
      "    Base.LogicalIndex\n",
      "    Base.ReinterpretArray\n",
      "    Base.ReshapedArray\n",
      "    Bidiagonal\n",
      "    BitArray\n",
      "    CartesianIndices\n",
      "    Core.Compiler.AbstractRange\n",
      "        Core.Compiler.LinRange\n",
      "        Core.Compiler.OrdinalRange\n",
      "            Core.Compiler.AbstractUnitRange\n",
      "                Core.Compiler.OneTo\n",
      "                Core.Compiler.Slice\n",
      "                Core.Compiler.StmtRange\n",
      "                Core.Compiler.UnitRange\n",
      "            Core.Compiler.StepRange\n",
      "        Core.Compiler.StepRangeLen\n",
      "    Core.Compiler.BitArray\n",
      "    Core.Compiler.LinearIndices\n",
      "    DataStructures.CircularBuffer\n",
      "    DataValues.DataValueArray\n",
      "    DenseArray\n",
      "        Array\n",
      "        Base.CodeUnits\n",
      "        FFTW.FakeArray\n",
      "        Random.UnsafeView\n",
      "        SharedArrays.SharedArray\n",
      "        SuiteSparse.CHOLMOD.Dense\n",
      "    Diagonal\n",
      "    ForwardDiff.Partials\n",
      "    Hermitian\n",
      "    JSON.Parser.PushVector\n",
      "    LinearAlgebra.AbstractQ\n",
      "        LinearAlgebra.HessenbergQ\n",
      "        LinearAlgebra.QRCompactWYQ\n",
      "        LinearAlgebra.QRPackedQ\n",
      "        SuiteSparse.SPQR.QRSparseQ\n",
      "    LinearAlgebra.AbstractTriangular\n",
      "        LowerTriangular\n",
      "        UnitLowerTriangular\n",
      "        UnitUpperTriangular\n",
      "        UpperTriangular\n",
      "    LinearAlgebra.LQPackedQ\n",
      "    LinearIndices\n",
      "    OffsetArrays.OffsetArray\n",
      "    PermutedDimsArray\n",
      "    SparseArrays.AbstractSparseArray\n",
      "        SparseArrays.SparseMatrixCSC\n",
      "        SparseArrays.SparseVector\n",
      "        SuiteSparse.CHOLMOD.Sparse\n",
      "    StaticArrays.StaticArray\n",
      "        SUnitRange\n",
      "        StaticArrays.FieldVector\n",
      "        StaticArrays.FixedSizeArraysWillBeRemoved.Point\n",
      "        StaticArrays.FixedSizeArraysWillBeRemoved.Vec\n",
      "        StaticArrays.MArray\n",
      "        StaticArrays.SArray\n",
      "        StaticArrays.SizedArray\n",
      "    StaticArrays.TrivialView\n",
      "    StatsBase.AbstractWeights\n",
      "        StatsBase.AnalyticWeights\n",
      "        StatsBase.FrequencyWeights\n",
      "        StatsBase.ProbabilityWeights\n",
      "        StatsBase.Weights\n",
      "    SubArray\n",
      "    SuiteSparse.CHOLMOD.FactorComponent\n",
      "    SymTridiagonal\n",
      "    Symmetric\n",
      "    Test.GenericArray\n",
      "    Transpose\n",
      "    Tridiagonal\n",
      "    ZMQ.Message\n"
     ]
    }
   ],
   "source": [
    "subtypetree(AbstractArray)"
   ]
  },
  {
   "cell_type": "code",
   "execution_count": 5,
   "metadata": {},
   "outputs": [
    {
     "data": {
      "image/svg+xml": [
       "<?xml version=\"1.0\" encoding=\"utf-8\"?>\n",
       "<svg xmlns=\"http://www.w3.org/2000/svg\" xmlns:xlink=\"http://www.w3.org/1999/xlink\" width=\"600\" height=\"400\" viewBox=\"0 0 2400 1600\">\n",
       "<defs>\n",
       "  <clipPath id=\"clip2800\">\n",
       "    <rect x=\"0\" y=\"0\" width=\"2000\" height=\"2000\"/>\n",
       "  </clipPath>\n",
       "</defs>\n",
       "<defs>\n",
       "  <clipPath id=\"clip2801\">\n",
       "    <rect x=\"0\" y=\"0\" width=\"2400\" height=\"1600\"/>\n",
       "  </clipPath>\n",
       "</defs>\n",
       "<polygon clip-path=\"url(#clip2801)\" points=\"\n",
       "0,1600 2400,1600 2400,0 0,0 \n",
       "  \" fill=\"#ffffff\" fill-rule=\"evenodd\" fill-opacity=\"1\"/>\n",
       "<defs>\n",
       "  <clipPath id=\"clip2802\">\n",
       "    <rect x=\"480\" y=\"0\" width=\"1681\" height=\"1600\"/>\n",
       "  </clipPath>\n",
       "</defs>\n",
       "<polygon clip-path=\"url(#clip2801)\" points=\"\n",
       "161.394,1503.47 2321.26,1503.47 2321.26,47.2441 161.394,47.2441 \n",
       "  \" fill=\"#ffffff\" fill-rule=\"evenodd\" fill-opacity=\"1\"/>\n",
       "<defs>\n",
       "  <clipPath id=\"clip2803\">\n",
       "    <rect x=\"161\" y=\"47\" width=\"2161\" height=\"1457\"/>\n",
       "  </clipPath>\n",
       "</defs>\n",
       "<polyline clip-path=\"url(#clip2803)\" style=\"stroke:#000000; stroke-width:2; stroke-opacity:0.1; fill:none\" points=\"\n",
       "  411.669,1503.47 411.669,47.2441 \n",
       "  \"/>\n",
       "<polyline clip-path=\"url(#clip2803)\" style=\"stroke:#000000; stroke-width:2; stroke-opacity:0.1; fill:none\" points=\"\n",
       "  688.727,1503.47 688.727,47.2441 \n",
       "  \"/>\n",
       "<polyline clip-path=\"url(#clip2803)\" style=\"stroke:#000000; stroke-width:2; stroke-opacity:0.1; fill:none\" points=\"\n",
       "  965.785,1503.47 965.785,47.2441 \n",
       "  \"/>\n",
       "<polyline clip-path=\"url(#clip2803)\" style=\"stroke:#000000; stroke-width:2; stroke-opacity:0.1; fill:none\" points=\"\n",
       "  1242.84,1503.47 1242.84,47.2441 \n",
       "  \"/>\n",
       "<polyline clip-path=\"url(#clip2803)\" style=\"stroke:#000000; stroke-width:2; stroke-opacity:0.1; fill:none\" points=\"\n",
       "  1519.9,1503.47 1519.9,47.2441 \n",
       "  \"/>\n",
       "<polyline clip-path=\"url(#clip2803)\" style=\"stroke:#000000; stroke-width:2; stroke-opacity:0.1; fill:none\" points=\"\n",
       "  1796.96,1503.47 1796.96,47.2441 \n",
       "  \"/>\n",
       "<polyline clip-path=\"url(#clip2803)\" style=\"stroke:#000000; stroke-width:2; stroke-opacity:0.1; fill:none\" points=\"\n",
       "  2074.02,1503.47 2074.02,47.2441 \n",
       "  \"/>\n",
       "<polyline clip-path=\"url(#clip2803)\" style=\"stroke:#000000; stroke-width:2; stroke-opacity:0.1; fill:none\" points=\"\n",
       "  161.394,1463.82 2321.26,1463.82 \n",
       "  \"/>\n",
       "<polyline clip-path=\"url(#clip2803)\" style=\"stroke:#000000; stroke-width:2; stroke-opacity:0.1; fill:none\" points=\"\n",
       "  161.394,1119.01 2321.26,1119.01 \n",
       "  \"/>\n",
       "<polyline clip-path=\"url(#clip2803)\" style=\"stroke:#000000; stroke-width:2; stroke-opacity:0.1; fill:none\" points=\"\n",
       "  161.394,774.201 2321.26,774.201 \n",
       "  \"/>\n",
       "<polyline clip-path=\"url(#clip2803)\" style=\"stroke:#000000; stroke-width:2; stroke-opacity:0.1; fill:none\" points=\"\n",
       "  161.394,429.39 2321.26,429.39 \n",
       "  \"/>\n",
       "<polyline clip-path=\"url(#clip2803)\" style=\"stroke:#000000; stroke-width:2; stroke-opacity:0.1; fill:none\" points=\"\n",
       "  161.394,84.5793 2321.26,84.5793 \n",
       "  \"/>\n",
       "<polyline clip-path=\"url(#clip2801)\" style=\"stroke:#000000; stroke-width:4; stroke-opacity:1; fill:none\" points=\"\n",
       "  161.394,1503.47 2321.26,1503.47 \n",
       "  \"/>\n",
       "<polyline clip-path=\"url(#clip2801)\" style=\"stroke:#000000; stroke-width:4; stroke-opacity:1; fill:none\" points=\"\n",
       "  161.394,1503.47 161.394,47.2441 \n",
       "  \"/>\n",
       "<polyline clip-path=\"url(#clip2801)\" style=\"stroke:#000000; stroke-width:4; stroke-opacity:1; fill:none\" points=\"\n",
       "  411.669,1503.47 411.669,1481.63 \n",
       "  \"/>\n",
       "<polyline clip-path=\"url(#clip2801)\" style=\"stroke:#000000; stroke-width:4; stroke-opacity:1; fill:none\" points=\"\n",
       "  688.727,1503.47 688.727,1481.63 \n",
       "  \"/>\n",
       "<polyline clip-path=\"url(#clip2801)\" style=\"stroke:#000000; stroke-width:4; stroke-opacity:1; fill:none\" points=\"\n",
       "  965.785,1503.47 965.785,1481.63 \n",
       "  \"/>\n",
       "<polyline clip-path=\"url(#clip2801)\" style=\"stroke:#000000; stroke-width:4; stroke-opacity:1; fill:none\" points=\"\n",
       "  1242.84,1503.47 1242.84,1481.63 \n",
       "  \"/>\n",
       "<polyline clip-path=\"url(#clip2801)\" style=\"stroke:#000000; stroke-width:4; stroke-opacity:1; fill:none\" points=\"\n",
       "  1519.9,1503.47 1519.9,1481.63 \n",
       "  \"/>\n",
       "<polyline clip-path=\"url(#clip2801)\" style=\"stroke:#000000; stroke-width:4; stroke-opacity:1; fill:none\" points=\"\n",
       "  1796.96,1503.47 1796.96,1481.63 \n",
       "  \"/>\n",
       "<polyline clip-path=\"url(#clip2801)\" style=\"stroke:#000000; stroke-width:4; stroke-opacity:1; fill:none\" points=\"\n",
       "  2074.02,1503.47 2074.02,1481.63 \n",
       "  \"/>\n",
       "<polyline clip-path=\"url(#clip2801)\" style=\"stroke:#000000; stroke-width:4; stroke-opacity:1; fill:none\" points=\"\n",
       "  161.394,1463.82 193.792,1463.82 \n",
       "  \"/>\n",
       "<polyline clip-path=\"url(#clip2801)\" style=\"stroke:#000000; stroke-width:4; stroke-opacity:1; fill:none\" points=\"\n",
       "  161.394,1119.01 193.792,1119.01 \n",
       "  \"/>\n",
       "<polyline clip-path=\"url(#clip2801)\" style=\"stroke:#000000; stroke-width:4; stroke-opacity:1; fill:none\" points=\"\n",
       "  161.394,774.201 193.792,774.201 \n",
       "  \"/>\n",
       "<polyline clip-path=\"url(#clip2801)\" style=\"stroke:#000000; stroke-width:4; stroke-opacity:1; fill:none\" points=\"\n",
       "  161.394,429.39 193.792,429.39 \n",
       "  \"/>\n",
       "<polyline clip-path=\"url(#clip2801)\" style=\"stroke:#000000; stroke-width:4; stroke-opacity:1; fill:none\" points=\"\n",
       "  161.394,84.5793 193.792,84.5793 \n",
       "  \"/>\n",
       "<g clip-path=\"url(#clip2801)\">\n",
       "<text style=\"fill:#000000; fill-opacity:1; font-family:Arial,Helvetica Neue,Helvetica,sans-serif; font-size:48px; text-anchor:middle;\" transform=\"rotate(0, 411.669, 1557.47)\" x=\"411.669\" y=\"1557.47\">-3</text>\n",
       "</g>\n",
       "<g clip-path=\"url(#clip2801)\">\n",
       "<text style=\"fill:#000000; fill-opacity:1; font-family:Arial,Helvetica Neue,Helvetica,sans-serif; font-size:48px; text-anchor:middle;\" transform=\"rotate(0, 688.727, 1557.47)\" x=\"688.727\" y=\"1557.47\">-2</text>\n",
       "</g>\n",
       "<g clip-path=\"url(#clip2801)\">\n",
       "<text style=\"fill:#000000; fill-opacity:1; font-family:Arial,Helvetica Neue,Helvetica,sans-serif; font-size:48px; text-anchor:middle;\" transform=\"rotate(0, 965.785, 1557.47)\" x=\"965.785\" y=\"1557.47\">-1</text>\n",
       "</g>\n",
       "<g clip-path=\"url(#clip2801)\">\n",
       "<text style=\"fill:#000000; fill-opacity:1; font-family:Arial,Helvetica Neue,Helvetica,sans-serif; font-size:48px; text-anchor:middle;\" transform=\"rotate(0, 1242.84, 1557.47)\" x=\"1242.84\" y=\"1557.47\">0</text>\n",
       "</g>\n",
       "<g clip-path=\"url(#clip2801)\">\n",
       "<text style=\"fill:#000000; fill-opacity:1; font-family:Arial,Helvetica Neue,Helvetica,sans-serif; font-size:48px; text-anchor:middle;\" transform=\"rotate(0, 1519.9, 1557.47)\" x=\"1519.9\" y=\"1557.47\">1</text>\n",
       "</g>\n",
       "<g clip-path=\"url(#clip2801)\">\n",
       "<text style=\"fill:#000000; fill-opacity:1; font-family:Arial,Helvetica Neue,Helvetica,sans-serif; font-size:48px; text-anchor:middle;\" transform=\"rotate(0, 1796.96, 1557.47)\" x=\"1796.96\" y=\"1557.47\">2</text>\n",
       "</g>\n",
       "<g clip-path=\"url(#clip2801)\">\n",
       "<text style=\"fill:#000000; fill-opacity:1; font-family:Arial,Helvetica Neue,Helvetica,sans-serif; font-size:48px; text-anchor:middle;\" transform=\"rotate(0, 2074.02, 1557.47)\" x=\"2074.02\" y=\"1557.47\">3</text>\n",
       "</g>\n",
       "<g clip-path=\"url(#clip2801)\">\n",
       "<text style=\"fill:#000000; fill-opacity:1; font-family:Arial,Helvetica Neue,Helvetica,sans-serif; font-size:48px; text-anchor:end;\" transform=\"rotate(0, 137.394, 1481.32)\" x=\"137.394\" y=\"1481.32\">0.0</text>\n",
       "</g>\n",
       "<g clip-path=\"url(#clip2801)\">\n",
       "<text style=\"fill:#000000; fill-opacity:1; font-family:Arial,Helvetica Neue,Helvetica,sans-serif; font-size:48px; text-anchor:end;\" transform=\"rotate(0, 137.394, 1136.51)\" x=\"137.394\" y=\"1136.51\">0.1</text>\n",
       "</g>\n",
       "<g clip-path=\"url(#clip2801)\">\n",
       "<text style=\"fill:#000000; fill-opacity:1; font-family:Arial,Helvetica Neue,Helvetica,sans-serif; font-size:48px; text-anchor:end;\" transform=\"rotate(0, 137.394, 791.701)\" x=\"137.394\" y=\"791.701\">0.2</text>\n",
       "</g>\n",
       "<g clip-path=\"url(#clip2801)\">\n",
       "<text style=\"fill:#000000; fill-opacity:1; font-family:Arial,Helvetica Neue,Helvetica,sans-serif; font-size:48px; text-anchor:end;\" transform=\"rotate(0, 137.394, 446.89)\" x=\"137.394\" y=\"446.89\">0.3</text>\n",
       "</g>\n",
       "<g clip-path=\"url(#clip2801)\">\n",
       "<text style=\"fill:#000000; fill-opacity:1; font-family:Arial,Helvetica Neue,Helvetica,sans-serif; font-size:48px; text-anchor:end;\" transform=\"rotate(0, 137.394, 102.079)\" x=\"137.394\" y=\"102.079\">0.4</text>\n",
       "</g>\n",
       "<polyline clip-path=\"url(#clip2803)\" style=\"stroke:#009af9; stroke-width:4; stroke-opacity:1; fill:none\" points=\"\n",
       "  222.522,1462.26 232.585,1462.04 325.628,1458.09 418.67,1447.34 474.585,1434.39 530.5,1413.35 577.775,1386.69 625.05,1349.32 650.727,1323.64 676.404,1293.67 \n",
       "  702.082,1259.05 727.759,1219.5 751.431,1178.49 775.103,1133.01 798.775,1083.07 822.447,1028.78 873.204,898.919 923.962,754.511 982.77,578.398 1041.58,407.249 \n",
       "  1067.71,337.343 1093.84,273.447 1119.97,217.067 1146.1,169.581 1169.02,136.208 1191.93,111.258 1214.84,95.2332 1237.76,88.4582 1262.74,91.7693 1287.72,106.157 \n",
       "  1312.71,131.272 1337.69,166.514 1362.82,211.342 1387.95,264.53 1413.08,324.868 1438.21,391.034 1493.79,551.073 1549.36,717.86 1602.23,870.741 1655.11,1009.16 \n",
       "  1682.6,1073.49 1710.08,1132 1737.57,1184.5 1765.06,1231 1811.34,1296.24 1857.62,1346.52 1914.12,1390.75 1970.63,1420.16 2023.74,1437.91 2076.85,1449 \n",
       "  2161.94,1458.21 2247.04,1461.89 2260.13,1462.2 \n",
       "  \"/>\n",
       "<polygon clip-path=\"url(#clip2801)\" points=\"\n",
       "1958.43,251.724 2249.26,251.724 2249.26,130.764 1958.43,130.764 \n",
       "  \" fill=\"#ffffff\" fill-rule=\"evenodd\" fill-opacity=\"1\"/>\n",
       "<polyline clip-path=\"url(#clip2801)\" style=\"stroke:#000000; stroke-width:4; stroke-opacity:1; fill:none\" points=\"\n",
       "  1958.43,251.724 2249.26,251.724 2249.26,130.764 1958.43,130.764 1958.43,251.724 \n",
       "  \"/>\n",
       "<polyline clip-path=\"url(#clip2801)\" style=\"stroke:#009af9; stroke-width:4; stroke-opacity:1; fill:none\" points=\"\n",
       "  1982.43,191.244 2126.43,191.244 \n",
       "  \"/>\n",
       "<g clip-path=\"url(#clip2801)\">\n",
       "<text style=\"fill:#000000; fill-opacity:1; font-family:Arial,Helvetica Neue,Helvetica,sans-serif; font-size:48px; text-anchor:start;\" transform=\"rotate(0, 2150.43, 208.744)\" x=\"2150.43\" y=\"208.744\">y1</text>\n",
       "</g>\n",
       "</svg>\n"
      ]
     },
     "execution_count": 5,
     "metadata": {},
     "output_type": "execute_result"
    }
   ],
   "source": [
    "using Distributions\n",
    "\n",
    "d = Normal(0.0, 1.0)\n",
    "plot(d)"
   ]
  },
  {
   "cell_type": "code",
   "execution_count": 6,
   "metadata": {},
   "outputs": [],
   "source": [
    "using Parameters\n",
    "\n",
    "@with_kw struct IDoNotDoAnything <: Distribution{Univariate, Continuous}\n",
    "    α::Float64\n",
    "    β::Float64\n",
    "    xMax::Float64 = 2.0\n",
    "end\n",
    "Distributions.Chi(d::IDoNotDoAnything) = print(d.α)\n",
    "Distributions.Beta(d::IDoNotDoAnything) = print(d.β)\n",
    "Distributions.pdf(d::IDoNotDoAnything, x) = d.α *exp(-d.α * x)/exp(-d.α * d.xMax)\n",
    "Distributions.minimum(d::IDoNotDoAnything) = 0\n",
    "Distributions.maximum(d::IDoNotDoAnything) = d.xMax"
   ]
  },
  {
   "cell_type": "code",
   "execution_count": 7,
   "metadata": {},
   "outputs": [
    {
     "name": "stdout",
     "output_type": "stream",
     "text": [
      "2.0"
     ]
    }
   ],
   "source": [
    "d = IDoNotDoAnything(α = 1.0, β = 2.0)\n",
    "Beta(d)"
   ]
  },
  {
   "cell_type": "code",
   "execution_count": 8,
   "metadata": {},
   "outputs": [
    {
     "data": {
      "image/svg+xml": [
       "<?xml version=\"1.0\" encoding=\"utf-8\"?>\n",
       "<svg xmlns=\"http://www.w3.org/2000/svg\" xmlns:xlink=\"http://www.w3.org/1999/xlink\" width=\"600\" height=\"400\" viewBox=\"0 0 2400 1600\">\n",
       "<defs>\n",
       "  <clipPath id=\"clip3000\">\n",
       "    <rect x=\"0\" y=\"0\" width=\"2000\" height=\"2000\"/>\n",
       "  </clipPath>\n",
       "</defs>\n",
       "<defs>\n",
       "  <clipPath id=\"clip3001\">\n",
       "    <rect x=\"0\" y=\"0\" width=\"2400\" height=\"1600\"/>\n",
       "  </clipPath>\n",
       "</defs>\n",
       "<polygon clip-path=\"url(#clip3001)\" points=\"\n",
       "0,1600 2400,1600 2400,0 0,0 \n",
       "  \" fill=\"#ffffff\" fill-rule=\"evenodd\" fill-opacity=\"1\"/>\n",
       "<defs>\n",
       "  <clipPath id=\"clip3002\">\n",
       "    <rect x=\"480\" y=\"0\" width=\"1681\" height=\"1600\"/>\n",
       "  </clipPath>\n",
       "</defs>\n",
       "<polygon clip-path=\"url(#clip3001)\" points=\"\n",
       "121.251,1503.47 2321.26,1503.47 2321.26,47.2441 121.251,47.2441 \n",
       "  \" fill=\"#ffffff\" fill-rule=\"evenodd\" fill-opacity=\"1\"/>\n",
       "<defs>\n",
       "  <clipPath id=\"clip3003\">\n",
       "    <rect x=\"121\" y=\"47\" width=\"2201\" height=\"1457\"/>\n",
       "  </clipPath>\n",
       "</defs>\n",
       "<polyline clip-path=\"url(#clip3003)\" style=\"stroke:#000000; stroke-width:2; stroke-opacity:0.1; fill:none\" points=\"\n",
       "  162.78,1503.47 162.78,47.2441 \n",
       "  \"/>\n",
       "<polyline clip-path=\"url(#clip3003)\" style=\"stroke:#000000; stroke-width:2; stroke-opacity:0.1; fill:none\" points=\"\n",
       "  693.58,1503.47 693.58,47.2441 \n",
       "  \"/>\n",
       "<polyline clip-path=\"url(#clip3003)\" style=\"stroke:#000000; stroke-width:2; stroke-opacity:0.1; fill:none\" points=\"\n",
       "  1224.38,1503.47 1224.38,47.2441 \n",
       "  \"/>\n",
       "<polyline clip-path=\"url(#clip3003)\" style=\"stroke:#000000; stroke-width:2; stroke-opacity:0.1; fill:none\" points=\"\n",
       "  1755.18,1503.47 1755.18,47.2441 \n",
       "  \"/>\n",
       "<polyline clip-path=\"url(#clip3003)\" style=\"stroke:#000000; stroke-width:2; stroke-opacity:0.1; fill:none\" points=\"\n",
       "  2285.98,1503.47 2285.98,47.2441 \n",
       "  \"/>\n",
       "<polyline clip-path=\"url(#clip3003)\" style=\"stroke:#000000; stroke-width:2; stroke-opacity:0.1; fill:none\" points=\"\n",
       "  121.251,1467.95 2321.26,1467.95 \n",
       "  \"/>\n",
       "<polyline clip-path=\"url(#clip3003)\" style=\"stroke:#000000; stroke-width:2; stroke-opacity:0.1; fill:none\" points=\"\n",
       "  121.251,1247.09 2321.26,1247.09 \n",
       "  \"/>\n",
       "<polyline clip-path=\"url(#clip3003)\" style=\"stroke:#000000; stroke-width:2; stroke-opacity:0.1; fill:none\" points=\"\n",
       "  121.251,1026.24 2321.26,1026.24 \n",
       "  \"/>\n",
       "<polyline clip-path=\"url(#clip3003)\" style=\"stroke:#000000; stroke-width:2; stroke-opacity:0.1; fill:none\" points=\"\n",
       "  121.251,805.382 2321.26,805.382 \n",
       "  \"/>\n",
       "<polyline clip-path=\"url(#clip3003)\" style=\"stroke:#000000; stroke-width:2; stroke-opacity:0.1; fill:none\" points=\"\n",
       "  121.251,584.528 2321.26,584.528 \n",
       "  \"/>\n",
       "<polyline clip-path=\"url(#clip3003)\" style=\"stroke:#000000; stroke-width:2; stroke-opacity:0.1; fill:none\" points=\"\n",
       "  121.251,363.673 2321.26,363.673 \n",
       "  \"/>\n",
       "<polyline clip-path=\"url(#clip3003)\" style=\"stroke:#000000; stroke-width:2; stroke-opacity:0.1; fill:none\" points=\"\n",
       "  121.251,142.818 2321.26,142.818 \n",
       "  \"/>\n",
       "<polyline clip-path=\"url(#clip3001)\" style=\"stroke:#000000; stroke-width:4; stroke-opacity:1; fill:none\" points=\"\n",
       "  121.251,1503.47 2321.26,1503.47 \n",
       "  \"/>\n",
       "<polyline clip-path=\"url(#clip3001)\" style=\"stroke:#000000; stroke-width:4; stroke-opacity:1; fill:none\" points=\"\n",
       "  121.251,1503.47 121.251,47.2441 \n",
       "  \"/>\n",
       "<polyline clip-path=\"url(#clip3001)\" style=\"stroke:#000000; stroke-width:4; stroke-opacity:1; fill:none\" points=\"\n",
       "  162.78,1503.47 162.78,1481.63 \n",
       "  \"/>\n",
       "<polyline clip-path=\"url(#clip3001)\" style=\"stroke:#000000; stroke-width:4; stroke-opacity:1; fill:none\" points=\"\n",
       "  693.58,1503.47 693.58,1481.63 \n",
       "  \"/>\n",
       "<polyline clip-path=\"url(#clip3001)\" style=\"stroke:#000000; stroke-width:4; stroke-opacity:1; fill:none\" points=\"\n",
       "  1224.38,1503.47 1224.38,1481.63 \n",
       "  \"/>\n",
       "<polyline clip-path=\"url(#clip3001)\" style=\"stroke:#000000; stroke-width:4; stroke-opacity:1; fill:none\" points=\"\n",
       "  1755.18,1503.47 1755.18,1481.63 \n",
       "  \"/>\n",
       "<polyline clip-path=\"url(#clip3001)\" style=\"stroke:#000000; stroke-width:4; stroke-opacity:1; fill:none\" points=\"\n",
       "  2285.98,1503.47 2285.98,1481.63 \n",
       "  \"/>\n",
       "<polyline clip-path=\"url(#clip3001)\" style=\"stroke:#000000; stroke-width:4; stroke-opacity:1; fill:none\" points=\"\n",
       "  121.251,1467.95 154.251,1467.95 \n",
       "  \"/>\n",
       "<polyline clip-path=\"url(#clip3001)\" style=\"stroke:#000000; stroke-width:4; stroke-opacity:1; fill:none\" points=\"\n",
       "  121.251,1247.09 154.251,1247.09 \n",
       "  \"/>\n",
       "<polyline clip-path=\"url(#clip3001)\" style=\"stroke:#000000; stroke-width:4; stroke-opacity:1; fill:none\" points=\"\n",
       "  121.251,1026.24 154.251,1026.24 \n",
       "  \"/>\n",
       "<polyline clip-path=\"url(#clip3001)\" style=\"stroke:#000000; stroke-width:4; stroke-opacity:1; fill:none\" points=\"\n",
       "  121.251,805.382 154.251,805.382 \n",
       "  \"/>\n",
       "<polyline clip-path=\"url(#clip3001)\" style=\"stroke:#000000; stroke-width:4; stroke-opacity:1; fill:none\" points=\"\n",
       "  121.251,584.528 154.251,584.528 \n",
       "  \"/>\n",
       "<polyline clip-path=\"url(#clip3001)\" style=\"stroke:#000000; stroke-width:4; stroke-opacity:1; fill:none\" points=\"\n",
       "  121.251,363.673 154.251,363.673 \n",
       "  \"/>\n",
       "<polyline clip-path=\"url(#clip3001)\" style=\"stroke:#000000; stroke-width:4; stroke-opacity:1; fill:none\" points=\"\n",
       "  121.251,142.818 154.251,142.818 \n",
       "  \"/>\n",
       "<g clip-path=\"url(#clip3001)\">\n",
       "<text style=\"fill:#000000; fill-opacity:1; font-family:Arial,Helvetica Neue,Helvetica,sans-serif; font-size:48px; text-anchor:middle;\" transform=\"rotate(0, 162.78, 1557.47)\" x=\"162.78\" y=\"1557.47\">0.0</text>\n",
       "</g>\n",
       "<g clip-path=\"url(#clip3001)\">\n",
       "<text style=\"fill:#000000; fill-opacity:1; font-family:Arial,Helvetica Neue,Helvetica,sans-serif; font-size:48px; text-anchor:middle;\" transform=\"rotate(0, 693.58, 1557.47)\" x=\"693.58\" y=\"1557.47\">0.5</text>\n",
       "</g>\n",
       "<g clip-path=\"url(#clip3001)\">\n",
       "<text style=\"fill:#000000; fill-opacity:1; font-family:Arial,Helvetica Neue,Helvetica,sans-serif; font-size:48px; text-anchor:middle;\" transform=\"rotate(0, 1224.38, 1557.47)\" x=\"1224.38\" y=\"1557.47\">1.0</text>\n",
       "</g>\n",
       "<g clip-path=\"url(#clip3001)\">\n",
       "<text style=\"fill:#000000; fill-opacity:1; font-family:Arial,Helvetica Neue,Helvetica,sans-serif; font-size:48px; text-anchor:middle;\" transform=\"rotate(0, 1755.18, 1557.47)\" x=\"1755.18\" y=\"1557.47\">1.5</text>\n",
       "</g>\n",
       "<g clip-path=\"url(#clip3001)\">\n",
       "<text style=\"fill:#000000; fill-opacity:1; font-family:Arial,Helvetica Neue,Helvetica,sans-serif; font-size:48px; text-anchor:middle;\" transform=\"rotate(0, 2285.98, 1557.47)\" x=\"2285.98\" y=\"1557.47\">2.0</text>\n",
       "</g>\n",
       "<g clip-path=\"url(#clip3001)\">\n",
       "<text style=\"fill:#000000; fill-opacity:1; font-family:Arial,Helvetica Neue,Helvetica,sans-serif; font-size:48px; text-anchor:end;\" transform=\"rotate(0, 97.2505, 1485.45)\" x=\"97.2505\" y=\"1485.45\">1</text>\n",
       "</g>\n",
       "<g clip-path=\"url(#clip3001)\">\n",
       "<text style=\"fill:#000000; fill-opacity:1; font-family:Arial,Helvetica Neue,Helvetica,sans-serif; font-size:48px; text-anchor:end;\" transform=\"rotate(0, 97.2505, 1264.59)\" x=\"97.2505\" y=\"1264.59\">2</text>\n",
       "</g>\n",
       "<g clip-path=\"url(#clip3001)\">\n",
       "<text style=\"fill:#000000; fill-opacity:1; font-family:Arial,Helvetica Neue,Helvetica,sans-serif; font-size:48px; text-anchor:end;\" transform=\"rotate(0, 97.2505, 1043.74)\" x=\"97.2505\" y=\"1043.74\">3</text>\n",
       "</g>\n",
       "<g clip-path=\"url(#clip3001)\">\n",
       "<text style=\"fill:#000000; fill-opacity:1; font-family:Arial,Helvetica Neue,Helvetica,sans-serif; font-size:48px; text-anchor:end;\" transform=\"rotate(0, 97.2505, 822.882)\" x=\"97.2505\" y=\"822.882\">4</text>\n",
       "</g>\n",
       "<g clip-path=\"url(#clip3001)\">\n",
       "<text style=\"fill:#000000; fill-opacity:1; font-family:Arial,Helvetica Neue,Helvetica,sans-serif; font-size:48px; text-anchor:end;\" transform=\"rotate(0, 97.2505, 602.028)\" x=\"97.2505\" y=\"602.028\">5</text>\n",
       "</g>\n",
       "<g clip-path=\"url(#clip3001)\">\n",
       "<text style=\"fill:#000000; fill-opacity:1; font-family:Arial,Helvetica Neue,Helvetica,sans-serif; font-size:48px; text-anchor:end;\" transform=\"rotate(0, 97.2505, 381.173)\" x=\"97.2505\" y=\"381.173\">6</text>\n",
       "</g>\n",
       "<g clip-path=\"url(#clip3001)\">\n",
       "<text style=\"fill:#000000; fill-opacity:1; font-family:Arial,Helvetica Neue,Helvetica,sans-serif; font-size:48px; text-anchor:end;\" transform=\"rotate(0, 97.2505, 160.318)\" x=\"97.2505\" y=\"160.318\">7</text>\n",
       "</g>\n",
       "<polyline clip-path=\"url(#clip3003)\" style=\"stroke:#009af9; stroke-width:4; stroke-opacity:1; fill:none\" points=\"\n",
       "  183.515,88.4582 375.238,352.882 490.455,490.281 587.87,595.365 693.69,699.102 791.247,785.997 895.838,870.702 1017.02,958.954 1124.71,1029.36 1219.14,1085.49 \n",
       "  1322.1,1141.25 1425.67,1192.15 1540.18,1242.93 1649.13,1286.42 1762.42,1327.15 1857.78,1358.22 1974.21,1392.56 2083.66,1421.58 2259,1462.26 \n",
       "  \"/>\n",
       "<polygon clip-path=\"url(#clip3001)\" points=\"\n",
       "1958.43,251.724 2249.26,251.724 2249.26,130.764 1958.43,130.764 \n",
       "  \" fill=\"#ffffff\" fill-rule=\"evenodd\" fill-opacity=\"1\"/>\n",
       "<polyline clip-path=\"url(#clip3001)\" style=\"stroke:#000000; stroke-width:4; stroke-opacity:1; fill:none\" points=\"\n",
       "  1958.43,251.724 2249.26,251.724 2249.26,130.764 1958.43,130.764 1958.43,251.724 \n",
       "  \"/>\n",
       "<polyline clip-path=\"url(#clip3001)\" style=\"stroke:#009af9; stroke-width:4; stroke-opacity:1; fill:none\" points=\"\n",
       "  1982.43,191.244 2126.43,191.244 \n",
       "  \"/>\n",
       "<g clip-path=\"url(#clip3001)\">\n",
       "<text style=\"fill:#000000; fill-opacity:1; font-family:Arial,Helvetica Neue,Helvetica,sans-serif; font-size:48px; text-anchor:start;\" transform=\"rotate(0, 2150.43, 208.744)\" x=\"2150.43\" y=\"208.744\">y1</text>\n",
       "</g>\n",
       "</svg>\n"
      ]
     },
     "execution_count": 8,
     "metadata": {},
     "output_type": "execute_result"
    }
   ],
   "source": [
    "plot(d)"
   ]
  },
  {
   "cell_type": "code",
   "execution_count": 9,
   "metadata": {},
   "outputs": [
    {
     "data": {
      "text/html": [
       "-(z::<b>Complex</b>, w::<b>Complex</b>) in Base at <a href=\"https://github.com/JuliaLang/julia/tree/099e826241fca365a120df9bac9a9fede6e7bae4/base/complex.jl#L267\" target=\"_blank\">complex.jl:267</a>"
      ],
      "text/plain": [
       "-(z::Complex, w::Complex) in Base at complex.jl:267"
      ]
     },
     "execution_count": 9,
     "metadata": {},
     "output_type": "execute_result"
    }
   ],
   "source": [
    "x = 4.0 + 1.0im\n",
    "@which -(x,x)"
   ]
  },
  {
   "cell_type": "code",
   "execution_count": 10,
   "metadata": {},
   "outputs": [],
   "source": [
    "struct ItsJustAType <: Distribution{Univariate, Continuous}\n",
    "    a::Float64\n",
    "end\n",
    "\n",
    "Distributions.pdf(d::ItsJustAType, x) = print(x)"
   ]
  },
  {
   "cell_type": "code",
   "execution_count": 11,
   "metadata": {},
   "outputs": [
    {
     "name": "stdout",
     "output_type": "stream",
     "text": [
      "1.0pdf(d, 1.0) = nothing\n",
      "pdf(IDoNotDoAnything(α=1.0, β=2.0), 10.0) = 0.0003354626279025118\n"
     ]
    },
    {
     "data": {
      "text/plain": [
       "0.0003354626279025118"
      ]
     },
     "execution_count": 11,
     "metadata": {},
     "output_type": "execute_result"
    }
   ],
   "source": [
    "d = ItsJustAType(1.0)\n",
    "@show pdf(d, 1.0)\n",
    "@show pdf(IDoNotDoAnything(α = 1.0, β = 2.0), 10.0)"
   ]
  },
  {
   "cell_type": "code",
   "execution_count": 12,
   "metadata": {},
   "outputs": [
    {
     "ename": "MethodError",
     "evalue": "MethodError: no method matching abs(::ItsJustAType)\nClosest candidates are:\n  abs(!Matched::Bool) at bool.jl:91\n  abs(!Matched::Float16) at float.jl:517\n  abs(!Matched::Float32) at float.jl:518\n  ...",
     "output_type": "error",
     "traceback": [
      "MethodError: no method matching abs(::ItsJustAType)\nClosest candidates are:\n  abs(!Matched::Bool) at bool.jl:91\n  abs(!Matched::Float16) at float.jl:517\n  abs(!Matched::Float32) at float.jl:518\n  ...",
      "",
      "Stacktrace:",
      " [1] top-level scope at In[12]:2"
     ]
    }
   ],
   "source": [
    "d = ItsJustAType(198.0)\n",
    "\n",
    "abs(d)"
   ]
  },
  {
   "cell_type": "code",
   "execution_count": 13,
   "metadata": {},
   "outputs": [],
   "source": [
    "Base.abs(z::ItsJustAType)  = \"$(abs(z.a))\""
   ]
  },
  {
   "cell_type": "code",
   "execution_count": 14,
   "metadata": {},
   "outputs": [
    {
     "name": "stdout",
     "output_type": "stream",
     "text": [
      "abs(-1.0) = 1.0\n",
      "abs(ItsJustAType(-1.0)) = \"1.0\"\n"
     ]
    },
    {
     "data": {
      "text/plain": [
       "\"1.0\""
      ]
     },
     "execution_count": 14,
     "metadata": {},
     "output_type": "execute_result"
    }
   ],
   "source": [
    "@show abs(-1.0)\n",
    "@show abs(ItsJustAType(-1.0))"
   ]
  },
  {
   "cell_type": "code",
   "execution_count": 15,
   "metadata": {},
   "outputs": [
    {
     "data": {
      "text/plain": [
       "0.3333333333333333"
      ]
     },
     "execution_count": 15,
     "metadata": {},
     "output_type": "execute_result"
    }
   ],
   "source": [
    "inv(3)"
   ]
  },
  {
   "cell_type": "code",
   "execution_count": 16,
   "metadata": {},
   "outputs": [
    {
     "name": "stdout",
     "output_type": "stream",
     "text": [
      "typeof(a) = Complex{Float64}\n",
      "typeof(b) = Complex{Float64}\n"
     ]
    },
    {
     "ename": "MethodError",
     "evalue": "MethodError: no method matching isless(::Complex{Float64}, ::Complex{Float64})\nClosest candidates are:\n  isless(!Matched::Missing, ::Any) at missing.jl:66\n  isless(!Matched::DataValues.DataValue{Union{}}, ::Any) at C:\\Users\\lucasresck\\.julia\\packages\\DataValues\\SNSrX\\src\\scalar\\core.jl:262\n  isless(!Matched::DataValues.DataValue{S}, ::T) where {S, T} at C:\\Users\\lucasresck\\.julia\\packages\\DataValues\\SNSrX\\src\\scalar\\core.jl:256\n  ...",
     "output_type": "error",
     "traceback": [
      "MethodError: no method matching isless(::Complex{Float64}, ::Complex{Float64})\nClosest candidates are:\n  isless(!Matched::Missing, ::Any) at missing.jl:66\n  isless(!Matched::DataValues.DataValue{Union{}}, ::Any) at C:\\Users\\lucasresck\\.julia\\packages\\DataValues\\SNSrX\\src\\scalar\\core.jl:262\n  isless(!Matched::DataValues.DataValue{S}, ::T) where {S, T} at C:\\Users\\lucasresck\\.julia\\packages\\DataValues\\SNSrX\\src\\scalar\\core.jl:256\n  ...",
      "",
      "Stacktrace:",
      " [1] top-level scope at show.jl:555",
      " [2] top-level scope at In[16]:5"
     ]
    }
   ],
   "source": [
    "a = 1.8 + 9im\n",
    "b = 2.8 - 0im\n",
    "@show typeof(a)\n",
    "@show typeof(b)\n",
    "@show isless(a, b)"
   ]
  },
  {
   "cell_type": "code",
   "execution_count": 17,
   "metadata": {},
   "outputs": [],
   "source": [
    "Base.isless(a::Complex, b::Complex) = \"Hey, it's not possible to calculate! Sorry :) Take this gently string\""
   ]
  },
  {
   "cell_type": "code",
   "execution_count": 18,
   "metadata": {},
   "outputs": [
    {
     "name": "stdout",
     "output_type": "stream",
     "text": [
      "isless(1, 2) = true\n",
      "isless(a, b) = \"Hey, it's not possible to calculate! Sorry :) Take this gently string\"\n"
     ]
    },
    {
     "data": {
      "text/plain": [
       "\"Hey, it's not possible to calculate! Sorry :) Take this gently string\""
      ]
     },
     "execution_count": 18,
     "metadata": {},
     "output_type": "execute_result"
    }
   ],
   "source": [
    "@show isless(1, 2)\n",
    "@show isless(a, b)"
   ]
  },
  {
   "cell_type": "code",
   "execution_count": 19,
   "metadata": {},
   "outputs": [
    {
     "name": "stdout",
     "output_type": "stream",
     "text": [
      "\u001b[32m\u001b[1m  Updating\u001b[22m\u001b[39m registry at `C:\\Users\\lucasresck\\.julia\\registries\\General`\n",
      "\u001b[32m\u001b[1m  Updating\u001b[22m\u001b[39m git-repo `https://github.com/JuliaRegistries/General.git`\n",
      "\u001b[?25l\u001b[2K\u001b[?25h\u001b[32m\u001b[1m Resolving\u001b[22m\u001b[39m package versions...\n",
      "\u001b[32m\u001b[1m  Updating\u001b[22m\u001b[39m `C:\\Users\\lucasresck\\Documents\\PSR-internship\\Notebooks\\Learning\\.projects\\QuantEconLecturePackages-v0.9.5\\Project.toml`\n",
      "\u001b[90m [no changes]\u001b[39m\n",
      "\u001b[32m\u001b[1m  Updating\u001b[22m\u001b[39m `C:\\Users\\lucasresck\\Documents\\PSR-internship\\Notebooks\\Learning\\.projects\\QuantEconLecturePackages-v0.9.5\\Manifest.toml`\n",
      "\u001b[90m [no changes]\u001b[39m\n"
     ]
    },
    {
     "name": "stderr",
     "output_type": "stream",
     "text": [
      "\u001b[32mComputing...100%|███████████████████████████████████████| Time: 0:00:06\u001b[39m\n"
     ]
    }
   ],
   "source": [
    "using Pkg\n",
    "Pkg.add(\"ProgressMeter\")\n",
    "using ProgressMeter\n",
    "\n",
    "@showprogress 1 \"Computing...\" for i in 1:50\n",
    "    sleep(0.1) # some computation....\n",
    "end"
   ]
  },
  {
   "cell_type": "code",
   "execution_count": null,
   "metadata": {},
   "outputs": [
    {
     "name": "stderr",
     "output_type": "stream",
     "text": [
      "\u001b[32mProgress:  98%|█████████████████████████████████████████|  ETA: 0:00:00\u001b[39m"
     ]
    }
   ],
   "source": [
    "@showprogress for i in 1:100000000\n",
    "end"
   ]
  },
  {
   "cell_type": "code",
   "execution_count": null,
   "metadata": {},
   "outputs": [],
   "source": []
  }
 ],
 "metadata": {
  "kernelspec": {
   "display_name": "Julia 1.0.3",
   "language": "julia",
   "name": "julia-1.0"
  },
  "language_info": {
   "file_extension": ".jl",
   "mimetype": "application/julia",
   "name": "julia",
   "version": "1.0.3"
  }
 },
 "nbformat": 4,
 "nbformat_minor": 2
}
