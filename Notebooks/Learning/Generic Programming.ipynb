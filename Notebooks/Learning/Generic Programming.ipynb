{
 "cells": [
  {
   "cell_type": "code",
   "execution_count": 1,
   "metadata": {},
   "outputs": [
    {
     "name": "stderr",
     "output_type": "stream",
     "text": [
      "┌ Warning: On Windows, creating file symlinks requires Administrator privileges\n",
      "└ @ Base.Filesystem file.jl:789\n"
     ]
    }
   ],
   "source": [
    "using InstantiateFromURL\n",
    "\n",
    "# activate the QuantEcon environment\n",
    "activate_github(\"QuantEcon/QuantEconLecturePackages\", tag = \"v0.9.5\");"
   ]
  },
  {
   "cell_type": "code",
   "execution_count": 2,
   "metadata": {},
   "outputs": [],
   "source": [
    "using LinearAlgebra, Statistics, Compat\n",
    "using Distributions, StatPlots, QuadGK, Polynomials, Interpolations"
   ]
  },
  {
   "cell_type": "code",
   "execution_count": 3,
   "metadata": {},
   "outputs": [
    {
     "data": {
      "text/plain": [
       "subtypetree (generic function with 3 methods)"
      ]
     },
     "execution_count": 3,
     "metadata": {},
     "output_type": "execute_result"
    }
   ],
   "source": [
    "function subtypetree(t, level=1, indent=4)\n",
    "    if level == 1\n",
    "        println(t)\n",
    "    end\n",
    "    for s in subtypes(t)\n",
    "        println(join(fill(\" \", level * indent)) * string(s))  # print type\n",
    "        subtypetree(s, level+1, indent)  # recursively print the next type, indenting\n",
    "    end\n",
    "end"
   ]
  },
  {
   "cell_type": "code",
   "execution_count": 4,
   "metadata": {},
   "outputs": [
    {
     "name": "stdout",
     "output_type": "stream",
     "text": [
      "AbstractArray\n",
      "    AbstractInterpolation\n",
      "        Interpolations.AbstractInterpolationWrapper{T,N,ITPT,IT} where IT<:Union{Tuple{Vararg{InterpolationType,N} where N}, InterpolationType} where ITPT where N where T\n",
      "            AbstractExtrapolation{T,N,ITPT,IT} where IT<:Union{Tuple{Vararg{InterpolationType,N} where N}, InterpolationType} where ITPT where N where T\n",
      "                Interpolations.Extrapolation{T,N,ITPT,IT,ET} where ET where IT<:Union{Tuple{Vararg{InterpolationType,N} where N}, InterpolationType} where ITPT where N where T\n",
      "                Interpolations.FilledExtrapolation{T,N,ITP,IT,FT} where FT where IT<:Union{Tuple{Vararg{InterpolationType,N} where N}, InterpolationType} where ITP<:AbstractInterpolation where N where T\n",
      "            ScaledInterpolation{T,N,ITPT,IT,RT} where RT where IT<:Union{Tuple{Vararg{InterpolationType,N} where N}, InterpolationType} where ITPT where N where T\n",
      "        Interpolations.BSplineInterpolation\n",
      "        Interpolations.GriddedInterpolation\n",
      "        Interpolations.MonotonicInterpolation\n",
      "    AbstractRange\n",
      "        LinRange\n",
      "        OrdinalRange\n",
      "            AbstractUnitRange\n",
      "                Base.OneTo\n",
      "                Base.Slice\n",
      "                StaticArrays.SOneTo\n",
      "                UnitRange\n",
      "            StepRange\n",
      "        StepRangeLen\n",
      "    Adjoint\n",
      "    Arpack.AtA_or_AAt\n",
      "    Arpack.SVDAugmented\n",
      "    Base.LogicalIndex\n",
      "    Base.ReinterpretArray\n",
      "    Base.ReshapedArray\n",
      "    Bidiagonal\n",
      "    BitArray\n",
      "    CartesianIndices\n",
      "    Core.Compiler.AbstractRange\n",
      "        Core.Compiler.LinRange\n",
      "        Core.Compiler.OrdinalRange\n",
      "            Core.Compiler.AbstractUnitRange\n",
      "                Core.Compiler.OneTo\n",
      "                Core.Compiler.Slice\n",
      "                Core.Compiler.StmtRange\n",
      "                Core.Compiler.UnitRange\n",
      "            Core.Compiler.StepRange\n",
      "        Core.Compiler.StepRangeLen\n",
      "    Core.Compiler.BitArray\n",
      "    Core.Compiler.LinearIndices\n",
      "    DataStructures.CircularBuffer\n",
      "    DataValues.DataValueArray\n",
      "    DenseArray\n",
      "        Array\n",
      "        Base.CodeUnits\n",
      "        FFTW.FakeArray\n",
      "        Random.UnsafeView\n",
      "        SharedArrays.SharedArray\n",
      "        SuiteSparse.CHOLMOD.Dense\n",
      "    Diagonal\n",
      "    ForwardDiff.Partials\n",
      "    Hermitian\n",
      "    JSON.Parser.PushVector\n",
      "    LinearAlgebra.AbstractQ\n",
      "        LinearAlgebra.HessenbergQ\n",
      "        LinearAlgebra.QRCompactWYQ\n",
      "        LinearAlgebra.QRPackedQ\n",
      "        SuiteSparse.SPQR.QRSparseQ\n",
      "    LinearAlgebra.AbstractTriangular\n",
      "        LowerTriangular\n",
      "        UnitLowerTriangular\n",
      "        UnitUpperTriangular\n",
      "        UpperTriangular\n",
      "    LinearAlgebra.LQPackedQ\n",
      "    LinearIndices\n",
      "    OffsetArrays.OffsetArray\n",
      "    PermutedDimsArray\n",
      "    SparseArrays.AbstractSparseArray\n",
      "        SparseArrays.SparseMatrixCSC\n",
      "        SparseArrays.SparseVector\n",
      "        SuiteSparse.CHOLMOD.Sparse\n",
      "    StaticArrays.StaticArray\n",
      "        SUnitRange\n",
      "        StaticArrays.FieldVector\n",
      "        StaticArrays.FixedSizeArraysWillBeRemoved.Point\n",
      "        StaticArrays.FixedSizeArraysWillBeRemoved.Vec\n",
      "        StaticArrays.MArray\n",
      "        StaticArrays.SArray\n",
      "        StaticArrays.SizedArray\n",
      "    StaticArrays.TrivialView\n",
      "    StatsBase.AbstractWeights\n",
      "        StatsBase.AnalyticWeights\n",
      "        StatsBase.FrequencyWeights\n",
      "        StatsBase.ProbabilityWeights\n",
      "        StatsBase.Weights\n",
      "    SubArray\n",
      "    SuiteSparse.CHOLMOD.FactorComponent\n",
      "    SymTridiagonal\n",
      "    Symmetric\n",
      "    Test.GenericArray\n",
      "    Transpose\n",
      "    Tridiagonal\n",
      "    ZMQ.Message\n"
     ]
    }
   ],
   "source": [
    "subtypetree(AbstractArray)"
   ]
  },
  {
   "cell_type": "markdown",
   "metadata": {},
   "source": [
    "Stoped at Unlearning Object Oriented (OO) Programming (Advanced)"
   ]
  }
 ],
 "metadata": {
  "kernelspec": {
   "display_name": "Julia 1.0.3",
   "language": "julia",
   "name": "julia-1.0"
  },
  "language_info": {
   "file_extension": ".jl",
   "mimetype": "application/julia",
   "name": "julia",
   "version": "1.0.3"
  }
 },
 "nbformat": 4,
 "nbformat_minor": 2
}
