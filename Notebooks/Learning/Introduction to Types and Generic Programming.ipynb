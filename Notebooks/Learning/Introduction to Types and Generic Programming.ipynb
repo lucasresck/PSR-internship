{
 "cells": [
  {
   "cell_type": "code",
   "execution_count": 1,
   "metadata": {},
   "outputs": [
    {
     "name": "stderr",
     "output_type": "stream",
     "text": [
      "┌ Warning: On Windows, creating file symlinks requires Administrator privileges\n",
      "└ @ Base.Filesystem file.jl:789\n"
     ]
    },
    {
     "name": "stdout",
     "output_type": "stream",
     "text": [
      "\u001b[92m\u001b[1mDownloading \u001b[22m\u001b[39mQuantEcon/QuantEconLecturePackages-v0.9.5 → C:\\Users\\lucasresck\\Documents\\PSR-internship\\Notebooks\\Learning\\.projects\n",
      "\n",
      "7-Zip [64] 16.04 : Copyright (c) 1999-2016 Igor Pavlov : 2016-10-04\n",
      "\n",
      "\n",
      "Extracting archive: \n",
      "--\n",
      "Path = \n",
      "Type = tar\n",
      "Code Page = UTF-8\n",
      "\n",
      "Everything is Ok\n",
      "\n",
      "Folders: 1\n",
      "Files: 5\n",
      "Size:       25594\n",
      "Compressed: 13824\n",
      "\u001b[92m\u001b[1mInstantiating \u001b[22m\u001b[39mC:\\Users\\lucasresck\\Documents\\PSR-internship\\Notebooks\\Learning\\.projects\\QuantEconLecturePackages-v0.9.5\n",
      "\u001b[32m\u001b[1m  Updating\u001b[22m\u001b[39m registry at `C:\\Users\\lucasresck\\.julia\\registries\\General`\n",
      "\u001b[32m\u001b[1m  Updating\u001b[22m\u001b[39m git-repo `https://github.com/JuliaRegistries/General.git`\n",
      "\u001b[2K\u001b[?25h[1mFetching:\u001b[22m\u001b[39m [========================================>]  100.0 %.0 %.7 %25.0 %\u001b[32m\u001b[1mPrecompiling\u001b[22m\u001b[39m project...\n"
     ]
    }
   ],
   "source": [
    "using InstantiateFromURL\n",
    "\n",
    "# activate the QuantEcon environment\n",
    "activate_github(\"QuantEcon/QuantEconLecturePackages\", tag = \"v0.9.5\");"
   ]
  },
  {
   "cell_type": "code",
   "execution_count": 2,
   "metadata": {},
   "outputs": [],
   "source": [
    "using LinearAlgebra, Statistics, Compat"
   ]
  },
  {
   "cell_type": "code",
   "execution_count": 3,
   "metadata": {},
   "outputs": [
    {
     "data": {
      "text/plain": [
       "false"
      ]
     },
     "execution_count": 3,
     "metadata": {},
     "output_type": "execute_result"
    }
   ],
   "source": [
    "Int64 <: Float64 <: Real"
   ]
  },
  {
   "cell_type": "code",
   "execution_count": 4,
   "metadata": {},
   "outputs": [
    {
     "data": {
      "text/plain": [
       "true"
      ]
     },
     "execution_count": 4,
     "metadata": {},
     "output_type": "execute_result"
    }
   ],
   "source": [
    "Int64 <: Real <: Number <: Any"
   ]
  },
  {
   "cell_type": "code",
   "execution_count": 5,
   "metadata": {},
   "outputs": [
    {
     "name": "stdout",
     "output_type": "stream",
     "text": [
      "Int64 <: Signed <: Integer <: Real <: Number <: Any"
     ]
    }
   ],
   "source": [
    "using Base: show_supertypes  # import the function from the `Base` package\n",
    "\n",
    "show_supertypes(Int64)"
   ]
  },
  {
   "cell_type": "code",
   "execution_count": 9,
   "metadata": {},
   "outputs": [
    {
     "name": "stdout",
     "output_type": "stream",
     "text": [
      "subtypes(Any) = Any[AbstractArray, AbstractChannel, AbstractChar, AbstractDict, AbstractDisplay, AbstractSet, AbstractString, Any, AbstractCartesianIndex, AbstractCmd, ArithmeticStyle, AsyncCollector, AsyncCollectorState, AsyncCondition, AsyncGenerator, AsyncGeneratorState, Keyword, BitMaskedBitArray, BroadcastStyle, Broadcasted, Extruded, CREDUI_INFO, LReplace, CodegenParams, AbstractLogger, LogLevel, LogState, CyclePadding, DataTypeLayout, DimSelector, Binding, DocStr, MultiDoc, EachLine, EachStringIndex, FileRedirect, StatStruct, uv_dirent_t, GC_Diff, GC_Num, Generator, GitVersionInfo, Bignum, Float, IOServer, InterpreterIP, IteratorEltype, IteratorSize, AbstractZipIterator, Count, Cycle, Drop, Enumerate, Filter, Flatten, IterationCutShort, PartitionIterator, ProductIterator, Repeated, Rest, Reverse, Stateful, Take, JLOptions, FILE, TimeVal, TmStruct, WindowsRawSocket, DoubleFloat32, DoubleFloat64, MethodList, MultiplicativeInverse, Ordering, OrderStyle, Padding, PaddingError, PkgId, Prehashed, RangeStepStyle, RegexMatchIterator, ReshapedArrayIterator, ReshapedIndex, SHA1, Semaphore, SkipMissing, Algorithm, StackFrame, SummarySize, CPUinfo, UV_cpu_info_t, AbstractLock, Atomic, TwicePrecision, UUID, GraphemeIterator, ValueIterator, Buffer, CompilerABI, LineStream, OutputCollector, Platform, Prefix, Product, Condition, Box, CodeInfo, AbstractDict, AbstractSet, Argument, ArithmeticStyle, BBIdxIter, BasicBlock, BlockLiveness, CFG, CFGInliningState, CodegenParams, Conditional, Const, ConstantCase, DataTypeLayout, DelayedTyp, DomTree, DomTreeNode, DominatedBlocks, DynamicCase, ExponentialBackOff, Generator, GotoIfNot, IRCode, IncrementalCompact, IndexStyle, InferenceResult, InferenceState, InliningTodo, InterpreterIP, InvokeData, IteratorEltype, IteratorSize, AbstractZipIterator, Count, Cycle, Drop, Enumerate, Filter, Flatten, IterationCutShort, PartitionIterator, ProductIterator, Repeated, Rest, Reverse, Stateful, Take, JLOptions, LiftedPhi, MaybeUndef, MethodList, Missing, NewNode, NewSSAValue, NotFound, OOBToken, OldSSAValue, OptimizationState, Ordering, OrderStyle, Pair, Params, PartialTypeVar, RangeStepStyle, ReturnNode, SSADefUse, SimpleCartesian, SlotInfo, Some, Algorithm, StateUpdate, TypesView, UndefToken, UnionSplit, UnionSplitSignature, UseRef, UseRefIterator, Val, ValueIterator, VarState, GeneratedFunctionStub, GotoNode, LineInfoNode, MethodInstance, MethodTable, NewvarNode, PhiCNode, PhiNode, PiNode, SSAValue, SimpleVector, Slot, TypeMapEntry, TypeMapLevel, TypeName, UpsilonNode, Cstring, Cwstring, AbstractDateToken, AbstractTime, DateFormat, DateFunction, DateLocale, DayOfWeekToken, Decimal3, TimeZone, DLMHandler, AbstractMsg, AbstractRemoteRef, AbstractWorkerPool, ClusterManager, LocalProcess, MsgHeader, ProcessGroup, RRID, RemoteValue, Worker, WorkerConfig, Enum, Exception, ExponentialBackOff, Expr, Factorization, FDEvent, FDWatcher, FileEvent, FileMonitor, FolderMonitor, PollingFileWatcher, _FDWatcher, Function, GlobalRef, HTML, Comm, Msg, IO, IndexStyle, ParserContext, ParserState, Serialization, CompositeTypeWrapper, JSONText, AbstractCredential, AbstractGitHash, AbstractGitObject, BlameHunk, BlameOptions, Buffer, CachedCredentials, CheckoutOptions, CherrypickOptions, CloneOptions, CloneOptionsStruct, ConfigEntry, CredentialPayload, DescribeFormatOptions, DescribeOptions, DiffDelta, DiffFile, DiffOptionsStruct, ErrorStruct, FetchHead, FetchOptions, FetchOptionsStruct, GitCredential, GitCredentialHelper, IndexEntry, IndexTime, MergeOptions, ProxyOptions, PushOptions, PushOptionsStruct, RebaseOperation, RebaseOptions, RemoteCallbacks, RemoteCallbacksStruct, Signature, SignatureStruct, State, StatusEntry, StatusOptions, StrArrayStruct, TimeStruct, TransferProgress, LineNumberNode, AbstractRotation, MIME, Admonition, BlockQuote, Bold, Code, Config, Footnote, Header, HorizontalRule, Image, Italic, LaTeX, LineBreak, Link, List, MD, Paragraph, Table, CRT, Cipher, CipherInfo, Entropy, MDInfo, PKContext, RSA, SSLConfig, mbedtls_mpi, mbedtls_rsa_context, Method, Missing, Module, NamedTuple, Nothing, Number, Pair, DiffEntry, InProject, VerInfo, MiniProgressBar, Graph, GraphData, ResolveLog, ResolveLogEntry, VersionInterval, VersionSet, Line, ArgSpec, CommandSpec, CompletionCache, Option, OptionSpec, PkgCommand, QuotedWord, Rev, Statement, FieldValue, MaxSumParams, Messages, NodePerm, SolutionTrace, VersionWeight, Parser, Table, Context, EnvCache, Fixed, GitRepo, PackageSpec, VersionBound, VersionRange, VersionSpec, ProfileFormat, StackFrameTree, QuoteNode, AbstractREPL, CompletionProvider, HistoryProvider, InputAreaState, KeyAlias, MIState, ModeState, TextInterface, Options, REPLBackend, REPLBackendRef, Completion, AbstractMenu, AbstractRNG, DSFMT_state, GF2X, FloatInterval, Sampler, UniformBits, RawFD, ReentrantLock, Ref, Regex, RegexMatch, RoundingMode, HMAC_CTX, SHA_CTX, AbstractSerializer, IPAddr, InetAddr, Some, CapturedScalars, SuiteSparseStruct, Symbol, Task, AbstractTestSet, ExecutionResult, Ignored, LogRecord, Result, Text, Timer, Tuple, Type, TypeVar, UndefInitializer, UniformScaling, Val, Vararg, VecElement, VersionNumber, WeakRef, Context, Socket, _Message]\n"
     ]
    }
   ],
   "source": [
    "@show subtypes(Any);"
   ]
  },
  {
   "cell_type": "code",
   "execution_count": 15,
   "metadata": {},
   "outputs": [
    {
     "data": {
      "text/plain": [
       "Foo4{Int64,Int64,Adjoint{Float64,Array{Float64,1}}}(2, 3, [1.0 2.0 3.0])"
      ]
     },
     "execution_count": 15,
     "metadata": {},
     "output_type": "execute_result"
    }
   ],
   "source": [
    "\n",
    "a = 2\n",
    "b = 3\n",
    "c = [1.0, 2.0, 3.0]'\n",
    "foo = Foo4(a, b, c) # no problem, and high performance"
   ]
  },
  {
   "cell_type": "code",
   "execution_count": 16,
   "metadata": {},
   "outputs": [
    {
     "data": {
      "text/plain": [
       "2"
      ]
     },
     "execution_count": 16,
     "metadata": {},
     "output_type": "execute_result"
    }
   ],
   "source": [
    "foo.a"
   ]
  },
  {
   "cell_type": "code",
   "execution_count": 17,
   "metadata": {},
   "outputs": [
    {
     "data": {
      "text/plain": [
       "2.0"
      ]
     },
     "execution_count": 17,
     "metadata": {},
     "output_type": "execute_result"
    }
   ],
   "source": [
    "foo.c[2]"
   ]
  },
  {
   "cell_type": "code",
   "execution_count": 18,
   "metadata": {},
   "outputs": [],
   "source": [
    "using StaticArrays"
   ]
  },
  {
   "cell_type": "code",
   "execution_count": 24,
   "metadata": {},
   "outputs": [
    {
     "name": "stdout",
     "output_type": "stream",
     "text": [
      "search: \u001b[0m\u001b[1mS\u001b[22m\u001b[0m\u001b[1mA\u001b[22m\u001b[0m\u001b[1mr\u001b[22m\u001b[0m\u001b[1mr\u001b[22m\u001b[0m\u001b[1ma\u001b[22m\u001b[0m\u001b[1my\u001b[22m @\u001b[0m\u001b[1mS\u001b[22m\u001b[0m\u001b[1mA\u001b[22m\u001b[0m\u001b[1mr\u001b[22m\u001b[0m\u001b[1mr\u001b[22m\u001b[0m\u001b[1ma\u001b[22m\u001b[0m\u001b[1my\u001b[22m \u001b[0m\u001b[1mS\u001b[22mub\u001b[0m\u001b[1mA\u001b[22m\u001b[0m\u001b[1mr\u001b[22m\u001b[0m\u001b[1mr\u001b[22m\u001b[0m\u001b[1ma\u001b[22m\u001b[0m\u001b[1my\u001b[22m Den\u001b[0m\u001b[1ms\u001b[22me\u001b[0m\u001b[1mA\u001b[22m\u001b[0m\u001b[1mr\u001b[22m\u001b[0m\u001b[1mr\u001b[22m\u001b[0m\u001b[1ma\u001b[22m\u001b[0m\u001b[1my\u001b[22m \u001b[0m\u001b[1mS\u001b[22mized\u001b[0m\u001b[1mA\u001b[22m\u001b[0m\u001b[1mr\u001b[22m\u001b[0m\u001b[1mr\u001b[22m\u001b[0m\u001b[1ma\u001b[22m\u001b[0m\u001b[1my\u001b[22m PermutedDim\u001b[0m\u001b[1ms\u001b[22m\u001b[0m\u001b[1mA\u001b[22m\u001b[0m\u001b[1mr\u001b[22m\u001b[0m\u001b[1mr\u001b[22m\u001b[0m\u001b[1ma\u001b[22m\u001b[0m\u001b[1my\u001b[22m\n",
      "\n"
     ]
    },
    {
     "data": {
      "text/latex": [
       "\\begin{verbatim}\n",
       "SArray{S, T, L}(x::NTuple{L, T})\n",
       "SArray{S, T, L}(x1, x2, x3, ...)\n",
       "\\end{verbatim}\n",
       "Construct a statically-sized array \\texttt{SArray}. Since this type is immutable, the data must be provided upon construction and cannot be mutated later. The \\texttt{S} parameter is a Tuple-type specifying the dimensions, or size, of the array - such as \\texttt{Tuple\\{3,4,5\\}} for a 3×4×5-sized array. The \\texttt{L} parameter is the \\texttt{length} of the array and is always equal to \\texttt{prod(S)}. Constructors may drop the \\texttt{L} and \\texttt{T} parameters if they are inferrable from the input (e.g. \\texttt{L} is always inferrable from \\texttt{S}).\n",
       "\n",
       "\\begin{verbatim}\n",
       "SArray{S}(a::Array)\n",
       "\\end{verbatim}\n",
       "Construct a statically-sized array of dimensions \\texttt{S} (expressed as a \\texttt{Tuple\\{...\\}}) using the data from \\texttt{a}. The \\texttt{S} parameter is mandatory since the size of \\texttt{a} is unknown to the compiler (the element type may optionally also be specified).\n",
       "\n"
      ],
      "text/markdown": [
       "```\n",
       "SArray{S, T, L}(x::NTuple{L, T})\n",
       "SArray{S, T, L}(x1, x2, x3, ...)\n",
       "```\n",
       "\n",
       "Construct a statically-sized array `SArray`. Since this type is immutable, the data must be provided upon construction and cannot be mutated later. The `S` parameter is a Tuple-type specifying the dimensions, or size, of the array - such as `Tuple{3,4,5}` for a 3×4×5-sized array. The `L` parameter is the `length` of the array and is always equal to `prod(S)`. Constructors may drop the `L` and `T` parameters if they are inferrable from the input (e.g. `L` is always inferrable from `S`).\n",
       "\n",
       "```\n",
       "SArray{S}(a::Array)\n",
       "```\n",
       "\n",
       "Construct a statically-sized array of dimensions `S` (expressed as a `Tuple{...}`) using the data from `a`. The `S` parameter is mandatory since the size of `a` is unknown to the compiler (the element type may optionally also be specified).\n"
      ],
      "text/plain": [
       "\u001b[36m  SArray{S, T, L}(x::NTuple{L, T})\u001b[39m\n",
       "\u001b[36m  SArray{S, T, L}(x1, x2, x3, ...)\u001b[39m\n",
       "\n",
       "  Construct a statically-sized array \u001b[36mSArray\u001b[39m. Since this type is immutable, the\n",
       "  data must be provided upon construction and cannot be mutated later. The \u001b[36mS\u001b[39m\n",
       "  parameter is a Tuple-type specifying the dimensions, or size, of the array -\n",
       "  such as \u001b[36mTuple{3,4,5}\u001b[39m for a 3×4×5-sized array. The \u001b[36mL\u001b[39m parameter is the \u001b[36mlength\u001b[39m\n",
       "  of the array and is always equal to \u001b[36mprod(S)\u001b[39m. Constructors may drop the \u001b[36mL\u001b[39m and\n",
       "  \u001b[36mT\u001b[39m parameters if they are inferrable from the input (e.g. \u001b[36mL\u001b[39m is always\n",
       "  inferrable from \u001b[36mS\u001b[39m).\n",
       "\n",
       "\u001b[36m  SArray{S}(a::Array)\u001b[39m\n",
       "\n",
       "  Construct a statically-sized array of dimensions \u001b[36mS\u001b[39m (expressed as a\n",
       "  \u001b[36mTuple{...}\u001b[39m) using the data from \u001b[36ma\u001b[39m. The \u001b[36mS\u001b[39m parameter is mandatory since the\n",
       "  size of \u001b[36ma\u001b[39m is unknown to the compiler (the element type may optionally also\n",
       "  be specified)."
      ]
     },
     "execution_count": 24,
     "metadata": {},
     "output_type": "execute_result"
    }
   ],
   "source": [
    "?SArray"
   ]
  },
  {
   "cell_type": "code",
   "execution_count": 34,
   "metadata": {},
   "outputs": [
    {
     "data": {
      "text/plain": [
       "3-element SArray{Tuple{3},Int64,1,3}:\n",
       " 1\n",
       " 1\n",
       " 1"
      ]
     },
     "execution_count": 34,
     "metadata": {},
     "output_type": "execute_result"
    }
   ],
   "source": [
    "SVector{3}([1, 1, 1])"
   ]
  },
  {
   "cell_type": "code",
   "execution_count": 36,
   "metadata": {},
   "outputs": [
    {
     "name": "stdout",
     "output_type": "stream",
     "text": [
      "  94.213 ns (1 allocation: 112 bytes)\n",
      "  2.565 ns (0 allocations: 0 bytes)\n",
      "  769.782 ns (5 allocations: 1.98 KiB)\n",
      "  23.093 ns (0 allocations: 0 bytes)\n"
     ]
    },
    {
     "data": {
      "text/plain": [
       "3×3 SArray{Tuple{3,3},Float64,2,9}:\n",
       " -0.29161    5.96125  -4.42065\n",
       "  0.103015  -7.54675   7.35387\n",
       "  1.53516    7.19978  -7.6964 "
      ]
     },
     "execution_count": 36,
     "metadata": {},
     "output_type": "execute_result"
    }
   ],
   "source": [
    "using BenchmarkTools\n",
    "\n",
    "N = 3\n",
    "A = rand(N, N)\n",
    "A_2 = SMatrix{N, N}(rand(N, N))\n",
    "x = rand(N)\n",
    "x_2 = SVector{N}(rand(N))\n",
    "\n",
    "@btime $A * $x  # the $ in front of variable names is sometimes important\n",
    "@btime $A_2 * $x_2  # the $ in front of variable names is sometimes important\n",
    "@btime inv($A)\n",
    "@btime inv($A_2)"
   ]
  },
  {
   "cell_type": "code",
   "execution_count": 37,
   "metadata": {},
   "outputs": [
    {
     "data": {
      "text/plain": [
       "StaticArray{Tuple{S},T,1} where T where S"
      ]
     },
     "execution_count": 37,
     "metadata": {},
     "output_type": "execute_result"
    }
   ],
   "source": [
    "supertype(SVector)"
   ]
  },
  {
   "cell_type": "code",
   "execution_count": 40,
   "metadata": {},
   "outputs": [
    {
     "ename": "UndefVarError",
     "evalue": "UndefVarError: show_supertype not defined",
     "output_type": "error",
     "traceback": [
      "UndefVarError: show_supertype not defined",
      "",
      "Stacktrace:",
      " [1] top-level scope at In[40]:1"
     ]
    }
   ],
   "source": [
    "show_supertype(SVector)"
   ]
  },
  {
   "cell_type": "code",
   "execution_count": 46,
   "metadata": {},
   "outputs": [
    {
     "name": "stdout",
     "output_type": "stream",
     "text": [
      "search: \u001b[0m\u001b[1mS\u001b[22m\u001b[0m\u001b[1mt\u001b[22m\u001b[0m\u001b[1ma\u001b[22m\u001b[0m\u001b[1mt\u001b[22m\u001b[0m\u001b[1mi\u001b[22m\u001b[0m\u001b[1mc\u001b[22m\u001b[0m\u001b[1mA\u001b[22m\u001b[0m\u001b[1mr\u001b[22m\u001b[0m\u001b[1mr\u001b[22m\u001b[0m\u001b[1ma\u001b[22m\u001b[0m\u001b[1my\u001b[22m \u001b[0m\u001b[1mS\u001b[22m\u001b[0m\u001b[1mt\u001b[22m\u001b[0m\u001b[1ma\u001b[22m\u001b[0m\u001b[1mt\u001b[22m\u001b[0m\u001b[1mi\u001b[22m\u001b[0m\u001b[1mc\u001b[22m\u001b[0m\u001b[1mA\u001b[22m\u001b[0m\u001b[1mr\u001b[22m\u001b[0m\u001b[1mr\u001b[22m\u001b[0m\u001b[1ma\u001b[22m\u001b[0m\u001b[1my\u001b[22ms \u001b[0m\u001b[1mS\u001b[22m\u001b[0m\u001b[1mt\u001b[22m\u001b[0m\u001b[1ma\u001b[22m\u001b[0m\u001b[1mt\u001b[22m\u001b[0m\u001b[1mi\u001b[22m\u001b[0m\u001b[1mc\u001b[22mM\u001b[0m\u001b[1ma\u001b[22mt\u001b[0m\u001b[1mr\u001b[22mix \u001b[0m\u001b[1mS\u001b[22m\u001b[0m\u001b[1mt\u001b[22m\u001b[0m\u001b[1ma\u001b[22m\u001b[0m\u001b[1mt\u001b[22m\u001b[0m\u001b[1mi\u001b[22m\u001b[0m\u001b[1mc\u001b[22mSc\u001b[0m\u001b[1ma\u001b[22mla\u001b[0m\u001b[1mr\u001b[22m\n",
      "\n"
     ]
    },
    {
     "data": {
      "text/latex": [
       "\\begin{verbatim}\n",
       "abstract type StaticArray{S, T, N} <: AbstractArray{T, N} end\n",
       "StaticScalar{T}     = StaticArray{Tuple{}, T, 0}\n",
       "StaticVector{N,T}   = StaticArray{Tuple{N}, T, 1}\n",
       "StaticMatrix{N,M,T} = StaticArray{Tuple{N,M}, T, 2}\n",
       "\\end{verbatim}\n",
       "\\texttt{StaticArray}s are Julia arrays with fixed, known size.\n",
       "\n",
       "\\subsection{Dev docs}\n",
       "They must define the following methods:\n",
       "\n",
       "\\begin{itemize}\n",
       "\\item Constructors that accept a flat tuple of data.\n",
       "\n",
       "\n",
       "\\item \\texttt{getindex()} with an integer (linear indexing) (preferably \\texttt{@inline} with \\texttt{@boundscheck}).\n",
       "\n",
       "\n",
       "\\item \\texttt{Tuple()}, returning the data in a flat Tuple.\n",
       "\n",
       "\\end{itemize}\n",
       "It may be useful to implement:\n",
       "\n",
       "\\begin{itemize}\n",
       "\\item \\texttt{similar\\_type(::Type\\{MyStaticArray\\}, ::Type\\{NewElType\\}, ::Size\\{NewSize\\})}, returning a type (or type constructor) that accepts a flat tuple of data.\n",
       "\n",
       "\\end{itemize}\n",
       "For mutable containers you may also need to define the following:\n",
       "\n",
       "\\begin{itemize}\n",
       "\\item \\texttt{setindex!} for a single element (linear indexing).\n",
       "\n",
       "\n",
       "\\item \\texttt{similar(::Type\\{MyStaticArray\\}, ::Type\\{NewElType\\}, ::Size\\{NewSize\\})}.\n",
       "\n",
       "\n",
       "\\item In some cases, a zero-parameter constructor, \\texttt{MyStaticArray\\{...\\}()} for unintialized data is assumed to exist.\n",
       "\n",
       "\\end{itemize}\n",
       "(see also \\texttt{SVector}, \\texttt{SMatrix}, \\texttt{SArray}, \\texttt{MVector}, \\texttt{MMatrix}, \\texttt{MArray}, \\texttt{SizedArray} and \\texttt{FieldVector})\n",
       "\n"
      ],
      "text/markdown": [
       "```\n",
       "abstract type StaticArray{S, T, N} <: AbstractArray{T, N} end\n",
       "StaticScalar{T}     = StaticArray{Tuple{}, T, 0}\n",
       "StaticVector{N,T}   = StaticArray{Tuple{N}, T, 1}\n",
       "StaticMatrix{N,M,T} = StaticArray{Tuple{N,M}, T, 2}\n",
       "```\n",
       "\n",
       "`StaticArray`s are Julia arrays with fixed, known size.\n",
       "\n",
       "## Dev docs\n",
       "\n",
       "They must define the following methods:\n",
       "\n",
       "  * Constructors that accept a flat tuple of data.\n",
       "  * `getindex()` with an integer (linear indexing) (preferably `@inline` with `@boundscheck`).\n",
       "  * `Tuple()`, returning the data in a flat Tuple.\n",
       "\n",
       "It may be useful to implement:\n",
       "\n",
       "  * `similar_type(::Type{MyStaticArray}, ::Type{NewElType}, ::Size{NewSize})`, returning a type (or type constructor) that accepts a flat tuple of data.\n",
       "\n",
       "For mutable containers you may also need to define the following:\n",
       "\n",
       "  * `setindex!` for a single element (linear indexing).\n",
       "  * `similar(::Type{MyStaticArray}, ::Type{NewElType}, ::Size{NewSize})`.\n",
       "  * In some cases, a zero-parameter constructor, `MyStaticArray{...}()` for unintialized data is assumed to exist.\n",
       "\n",
       "(see also `SVector`, `SMatrix`, `SArray`, `MVector`, `MMatrix`, `MArray`, `SizedArray` and `FieldVector`)\n"
      ],
      "text/plain": [
       "\u001b[36m  abstract type StaticArray{S, T, N} <: AbstractArray{T, N} end\u001b[39m\n",
       "\u001b[36m  StaticScalar{T}     = StaticArray{Tuple{}, T, 0}\u001b[39m\n",
       "\u001b[36m  StaticVector{N,T}   = StaticArray{Tuple{N}, T, 1}\u001b[39m\n",
       "\u001b[36m  StaticMatrix{N,M,T} = StaticArray{Tuple{N,M}, T, 2}\u001b[39m\n",
       "\n",
       "  \u001b[36mStaticArray\u001b[39ms are Julia arrays with fixed, known size.\n",
       "\n",
       "\u001b[1m  Dev docs\u001b[22m\n",
       "\u001b[1m  ==========\u001b[22m\n",
       "\n",
       "  They must define the following methods:\n",
       "\n",
       "    •    Constructors that accept a flat tuple of data.\n",
       "\n",
       "    •    \u001b[36mgetindex()\u001b[39m with an integer (linear indexing) (preferably \u001b[36m@inline\u001b[39m\n",
       "        with \u001b[36m@boundscheck\u001b[39m).\n",
       "\n",
       "    •    \u001b[36mTuple()\u001b[39m, returning the data in a flat Tuple.\n",
       "\n",
       "  It may be useful to implement:\n",
       "\n",
       "    •    \u001b[36msimilar_type(::Type{MyStaticArray}, ::Type{NewElType},\n",
       "        ::Size{NewSize})\u001b[39m, returning a type (or type constructor) that\n",
       "        accepts a flat tuple of data.\n",
       "\n",
       "  For mutable containers you may also need to define the following:\n",
       "\n",
       "    •    \u001b[36msetindex!\u001b[39m for a single element (linear indexing).\n",
       "\n",
       "    •    \u001b[36msimilar(::Type{MyStaticArray}, ::Type{NewElType},\n",
       "        ::Size{NewSize})\u001b[39m.\n",
       "\n",
       "    •    In some cases, a zero-parameter constructor, \u001b[36mMyStaticArray{...}()\u001b[39m\n",
       "        for unintialized data is assumed to exist.\n",
       "\n",
       "  (see also \u001b[36mSVector\u001b[39m, \u001b[36mSMatrix\u001b[39m, \u001b[36mSArray\u001b[39m, \u001b[36mMVector\u001b[39m, \u001b[36mMMatrix\u001b[39m, \u001b[36mMArray\u001b[39m, \u001b[36mSizedArray\u001b[39m and\n",
       "  \u001b[36mFieldVector\u001b[39m)"
      ]
     },
     "execution_count": 46,
     "metadata": {},
     "output_type": "execute_result"
    }
   ],
   "source": [
    "?StaticArray"
   ]
  },
  {
   "cell_type": "code",
   "execution_count": 53,
   "metadata": {},
   "outputs": [
    {
     "data": {
      "text/plain": [
       "Any"
      ]
     },
     "execution_count": 53,
     "metadata": {},
     "output_type": "execute_result"
    }
   ],
   "source": [
    "supertype(supertype(supertype(supertype(SVector))))"
   ]
  },
  {
   "cell_type": "code",
   "execution_count": null,
   "metadata": {},
   "outputs": [],
   "source": []
  }
 ],
 "metadata": {
  "kernelspec": {
   "display_name": "Julia 1.0.3",
   "language": "julia",
   "name": "julia-1.0"
  },
  "language_info": {
   "file_extension": ".jl",
   "mimetype": "application/julia",
   "name": "julia",
   "version": "1.0.3"
  }
 },
 "nbformat": 4,
 "nbformat_minor": 2
}
