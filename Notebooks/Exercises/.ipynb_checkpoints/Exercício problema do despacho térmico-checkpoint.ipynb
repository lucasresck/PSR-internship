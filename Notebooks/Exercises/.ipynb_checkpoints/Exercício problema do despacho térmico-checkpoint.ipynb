{
 "cells": [
  {
   "cell_type": "markdown",
   "metadata": {},
   "source": [
    "# Problema do despacho térmico"
   ]
  },
  {
   "cell_type": "markdown",
   "metadata": {},
   "source": [
    "Existem n usinas e cada usina i tem capacidade máxima G_i e custo c_i. Dada uma demanda d, qual a melhor maneira de escolher as capacidades de operação g_i de cada usina de modo a minimizar o custo C?"
   ]
  },
  {
   "cell_type": "markdown",
   "metadata": {},
   "source": [
    "Uma ideia é usar a capacidade das usinas mais baratas até que a demanda seja suprida."
   ]
  },
  {
   "cell_type": "code",
   "execution_count": 8,
   "metadata": {},
   "outputs": [
    {
     "name": "stdout",
     "output_type": "stream",
     "text": [
      "used = Any[(1, 100), (2, 200), (3, 20)]\n"
     ]
    }
   ],
   "source": [
    "G_i = [100, 200, 50]\n",
    "c_i = [1, 2, 3]\n",
    "d = 320\n",
    "\n",
    "Gc = collect(zip(G_i, c_i))\n",
    "sort!(Gc, by = x -> x[2])\n",
    "used = []\n",
    "i = 1\n",
    "\n",
    "while d > 0\n",
    "    if d >= Gc[1][1]\n",
    "        d -= Gc[1][1]\n",
    "        push!(used, (i, (popfirst!(Gc))[1]))\n",
    "        i += 1\n",
    "    else\n",
    "        push!(used, (i, d))\n",
    "        d = 0\n",
    "    end\n",
    "end\n",
    "\n",
    "@show used;"
   ]
  }
 ],
 "metadata": {
  "kernelspec": {
   "display_name": "Julia 1.0.3",
   "language": "julia",
   "name": "julia-1.0"
  },
  "language_info": {
   "file_extension": ".jl",
   "mimetype": "application/julia",
   "name": "julia",
   "version": "1.0.3"
  }
 },
 "nbformat": 4,
 "nbformat_minor": 2
}
