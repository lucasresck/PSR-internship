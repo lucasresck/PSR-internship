{
 "cells": [
  {
   "cell_type": "code",
   "execution_count": 2,
   "metadata": {},
   "outputs": [
    {
     "name": "stderr",
     "output_type": "stream",
     "text": [
      "┌ Info: Recompiling stale cache file C:\\Users\\lucasresck\\.julia\\compiled\\v1.0\\Xpress\\1jRVj.ji for Xpress [9e70acf3-d6c9-5be6-b5bd-4e2c73e3e054]\n",
      "└ @ Base loading.jl:1190\n",
      "┌ Info: Xpress: Found license file xpauth.xpr\n",
      "└ @ Xpress C:\\Users\\lucasresck\\.julia\\packages\\Xpress\\Jdi4R\\src\\xprs_userlic.jl:43\n",
      "┌ Info: Xpress: User license detected.\n",
      "└ @ Xpress C:\\Users\\lucasresck\\.julia\\packages\\Xpress\\Jdi4R\\src\\xprs_userlic.jl:98\n",
      "┌ Info: Xpress-MP licensed by Fair Isaac Corporation to PSR for PSR applications\n",
      "└ @ Xpress C:\\Users\\lucasresck\\.julia\\packages\\Xpress\\Jdi4R\\src\\xprs_userlic.jl:99\n"
     ]
    }
   ],
   "source": [
    "using DataFrames\n",
    "using JuMP, Cbc, Xpress"
   ]
  },
  {
   "cell_type": "code",
   "execution_count": 8,
   "metadata": {},
   "outputs": [],
   "source": [
    "#Valores padrão\n",
    "G = [10, 5, 20, 18, 23, 32, 7, 12, 10, 20, 17, 32, 12, 13, 17]\n",
    "d = [238, 220, 187, 175, 135, 127, 144, 165, 193, 205, 213, 233]\n",
    "R = [33, 46, 32, 27, 10, 8, 20, 21, 37, 41, 27, 27]\n",
    "θ = 0.2\n",
    "Ns = 10\n",
    "K = Int.(ones(length(G)))\n",
    "cg = Int.(zeros(length(G)))\n",
    "\n",
    "d_array = [[Int(round(d * 0.7)) for d in d]]\n",
    "for scenario in 2:Ns\n",
    "    push!(d_array, [Int(round(d * (0.4 + 0.6 * rand()))) for d in d])\n",
    "end\n",
    "dsR = hcat(d_array...);"
   ]
  },
  {
   "cell_type": "markdown",
   "metadata": {},
   "source": [
    "# 1.8 Probabilidade de falha"
   ]
  },
  {
   "cell_type": "markdown",
   "metadata": {},
   "source": [
    "## 1.8.1 Soma de variáveis aleatórias"
   ]
  },
  {
   "cell_type": "markdown",
   "metadata": {},
   "source": [
    "Dadas duas variáveis independentes $X$ e $Y$ e suas probabilidades $f_X(x)$ e $f_Y(y)$, respectivamente, como calcular $f_Z(z)$ onde $Z = X + Y$?"
   ]
  },
  {
   "cell_type": "markdown",
   "metadata": {},
   "source": [
    "Calculamos a probabilidade conjunta $f(x, y) = f_X(x)f_Y(y)$.\n",
    "\n",
    "Seguimos com $F_Z(z) = P(Z \\leq z) = P(X + Y \\leq z) = \\int\\int_{R}f(x, y)dA$, com $R$ definida pela região $X + Y \\leq z$. Temos, portanto, a probabilidade acumulada de $X + Y \\leq z$.\n",
    "\n",
    "Temos também $F_Z(z) = \\int_{-\\infty}^z f_Z(t)dt$. Deriva-se $F_Z(z)$ encontrado e tem-se $f_Z(z)$."
   ]
  },
  {
   "cell_type": "markdown",
   "metadata": {},
   "source": [
    "## 1.8.2 Implementação para $2$ usinas"
   ]
  },
  {
   "cell_type": "markdown",
   "metadata": {},
   "source": [
    "Uma implementação possível para duas usinas é calcular a priori as probabilidades para todos os casos de manutenção. \n",
    "\n",
    "$f_i$ é uma variável auxiliar que indica que a usina $i$ está em manutenção ($0$ corresponde à manutenção); $P_c$ é a probabilidade da demanda ser suprida em um dado cenário de manutenção; $P_j$ é a probabilidade da demanda ser suprida no cenário de manutenção $j$; $\\gamma_j$ é uma variável auxiliar da convolução. Segue:\n",
    "\n",
    "$$min\\ \\ G_{disp}$$\n",
    "\n",
    "$$s.a.\\ \\ G_{disp} = \\sum G_i f_i$$\n",
    "$$P_c \\geq \\epsilon$$\n",
    "$$P_c = \\sum_{j = 0} P_j \\gamma_j$$\n",
    "$$\\sum_{j = 0} \\gamma_j = 1$$\n",
    "\n",
    "$$\\gamma_j \\geq 0, \\forall j$$\n",
    "$$\\gamma_0 \\geq 1 - f_1 - f_2$$\n",
    "$$\\gamma_1 \\geq f_1 - f_2$$\n",
    "$$\\gamma_2 \\geq f_2 - f_1$$\n",
    "$$\\gamma_3 \\geq f_1 + f_2 - 1$$\n",
    "\n",
    "Sendo assim, como $\\sum_{j = 0} \\gamma_j = 1$, apenas um $\\gamma_j$ será $1$, de modo que $P_c = \\sum_{i = 0} P_i \\gamma_i$ será igual a apenas um $P_j \\gamma_j$. Ou seja, o solver escolhe aquele caso (ou um daqueles casos) em que $P_j \\geq \\epsilon$."
   ]
  },
  {
   "cell_type": "markdown",
   "metadata": {},
   "source": [
    "Sejam duas usinas com capacidades disponíveis $G_1 = 30$ e $G_2 = 40$ e uma demanda $D = 35$."
   ]
  },
  {
   "cell_type": "code",
   "execution_count": 3,
   "metadata": {},
   "outputs": [],
   "source": [
    "G8_2 = [30, 40]\n",
    "D8_2 = 35\n",
    "p8_2 = [0.5, 0.5]\n",
    "ϵ8_2 = 0.3 #Probabilidade de falha de cada gerador\n",
    "nplants8_2 = length(G8_2)\n",
    "nmonths8_2 = size(D8_2);"
   ]
  },
  {
   "cell_type": "code",
   "execution_count": 4,
   "metadata": {},
   "outputs": [
    {
     "data": {
      "text/html": [
       "<table class=\"data-frame\"><thead><tr><th></th><th>usinas</th><th>probabilidade</th></tr><tr><th></th><th>Any</th><th>Float64⍰</th></tr></thead><tbody><p>4 rows × 2 columns</p><tr><th>1</th><td>0</td><td>0.0</td></tr><tr><th>2</th><td>1</td><td>0.0</td></tr><tr><th>3</th><td>2</td><td>0.5</td></tr><tr><th>4</th><td>[1, 2]</td><td>missing</td></tr></tbody></table>"
      ],
      "text/latex": [
       "\\begin{tabular}{r|cc}\n",
       "\t& usinas & probabilidade\\\\\n",
       "\t\\hline\n",
       "\t1 & 0 & 0.0 \\\\\n",
       "\t2 & 1 & 0.0 \\\\\n",
       "\t3 & 2 & 0.5 \\\\\n",
       "\t4 & [1, 2] &  \\\\\n",
       "\\end{tabular}\n"
      ],
      "text/plain": [
       "4×2 DataFrame\n",
       "│ Row │ usinas │ probabilidade │\n",
       "│     │ \u001b[90mAny\u001b[39m    │ \u001b[90mFloat64⍰\u001b[39m      │\n",
       "├─────┼────────┼───────────────┤\n",
       "│ 1   │ 0      │ 0.0           │\n",
       "│ 2   │ 1      │ 0.0           │\n",
       "│ 3   │ 2      │ 0.5           │\n",
       "│ 4   │ [1, 2] │ \u001b[90mmissing\u001b[39m       │"
      ]
     },
     "execution_count": 4,
     "metadata": {},
     "output_type": "execute_result"
    }
   ],
   "source": [
    "tabela8_2 = DataFrames.DataFrame(usinas = [0, 1, 2, [1,2]], probabilidade = [0, 0, 0.5, missing])"
   ]
  },
  {
   "cell_type": "code",
   "execution_count": 5,
   "metadata": {},
   "outputs": [
    {
     "data": {
      "text/html": [
       "<table class=\"data-frame\"><thead><tr><th></th><th>usinas</th><th>probabilidade</th></tr><tr><th></th><th>Any</th><th>Float64⍰</th></tr></thead><tbody><p>4 rows × 2 columns</p><tr><th>1</th><td>0</td><td>0.0</td></tr><tr><th>2</th><td>1</td><td>0.0</td></tr><tr><th>3</th><td>2</td><td>0.5</td></tr><tr><th>4</th><td>[1, 2]</td><td>0.5</td></tr></tbody></table>"
      ],
      "text/latex": [
       "\\begin{tabular}{r|cc}\n",
       "\t& usinas & probabilidade\\\\\n",
       "\t\\hline\n",
       "\t1 & 0 & 0.0 \\\\\n",
       "\t2 & 1 & 0.0 \\\\\n",
       "\t3 & 2 & 0.5 \\\\\n",
       "\t4 & [1, 2] & 0.5 \\\\\n",
       "\\end{tabular}\n"
      ],
      "text/plain": [
       "4×2 DataFrame\n",
       "│ Row │ usinas │ probabilidade │\n",
       "│     │ \u001b[90mAny\u001b[39m    │ \u001b[90mFloat64⍰\u001b[39m      │\n",
       "├─────┼────────┼───────────────┤\n",
       "│ 1   │ 0      │ 0.0           │\n",
       "│ 2   │ 1      │ 0.0           │\n",
       "│ 3   │ 2      │ 0.5           │\n",
       "│ 4   │ [1, 2] │ 0.5           │"
      ]
     },
     "execution_count": 5,
     "metadata": {},
     "output_type": "execute_result"
    }
   ],
   "source": [
    "F_Z8_2 = 0\n",
    "for X in [0, 1]\n",
    "    for Y in [0, 1]\n",
    "        Z = G8_2[1] * X + G8_2[2] * Y\n",
    "        if Z < D8_2\n",
    "            F_Z8_2 += (X + (-1)^X * p8_2[1]) * (Y + (-1)^Y * p8_2[2])\n",
    "        end\n",
    "    end\n",
    "end\n",
    "tabela8_2.probabilidade[4] = 1 - F_Z8_2\n",
    "tabela8_2"
   ]
  },
  {
   "cell_type": "code",
   "execution_count": 6,
   "metadata": {},
   "outputs": [],
   "source": [
    "m8_2 = Model(solver = Xpress.XpressSolver())\n",
    "\n",
    "@variable(m8_2, f[1:nplants8_2], Bin)\n",
    "@variable(m8_2, γ[1:nplants8_2^2], Bin)\n",
    "@variable(m8_2, G_disp)\n",
    "@variable(m8_2, Pc)\n",
    "\n",
    "@constraint(m8_2, G_disp == sum(G8_2 .* f))\n",
    "@constraint(m8_2, Pc >= ϵ8_2)\n",
    "@constraint(m8_2, Pc == sum(tabela8_2.probabilidade .* γ))\n",
    "@constraint(m8_2, sum(γ) == 1)\n",
    "\n",
    "@constraint(m8_2, γ[1] >= 1 - f[1] - f[2])\n",
    "@constraint(m8_2, γ[2] >= f[1] - f[2])\n",
    "@constraint(m8_2, γ[3] >= f[2] - f[1])\n",
    "@constraint(m8_2, γ[4] >= f[1] + f[2] - 1)\n",
    "\n",
    "@objective(m8_2, Min, G_disp);"
   ]
  },
  {
   "cell_type": "code",
   "execution_count": 7,
   "metadata": {},
   "outputs": [
    {
     "name": "stdout",
     "output_type": "stream",
     "text": [
      "  4.455951 seconds (10.74 M allocations: 524.182 MiB, 5.49% gc time)\n",
      "getvalue(f) = [-0.0, 1.0]\n",
      "getvalue(γ) = [-0.0, -0.0, 1.0, -0.0]\n",
      "getvalue(G_disp) = 40.0\n",
      "getvalue(Pc) = 0.5\n"
     ]
    }
   ],
   "source": [
    "@time solve(m8_2)\n",
    "@show getvalue(f)\n",
    "@show getvalue(γ)\n",
    "@show getvalue(G_disp)\n",
    "@show getvalue(Pc);"
   ]
  },
  {
   "cell_type": "markdown",
   "metadata": {},
   "source": [
    "## 1.8.3 Implementação para $n$ usinas"
   ]
  },
  {
   "cell_type": "markdown",
   "metadata": {},
   "source": [
    "Calcula-se a priori as probabilidades para todos os casos de manutenção. \n",
    "\n",
    "$f_i$ é uma variável auxiliar que indica que a usina $i$ está em manutenção ($0$ corresponde à manutenção); $P_c$ é a probabilidade da demanda ser suprida em um dado cenário de manutenção; $P_j$ é a probabilidade da demanda ser suprida no cenário de manutenção $j$; $\\gamma_j$ é uma variável auxiliar para o cálculo. Segue:\n",
    "\n",
    "$$min\\ \\ G_{disp}$$\n",
    "\n",
    "$$s.a.\\ \\ G_{disp} = \\sum G_i f_i$$\n",
    "$$P_c \\geq \\epsilon$$\n",
    "$$P_c = \\sum_{j = 0} P_j \\gamma_j$$\n",
    "$$\\sum_{j = 0} \\gamma_j = 1$$\n",
    "\n",
    "$$\\gamma_j \\geq 0, \\forall j$$\n",
    "$$\\gamma_j \\geq \\sum_{k \\in K_j} f_k - \\sum_{m \\in M_j} f_m - |K_j| + 1, \\ \\ \\forall j$$\n",
    "\n",
    "sendo $K_j$ o conjunto de usinas disponíveis no cenário de manutenção $j$, $M_j$ o conjunto de usinas em manutenção no cenário $j$ e $|K_j|$ o número de usinas disponíveis no cenário $j$."
   ]
  },
  {
   "cell_type": "code",
   "execution_count": 60,
   "metadata": {},
   "outputs": [],
   "source": [
    "G8_3 = G\n",
    "D8_3 = 180\n",
    "ϵ8_3 = 0.5\n",
    "p8_3 = rand(0:5, 15) ./ 10\n",
    "nplants8_3 = length(G8_3);"
   ]
  },
  {
   "cell_type": "code",
   "execution_count": 12,
   "metadata": {},
   "outputs": [],
   "source": [
    "function prob(G, p, D)\n",
    "    F_Z = 0\n",
    "    nplants = length(G)\n",
    "    for config in 0:(2^nplants - 1) #Para cada configuração de falha\n",
    "        config_bin = Base.bin(Unsigned(config), nplants, false) #Converte para binário\n",
    "        X = [parse(Int, config_bin[end - plant + 1]) for plant in 1:nplants] #Converte para array\n",
    "        Z = sum(G .* X)            \n",
    "        if Z < D\n",
    "            F_Z += prod(X .+ (-1).^X .* p)\n",
    "        end\n",
    "    end\n",
    "    return 1 - F_Z\n",
    "end;"
   ]
  },
  {
   "cell_type": "code",
   "execution_count": 13,
   "metadata": {},
   "outputs": [],
   "source": [
    "function tabela(G, p, D)\n",
    "    nplants = length(G)\n",
    "    tabela = zeros(2^nplants, 2)\n",
    "    tabela = convert(Array{Any}, tabela)\n",
    "    \n",
    "    for config in 0:(2^nplants - 1)\n",
    "        config_bin = Base.bin(Unsigned(config), nplants, false)\n",
    "        tabela[config + 1, 1] = config_bin\n",
    "        G_aux = []\n",
    "        p_aux = []\n",
    "        for plant in 1:nplants\n",
    "            if config_bin[end + 1 - plant] == '1'\n",
    "                push!(G_aux, G[plant])\n",
    "                push!(p_aux, p[plant])\n",
    "            end\n",
    "        end\n",
    "        if length(G_aux) == 0 #Se o número de usinas é zero\n",
    "            probability = 0.0\n",
    "        else\n",
    "            probability = prob(G_aux, p_aux, D)\n",
    "        end\n",
    "        tabela[config + 1, 2] = probability\n",
    "    end\n",
    "    return tabela\n",
    "end;     "
   ]
  },
  {
   "cell_type": "code",
   "execution_count": 63,
   "metadata": {},
   "outputs": [
    {
     "name": "stdout",
     "output_type": "stream",
     "text": [
      " 42.323979 seconds (630.65 M allocations: 18.762 GiB, 14.21% gc time)\n"
     ]
    }
   ],
   "source": [
    "@time tabela8_3 = tabela(G8_3, p8_3, D8_3);"
   ]
  },
  {
   "cell_type": "code",
   "execution_count": 64,
   "metadata": {},
   "outputs": [],
   "source": [
    "m8_3 = Model(solver = Xpress.XpressSolver())\n",
    "\n",
    "@variable(m8_3, G_disp)\n",
    "@variable(m8_3, f[1:nplants8_3], Bin)\n",
    "@variable(m8_3, Pc)\n",
    "@variable(m8_3, γ[1:2^nplants8_3], Bin)\n",
    "\n",
    "@constraint(m8_3, G_disp == sum(G8_3 .* f))\n",
    "@constraint(m8_3, Pc >= ϵ8_3)\n",
    "@constraint(m8_3, Pc == sum(tabela8_3[:, 2] .* γ))\n",
    "@constraint(m8_3, sum(γ) == 1)\n",
    "\n",
    "for j in 0:(2^nplants8_3 - 1)\n",
    "    j_bin = Base.bin(Unsigned(j), nplants8_3, false)\n",
    "    j_array = [parse(Int, j_bin[end + 1 - plant]) for plant in 1:nplants8_3]\n",
    "    @constraint(m8_3, γ[j + 1] >= sum((-1)^(1 + j_array[plant]) * f[plant] for plant in 1:nplants8_3) + 1 - count_ones(j))\n",
    "end\n",
    "\n",
    "@objective(m8_3, Min, G_disp);"
   ]
  },
  {
   "cell_type": "code",
   "execution_count": 65,
   "metadata": {},
   "outputs": [
    {
     "name": "stdout",
     "output_type": "stream",
     "text": [
      "108.498203 seconds (159 allocations: 59.733 MiB, 0.08% gc time)\n",
      "getvalue(f) = [1.0, 1.0, 1.0, 1.0, 1.0, 1.0, -0.0, -0.0, 1.0, 1.0, -0.0, 1.0, 1.0, 1.0, 1.0]\n",
      "getvalue(G_disp) = 212.0\n",
      "getvalue(Pc) = 0.5007467520000002\n"
     ]
    }
   ],
   "source": [
    "@time solve(m8_3)\n",
    "@show getvalue(f)\n",
    "#@show getvalue(γ)\n",
    "@show getvalue(G_disp)\n",
    "@show getvalue(Pc);"
   ]
  },
  {
   "cell_type": "markdown",
   "metadata": {},
   "source": [
    "## 1.8.4 Método de Monte Carlo"
   ]
  },
  {
   "cell_type": "markdown",
   "metadata": {},
   "source": [
    "O cálculo da probabilidade utilizando o Método de Monte Carlo consiste em simular repetidamente o processo aleatório de falha das usinas, utilizando suas probabilidades de falha, e verificar se a demanda é suprida em cada caso. A probabilidade da demanda ser suprida é aproximadamente a razão entre o número de casos em que a demanda foi suprida na simulação e o número total de casos."
   ]
  },
  {
   "cell_type": "code",
   "execution_count": 75,
   "metadata": {},
   "outputs": [],
   "source": [
    "G8_4 = G8_2\n",
    "p8_4 = p8_2\n",
    "D8_4 = D8_2;"
   ]
  },
  {
   "cell_type": "code",
   "execution_count": 76,
   "metadata": {},
   "outputs": [],
   "source": [
    "function prob_MC(G, p, D, n)\n",
    "    nplants = length(G)\n",
    "    count = 0\n",
    "    for i in 1:n\n",
    "        Z = 0\n",
    "        for plant in 1:nplants\n",
    "            if rand() > p[plant]\n",
    "                Z += G[plant]\n",
    "            end\n",
    "        end\n",
    "        if Z >= D\n",
    "            count += 1\n",
    "        end\n",
    "    end\n",
    "    return count / n\n",
    "end;"
   ]
  },
  {
   "cell_type": "code",
   "execution_count": 77,
   "metadata": {},
   "outputs": [],
   "source": [
    "function tabela_MC(G, p, D; n = 1000)\n",
    "    nplants = length(G)\n",
    "    tabela = zeros(2^nplants, 2)\n",
    "    tabela = convert(Array{Any}, tabela)\n",
    "    \n",
    "    for config in 0:(2^nplants - 1)\n",
    "        config_bin = Base.bin(Unsigned(config), nplants, false)\n",
    "        tabela[config + 1, 1] = config_bin\n",
    "        G_aux = []\n",
    "        p_aux = []\n",
    "        for plant in 1:nplants\n",
    "            if config_bin[end + 1 - plant] == '1'\n",
    "                push!(G_aux, G[plant])\n",
    "                push!(p_aux, p[plant])\n",
    "            end\n",
    "        end\n",
    "        if length(G_aux) == 0 #Se o número de usinas é zero\n",
    "            probability = 0.0\n",
    "        else\n",
    "            probability = prob_MC(G_aux, p_aux, D, n)\n",
    "        end\n",
    "        tabela[config + 1, 2] = probability\n",
    "    end\n",
    "    return tabela\n",
    "end;     "
   ]
  },
  {
   "cell_type": "code",
   "execution_count": 78,
   "metadata": {},
   "outputs": [
    {
     "data": {
      "text/plain": [
       "4×2 Array{Any,2}:\n",
       " \"00\"  0.0   \n",
       " \"01\"  0.0   \n",
       " \"10\"  0.4985\n",
       " \"11\"  0.5049"
      ]
     },
     "execution_count": 78,
     "metadata": {},
     "output_type": "execute_result"
    }
   ],
   "source": [
    "tabela8_4 = tabela_MC(G8_4, p8_4, D8_4, n = 10000)"
   ]
  },
  {
   "cell_type": "code",
   "execution_count": 79,
   "metadata": {},
   "outputs": [],
   "source": [
    "G8_4_2 = G8_3\n",
    "p8_4_2 = p8_3\n",
    "D8_4_2 = D8_3;"
   ]
  },
  {
   "cell_type": "code",
   "execution_count": 80,
   "metadata": {},
   "outputs": [
    {
     "name": "stdout",
     "output_type": "stream",
     "text": [
      " 12.792011 seconds (246.38 M allocations: 3.686 GiB, 8.20% gc time)\n"
     ]
    }
   ],
   "source": [
    "@time tabela8_4_2 = tabela_MC(G8_4_2, p8_4_2, D8_4_2);"
   ]
  },
  {
   "cell_type": "code",
   "execution_count": 81,
   "metadata": {},
   "outputs": [
    {
     "data": {
      "text/plain": [
       "11×2 Array{Any,2}:\n",
       " \"111111111110101\"  0.570255\n",
       " \"111111111110110\"  0.440335\n",
       " \"111111111110111\"  0.617849\n",
       " \"111111111111000\"  0.344227\n",
       " \"111111111111001\"  0.45702 \n",
       " \"111111111111010\"  0.374594\n",
       " \"111111111111011\"  0.509708\n",
       " \"111111111111100\"  0.595364\n",
       " \"111111111111101\"  0.736939\n",
       " \"111111111111110\"  0.625351\n",
       " \"111111111111111\"  0.767043"
      ]
     },
     "execution_count": 81,
     "metadata": {},
     "output_type": "execute_result"
    }
   ],
   "source": [
    "tabela8_3[(end - 10):end, :]"
   ]
  },
  {
   "cell_type": "code",
   "execution_count": 82,
   "metadata": {},
   "outputs": [
    {
     "data": {
      "text/plain": [
       "11×2 Array{Any,2}:\n",
       " \"111111111110101\"  0.583\n",
       " \"111111111110110\"  0.435\n",
       " \"111111111110111\"  0.614\n",
       " \"111111111111000\"  0.365\n",
       " \"111111111111001\"  0.47 \n",
       " \"111111111111010\"  0.358\n",
       " \"111111111111011\"  0.511\n",
       " \"111111111111100\"  0.595\n",
       " \"111111111111101\"  0.723\n",
       " \"111111111111110\"  0.614\n",
       " \"111111111111111\"  0.769"
      ]
     },
     "execution_count": 82,
     "metadata": {},
     "output_type": "execute_result"
    }
   ],
   "source": [
    "tabela8_4_2[(end - 10):end, :]"
   ]
  },
  {
   "cell_type": "markdown",
   "metadata": {},
   "source": [
    "## 1.8.5 Adição da obrigatoriedade de manutenção e vários estágios"
   ]
  },
  {
   "cell_type": "markdown",
   "metadata": {},
   "source": [
    "Existem vários estágios, digamos, meses, e cada usina deve entrar em manutenção em um estágio. A probabilidade da demanda ser suprida deve ser maior do que ou igual a um parâmetro informado, para todo estágio. Maximiza-se a soma das probabilidades da demanda ser suprida nos estágios."
   ]
  },
  {
   "cell_type": "markdown",
   "metadata": {},
   "source": [
    "Calcula-se a priori as probabilidades para todos os casos de manutenção. \n",
    "\n",
    "$f_i^t$ é uma variável auxiliar que indica que a usina $i$ está em manutenção no estágio $t$ ($0$ corresponde à manutenção); $P_c^t$ é a probabilidade da demanda ser suprida em um dado cenário de manutenção no estágio $t$; $P_j^t$ é a probabilidade da demanda ser suprida no cenário de manutenção $j$, no estágio $t$; $\\gamma_j^t$ é uma variável auxiliar para o cálculo. Segue:\n",
    "\n",
    "$$max\\ \\ \\sum_t P_c^t$$\n",
    "\n",
    "$$s.a.\\ \\ P_c^t \\geq \\epsilon, \\ \\ \\forall t$$\n",
    "$$P_c^t = \\sum_{j = 0} P_j \\gamma_j^t, \\ \\ \\forall t$$\n",
    "$$\\sum_{j = 0} \\gamma_j^t = 1, \\ \\ \\forall t$$\n",
    "$$\\sum_t f_i^t = |T| - 1, \\ \\ \\forall i$$\n",
    "\n",
    "$$\\gamma_j^t \\geq 0, \\forall j, t$$\n",
    "$$\\gamma_j^t \\geq \\sum_{k \\in K_j} f_k^t - \\sum_{m \\in M_j} f_m^t - |K_j| + 1, \\ \\ \\forall j, t$$\n",
    "\n",
    "sendo $T$ o conjunto de estágios, $|T|$ o número de estágios (exemplo, $12$ meses), $K_j$ o conjunto de usinas disponíveis no cenário de manutenção $j$, $M_j$ o conjunto de usinas em manutenção no cenário $j$ e $|K_j|$ o número de usinas disponíveis no cenário $j$."
   ]
  },
  {
   "cell_type": "code",
   "execution_count": 9,
   "metadata": {},
   "outputs": [],
   "source": [
    "G8_5 = G\n",
    "d8_5 = d\n",
    "ϵ8_5 = 0.0\n",
    "nplants8_5 = length(G8_5)\n",
    "N_t8_5 = length(d8_5)\n",
    "p8_5 = rand(0:2, nplants8_5) ./ 10;"
   ]
  },
  {
   "cell_type": "code",
   "execution_count": 10,
   "metadata": {},
   "outputs": [],
   "source": [
    "function tabelas(G, p, d)\n",
    "    N_t = length(d)\n",
    "    tabelas = []\n",
    "    for t in 1:N_t\n",
    "        D = d[t]\n",
    "        push!(tabelas, tabela(G, p, D))\n",
    "    end\n",
    "    return tabelas\n",
    "end;"
   ]
  },
  {
   "cell_type": "code",
   "execution_count": 14,
   "metadata": {},
   "outputs": [
    {
     "name": "stdout",
     "output_type": "stream",
     "text": [
      "536.052364 seconds (7.47 G allocations: 222.897 GiB, 15.43% gc time)\n"
     ]
    }
   ],
   "source": [
    "@time tabelas8_5 = tabelas(G8_5, p8_5, d8_5);"
   ]
  },
  {
   "cell_type": "code",
   "execution_count": 15,
   "metadata": {},
   "outputs": [],
   "source": [
    "m8_5 = Model(solver = Xpress.XpressSolver())\n",
    "\n",
    "@variable(m8_5, f[1:nplants8_5, 1:N_t8_5], Bin)\n",
    "@variable(m8_5, Pc[1:N_t8_5])\n",
    "@variable(m8_5, γ[1:2^nplants8_5, 1:N_t8_5], Bin)\n",
    "\n",
    "for t in 1:N_t8_5\n",
    "    @constraint(m8_5, Pc[t] >= ϵ8_5)\n",
    "    @constraint(m8_5, Pc[t] == sum(tabelas8_5[t][:, 2] .* γ[1:2^nplants8_5, t]))\n",
    "    @constraint(m8_5, sum(γ[1:2^nplants8_5, t]) == 1)\n",
    "end\n",
    "\n",
    "for plant in 1:nplants8_5\n",
    "    @constraint(m8_5, sum(f[plant, 1:N_t8_5]) == N_t8_5 - 1)\n",
    "end\n",
    "for t in 1:N_t8_5\n",
    "    for j in 0:(2^nplants8_5 - 1)\n",
    "        j_bin = Base.bin(Unsigned(j), nplants8_5, false)\n",
    "        j_array = [parse(Int, j_bin[end + 1 - plant]) for plant in 1:nplants8_5]\n",
    "        @constraint(m8_5, γ[j + 1, t] >= sum((-1)^(1 + j_array[plant]) * f[plant, t] for plant in 1:nplants8_5) + 1 - count_ones(j))\n",
    "    end\n",
    "end\n",
    "\n",
    "@objective(m8_5, Max, sum(Pc));"
   ]
  },
  {
   "cell_type": "code",
   "execution_count": null,
   "metadata": {},
   "outputs": [],
   "source": [
    "@time solve(m8_5)\n",
    "@show getvalue(f)\n",
    "@show getvalue(Pc);"
   ]
  },
  {
   "cell_type": "code",
   "execution_count": null,
   "metadata": {},
   "outputs": [],
   "source": []
  }
 ],
 "metadata": {
  "kernelspec": {
   "display_name": "Julia 1.0.3",
   "language": "julia",
   "name": "julia-1.0"
  },
  "language_info": {
   "file_extension": ".jl",
   "mimetype": "application/julia",
   "name": "julia",
   "version": "1.0.3"
  }
 },
 "nbformat": 4,
 "nbformat_minor": 2
}
