{
 "cells": [
  {
   "cell_type": "code",
   "execution_count": 51,
   "metadata": {},
   "outputs": [
    {
     "data": {
      "text/plain": [
       "usines_in_a_year (generic function with 1 method)"
      ]
     },
     "execution_count": 51,
     "metadata": {},
     "output_type": "execute_result"
    }
   ],
   "source": [
    "function usines_in_a_year(data)\n",
    "    sort!(data, rev = true)\n",
    "    schedule = copy(data[1:12])\n",
    "    months = copy(data[1:12])\n",
    "    rest = copy(data[13:end])\n",
    "    schedule[10] += rest[1]\n",
    "    schedule[11] += rest[2]\n",
    "    schedule[12] += rest[3]\n",
    "    new_schedule = copy(schedule)\n",
    "    ijk = [10, 11, 12]\n",
    "    for i in 10:11:12        \n",
    "        new_schedule[i] += rest[1]\n",
    "        for j in 10:11:12\n",
    "            new_schedule[j] += rest[2]\n",
    "            for k in 10:11:12\n",
    "                new_schedule[k] += rest[3]\n",
    "                if max(new_schedule...) < min(schedule...)\n",
    "                    schedule = copy(new_schedule)\n",
    "                    ijk = [i, j, k]\n",
    "                end\n",
    "                new_schedule[k] -= rest[3]                \n",
    "            end\n",
    "            new_schedule[j] -= rest[2]\n",
    "        end\n",
    "        new_schedule[i] -= rest[1]\n",
    "    end\n",
    "    println(months[1:12])\n",
    "    println(\"$(rest[1]) in month $(ijk[1])\")\n",
    "    println(\"$(rest[2]) in month $(ijk[2])\")\n",
    "    println(\"$(rest[3]) in month $(ijk[3])\")\n",
    "end"
   ]
  },
  {
   "cell_type": "code",
   "execution_count": 52,
   "metadata": {},
   "outputs": [
    {
     "name": "stdout",
     "output_type": "stream",
     "text": [
      "[32, 32, 23, 20, 20, 18, 17, 13, 12, 12, 10, 10]\n",
      "7 in month 10\n",
      "7 in month 11\n",
      "5 in month 12\n"
     ]
    }
   ],
   "source": [
    "data = [10, 5, 20, 18, 23, 32, 7, 12, 10, 20, 17, 14, 12, 13, 7]\n",
    "usines_in_a_year(data)"
   ]
  },
  {
   "cell_type": "code",
   "execution_count": 35,
   "metadata": {},
   "outputs": [
    {
     "data": {
      "text/plain": [
       "1"
      ]
     },
     "execution_count": 35,
     "metadata": {},
     "output_type": "execute_result"
    }
   ],
   "source": [
    "min([1, 1, 2]...)"
   ]
  },
  {
   "cell_type": "code",
   "execution_count": null,
   "metadata": {},
   "outputs": [],
   "source": [
    "Uma ideia é distribuir as doze usinas com maiores capacidades nos doze meses. A partir disso, distribuir as usinas restantes de "
   ]
  }
 ],
 "metadata": {
  "kernelspec": {
   "display_name": "Julia 1.0.3",
   "language": "julia",
   "name": "julia-1.0"
  },
  "language_info": {
   "file_extension": ".jl",
   "mimetype": "application/julia",
   "name": "julia",
   "version": "1.0.3"
  }
 },
 "nbformat": 4,
 "nbformat_minor": 2
}
