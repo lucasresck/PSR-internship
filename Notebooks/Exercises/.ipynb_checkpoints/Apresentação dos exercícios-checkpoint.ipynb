{
 "cells": [
  {
   "cell_type": "markdown",
   "metadata": {},
   "source": [
    "# Problema do despacho térmico"
   ]
  },
  {
   "cell_type": "markdown",
   "metadata": {},
   "source": [
    "Existem $n$ usinas termelétricas e cada usina $i$ tem capacidade máxima $G_i$ e custo $c_i$. Dada uma demanda $d$, qual a melhor maneira de escolher as capacidades de operação $g_i$ de cada usina de modo a minimizar o custo $C$?"
   ]
  },
  {
   "cell_type": "markdown",
   "metadata": {},
   "source": [
    "A ideia aqui é esgotar as capacidades de operação $g$ das usinas mais baratas, até atingir a demanda $d$."
   ]
  },
  {
   "cell_type": "code",
   "execution_count": null,
   "metadata": {},
   "outputs": [],
   "source": [
    "import Pkg; Pkg.add(\"DataFrames\")"
   ]
  },
  {
   "cell_type": "code",
   "execution_count": 51,
   "metadata": {},
   "outputs": [
    {
     "data": {
      "text/plain": [
       "despacho_termico (generic function with 1 method)"
      ]
     },
     "execution_count": 51,
     "metadata": {},
     "output_type": "execute_result"
    }
   ],
   "source": [
    "using DataFrames\n",
    "\n",
    "function despacho_termico(G_i, c_i, d)\n",
    "    is = collect(range(1, stop = length(G_i)))\n",
    "    Gc = collect(zip(is, G_i, c_i))\n",
    "    sort!(Gc, by = x -> x[3])\n",
    "    used = []\n",
    "    while d > 0\n",
    "        if d >= Gc[1][2]\n",
    "            d -= Gc[1][2]\n",
    "            bye = popfirst!(Gc)\n",
    "            push!(used, bye)\n",
    "        else\n",
    "            push!(used, (Gc[1][1], d, Gc[1][3]))\n",
    "            d = 0\n",
    "        end\n",
    "    end\n",
    "    sort!(used, by = x -> x[1])\n",
    "    usines = DataFrame(usines = (used -> used[1]).(used), capacity_used = (used -> used[2]).(used), cost = (used -> used[3]).(used))\n",
    "    return usines\n",
    "end"
   ]
  },
  {
   "cell_type": "code",
   "execution_count": 55,
   "metadata": {},
   "outputs": [
    {
     "data": {
      "text/html": [
       "<table class=\"data-frame\"><thead><tr><th></th><th>usines</th><th>capacity_used</th><th>cost</th></tr><tr><th></th><th>Int64</th><th>Int64</th><th>Int64</th></tr></thead><tbody><p>6 rows × 3 columns</p><tr><th>1</th><td>1</td><td>100</td><td>2</td></tr><tr><th>2</th><td>2</td><td>50</td><td>100</td></tr><tr><th>3</th><td>3</td><td>50</td><td>1</td></tr><tr><th>4</th><td>4</td><td>10</td><td>1</td></tr><tr><th>5</th><td>5</td><td>109</td><td>1</td></tr><tr><th>6</th><td>6</td><td>1</td><td>99</td></tr></tbody></table>"
      ],
      "text/latex": [
       "\\begin{tabular}{r|ccc}\n",
       "\t& usines & capacity\\_used & cost\\\\\n",
       "\t\\hline\n",
       "\t1 & 1 & 100 & 2 \\\\\n",
       "\t2 & 2 & 50 & 100 \\\\\n",
       "\t3 & 3 & 50 & 1 \\\\\n",
       "\t4 & 4 & 10 & 1 \\\\\n",
       "\t5 & 5 & 109 & 1 \\\\\n",
       "\t6 & 6 & 1 & 99 \\\\\n",
       "\\end{tabular}\n"
      ],
      "text/plain": [
       "6×3 DataFrame\n",
       "│ Row │ usines │ capacity_used │ cost  │\n",
       "│     │ \u001b[90mInt64\u001b[39m  │ \u001b[90mInt64\u001b[39m         │ \u001b[90mInt64\u001b[39m │\n",
       "├─────┼────────┼───────────────┼───────┤\n",
       "│ 1   │ 1      │ 100           │ 2     │\n",
       "│ 2   │ 2      │ 50            │ 100   │\n",
       "│ 3   │ 3      │ 50            │ 1     │\n",
       "│ 4   │ 4      │ 10            │ 1     │\n",
       "│ 5   │ 5      │ 109           │ 1     │\n",
       "│ 6   │ 6      │ 1             │ 99    │"
      ]
     },
     "execution_count": 55,
     "metadata": {},
     "output_type": "execute_result"
    }
   ],
   "source": [
    "G_i = [100, 200, 50, 10, 109, 1] #Usinas i na ordem\n",
    "c_i = [2, 100, 1, 1, 1, 99]\n",
    "d = 320\n",
    "\n",
    "used = despacho_termico(G_i, c_i, d)"
   ]
  },
  {
   "cell_type": "markdown",
   "metadata": {},
   "source": [
    "# Problema da maximização da capacidade disponível mínima do ano (agenda de manutenção)"
   ]
  },
  {
   "cell_type": "markdown",
   "metadata": {},
   "source": [
    "Dado um conjunto de capacidades máximas $G_i$ de usinas $i$, a soma das capacidades das usinas que estão operando em um determinado mês é a capacidade disponível desse mês. Cada usina deve entrar em manutenção uma vez por ano. Deve-se distribuir as as paradas de manutenção das usinas durante um ano em uma agenda de manutenção, de modo que a $\\textbf{menor das capacidades disponíveis dos meses seja maximizada}$."
   ]
  },
  {
   "cell_type": "markdown",
   "metadata": {},
   "source": [
    "A ideia neste caso é distribuir as doze usinas com maiores capacidades nos doze meses. A partir disso, distribuir as usinas restantes, cada uma, no mês que atualmente tem maior capacidade disponível."
   ]
  },
  {
   "cell_type": "code",
   "execution_count": 81,
   "metadata": {},
   "outputs": [],
   "source": [
    "#=function usines_in_a_year2(G)\n",
    "    G = copy(G)\n",
    "    capacity = sum(G)\n",
    "    sort!(G, rev = true)\n",
    "    months = [[month, capacity - G[month], G[month]] for month in 1:12]\n",
    "    G = copy(G[13:end])\n",
    "    for usine in G\n",
    "        sort!(months, by = month -> month[2], rev = true)\n",
    "        push!(months[1], usine)\n",
    "        months[1][2] -= usine\n",
    "    end\n",
    "    sort!(months, by = month -> month[1])\n",
    "    months = DataFrame(month = (month -> month[1]).(months), available_capacity = (month -> month[2]).(months), capacities_used = (month -> month[3:end]).(months))\n",
    "    return months\n",
    "end=#"
   ]
  },
  {
   "cell_type": "code",
   "execution_count": 87,
   "metadata": {},
   "outputs": [
    {
     "name": "stdout",
     "output_type": "stream",
     "text": [
      "\u001b[32m\u001b[1m Resolving\u001b[22m\u001b[39m package versions...\n",
      "\u001b[32m\u001b[1m Installed\u001b[22m\u001b[39m RandomNumbers ─ v1.0.3\n",
      "\u001b[32m\u001b[1m  Updating\u001b[22m\u001b[39m `C:\\Users\\lucasresck\\.julia\\environments\\v1.0\\Project.toml`\n",
      " \u001b[90m [e6cf234a]\u001b[39m\u001b[92m + RandomNumbers v1.0.3\u001b[39m\n",
      "\u001b[32m\u001b[1m  Updating\u001b[22m\u001b[39m `C:\\Users\\lucasresck\\.julia\\environments\\v1.0\\Manifest.toml`\n",
      " \u001b[90m [e6cf234a]\u001b[39m\u001b[92m + RandomNumbers v1.0.3\u001b[39m\n",
      "\u001b[32m\u001b[1m  Building\u001b[22m\u001b[39m RandomNumbers → `C:\\Users\\lucasresck\\.julia\\packages\\RandomNumbers\\cr9ta\\deps\\build.log`\n"
     ]
    }
   ],
   "source": [
    "import Pkg; Pkg.add(\"RandomNumbers\")"
   ]
  },
  {
   "cell_type": "code",
   "execution_count": 123,
   "metadata": {},
   "outputs": [
    {
     "data": {
      "text/plain": [
       "usines_in_a_year2 (generic function with 1 method)"
      ]
     },
     "execution_count": 123,
     "metadata": {},
     "output_type": "execute_result"
    }
   ],
   "source": [
    "using Random\n",
    "\n",
    "function usines_in_a_year2(G)\n",
    "    capacity = sum(G)\n",
    "    is = collect(range(1, stop = length(G)))\n",
    "    G = collect(zip(is, G))\n",
    "    sort!(G, by = G -> G[2], rev = true)\n",
    "    months = [[month, capacity - G[usine][2], [G[usine][2]], [G[usine][1]]] for (month, usine) in zip(collect(1:12), shuffle(collect(1:12)))]\n",
    "    println(months)\n",
    "    G = copy(G[13:end])\n",
    "    for usine in G\n",
    "        sort!(months, by = month -> month[2], rev = true)\n",
    "        push!(months[1][3], usine[2])\n",
    "        push!(months[1][4], usine[1])\n",
    "        months[1][2] -= usine[2]\n",
    "    end\n",
    "    sort!(months, by = month -> month[1])\n",
    "    months = DataFrame(month = (month -> month[1]).(months), available_capacity = (month -> month[2]).(months), capacities_used = (month -> month[3]).(months), usines_used = (month -> month[4]).(months))\n",
    "    return months\n",
    "end"
   ]
  },
  {
   "cell_type": "code",
   "execution_count": 124,
   "metadata": {},
   "outputs": [
    {
     "name": "stdout",
     "output_type": "stream",
     "text": [
      "Array{Any,1}[[1, 221, [17], [11]], [2, 228, [10], [1]], [3, 226, [12], [8]], [4, 226, [12], [13]], [5, 206, [32], [6]], [6, 225, [13], [14]], [7, 228, [10], [9]], [8, 215, [23], [5]], [9, 206, [32], [12]], [10, 220, [18], [4]], [11, 218, [20], [3]], [12, 218, [20], [10]]]\n"
     ]
    },
    {
     "data": {
      "text/html": [
       "<table class=\"data-frame\"><thead><tr><th></th><th>month</th><th>available_capacity</th><th>capacities_used</th><th>usines_used</th></tr><tr><th></th><th>Int64</th><th>Int64</th><th>Array…</th><th>Array…</th></tr></thead><tbody><p>12 rows × 4 columns</p><tr><th>1</th><td>1</td><td>221</td><td>[17]</td><td>[11]</td></tr><tr><th>2</th><td>2</td><td>221</td><td>[10, 7]</td><td>[1, 7]</td></tr><tr><th>3</th><td>3</td><td>221</td><td>[12, 5]</td><td>[8, 2]</td></tr><tr><th>4</th><td>4</td><td>226</td><td>[12]</td><td>[13]</td></tr><tr><th>5</th><td>5</td><td>206</td><td>[32]</td><td>[6]</td></tr><tr><th>6</th><td>6</td><td>225</td><td>[13]</td><td>[14]</td></tr><tr><th>7</th><td>7</td><td>221</td><td>[10, 7]</td><td>[9, 15]</td></tr><tr><th>8</th><td>8</td><td>215</td><td>[23]</td><td>[5]</td></tr><tr><th>9</th><td>9</td><td>206</td><td>[32]</td><td>[12]</td></tr><tr><th>10</th><td>10</td><td>220</td><td>[18]</td><td>[4]</td></tr><tr><th>11</th><td>11</td><td>218</td><td>[20]</td><td>[3]</td></tr><tr><th>12</th><td>12</td><td>218</td><td>[20]</td><td>[10]</td></tr></tbody></table>"
      ],
      "text/latex": [
       "\\begin{tabular}{r|cccc}\n",
       "\t& month & available\\_capacity & capacities\\_used & usines\\_used\\\\\n",
       "\t\\hline\n",
       "\t1 & 1 & 221 & [17] & [11] \\\\\n",
       "\t2 & 2 & 221 & [10, 7] & [1, 7] \\\\\n",
       "\t3 & 3 & 221 & [12, 5] & [8, 2] \\\\\n",
       "\t4 & 4 & 226 & [12] & [13] \\\\\n",
       "\t5 & 5 & 206 & [32] & [6] \\\\\n",
       "\t6 & 6 & 225 & [13] & [14] \\\\\n",
       "\t7 & 7 & 221 & [10, 7] & [9, 15] \\\\\n",
       "\t8 & 8 & 215 & [23] & [5] \\\\\n",
       "\t9 & 9 & 206 & [32] & [12] \\\\\n",
       "\t10 & 10 & 220 & [18] & [4] \\\\\n",
       "\t11 & 11 & 218 & [20] & [3] \\\\\n",
       "\t12 & 12 & 218 & [20] & [10] \\\\\n",
       "\\end{tabular}\n"
      ],
      "text/plain": [
       "12×4 DataFrame\n",
       "│ Row │ month │ available_capacity │ capacities_used │ usines_used │\n",
       "│     │ \u001b[90mInt64\u001b[39m │ \u001b[90mInt64\u001b[39m              │ \u001b[90mArray{Int64,1}\u001b[39m  │ \u001b[90mArray…\u001b[39m      │\n",
       "├─────┼───────┼────────────────────┼─────────────────┼─────────────┤\n",
       "│ 1   │ 1     │ 221                │ [17]            │ [11]        │\n",
       "│ 2   │ 2     │ 221                │ [10, 7]         │ [1, 7]      │\n",
       "│ 3   │ 3     │ 221                │ [12, 5]         │ [8, 2]      │\n",
       "│ 4   │ 4     │ 226                │ [12]            │ [13]        │\n",
       "│ 5   │ 5     │ 206                │ [32]            │ [6]         │\n",
       "│ 6   │ 6     │ 225                │ [13]            │ [14]        │\n",
       "│ 7   │ 7     │ 221                │ [10, 7]         │ [9, 15]     │\n",
       "│ 8   │ 8     │ 215                │ [23]            │ [5]         │\n",
       "│ 9   │ 9     │ 206                │ [32]            │ [12]        │\n",
       "│ 10  │ 10    │ 220                │ [18]            │ [4]         │\n",
       "│ 11  │ 11    │ 218                │ [20]            │ [3]         │\n",
       "│ 12  │ 12    │ 218                │ [20]            │ [10]        │"
      ]
     },
     "execution_count": 124,
     "metadata": {},
     "output_type": "execute_result"
    }
   ],
   "source": [
    "G = [10, 5, 20, 18, 23, 32, 7, 12, 10, 20, 17, 32, 12, 13, 7]\n",
    "months = usines_in_a_year2(G)"
   ]
  },
  {
   "cell_type": "code",
   "execution_count": 111,
   "metadata": {},
   "outputs": [
    {
     "name": "stdout",
     "output_type": "stream",
     "text": [
      "Array{Any,1}[[1, 253, [23]], [2, 253, [23]], [3, 264, [12]], [4, 253, [23]], [5, 253, [23]], [6, 253, [23]], [7, 253, [23]], [8, 253, [23]], [9, 253, [23]], [10, 259, [17]], [11, 257, [19]], [12, 253, [23]]]\n"
     ]
    },
    {
     "data": {
      "text/html": [
       "<table class=\"data-frame\"><thead><tr><th></th><th>month</th><th>available_capacity</th><th>capacities_used</th></tr><tr><th></th><th>Int64</th><th>Int64</th><th>Array…</th></tr></thead><tbody><p>12 rows × 3 columns</p><tr><th>1</th><td>1</td><td>253</td><td>[23]</td></tr><tr><th>2</th><td>2</td><td>253</td><td>[23]</td></tr><tr><th>3</th><td>3</td><td>253</td><td>[12, 11]</td></tr><tr><th>4</th><td>4</td><td>253</td><td>[23]</td></tr><tr><th>5</th><td>5</td><td>253</td><td>[23]</td></tr><tr><th>6</th><td>6</td><td>253</td><td>[23]</td></tr><tr><th>7</th><td>7</td><td>253</td><td>[23]</td></tr><tr><th>8</th><td>8</td><td>253</td><td>[23]</td></tr><tr><th>9</th><td>9</td><td>253</td><td>[23]</td></tr><tr><th>10</th><td>10</td><td>253</td><td>[17, 6]</td></tr><tr><th>11</th><td>11</td><td>253</td><td>[19, 4]</td></tr><tr><th>12</th><td>12</td><td>253</td><td>[23]</td></tr></tbody></table>"
      ],
      "text/latex": [
       "\\begin{tabular}{r|ccc}\n",
       "\t& month & available\\_capacity & capacities\\_used\\\\\n",
       "\t\\hline\n",
       "\t1 & 1 & 253 & [23] \\\\\n",
       "\t2 & 2 & 253 & [23] \\\\\n",
       "\t3 & 3 & 253 & [12, 11] \\\\\n",
       "\t4 & 4 & 253 & [23] \\\\\n",
       "\t5 & 5 & 253 & [23] \\\\\n",
       "\t6 & 6 & 253 & [23] \\\\\n",
       "\t7 & 7 & 253 & [23] \\\\\n",
       "\t8 & 8 & 253 & [23] \\\\\n",
       "\t9 & 9 & 253 & [23] \\\\\n",
       "\t10 & 10 & 253 & [17, 6] \\\\\n",
       "\t11 & 11 & 253 & [19, 4] \\\\\n",
       "\t12 & 12 & 253 & [23] \\\\\n",
       "\\end{tabular}\n"
      ],
      "text/plain": [
       "12×3 DataFrame\n",
       "│ Row │ month │ available_capacity │ capacities_used │\n",
       "│     │ \u001b[90mInt64\u001b[39m │ \u001b[90mInt64\u001b[39m              │ \u001b[90mArray{Int64,1}\u001b[39m  │\n",
       "├─────┼───────┼────────────────────┼─────────────────┤\n",
       "│ 1   │ 1     │ 253                │ [23]            │\n",
       "│ 2   │ 2     │ 253                │ [23]            │\n",
       "│ 3   │ 3     │ 253                │ [12, 11]        │\n",
       "│ 4   │ 4     │ 253                │ [23]            │\n",
       "│ 5   │ 5     │ 253                │ [23]            │\n",
       "│ 6   │ 6     │ 253                │ [23]            │\n",
       "│ 7   │ 7     │ 253                │ [23]            │\n",
       "│ 8   │ 8     │ 253                │ [23]            │\n",
       "│ 9   │ 9     │ 253                │ [23]            │\n",
       "│ 10  │ 10    │ 253                │ [17, 6]         │\n",
       "│ 11  │ 11    │ 253                │ [19, 4]         │\n",
       "│ 12  │ 12    │ 253                │ [23]            │"
      ]
     },
     "execution_count": 111,
     "metadata": {},
     "output_type": "execute_result"
    }
   ],
   "source": [
    "G2 = [23, 23, 6, 23, 23, 12, 23, 23, 4, 23, 23, 23, 17, 11, 19]\n",
    "months = usines_in_a_year2(G2)"
   ]
  },
  {
   "cell_type": "code",
   "execution_count": 118,
   "metadata": {},
   "outputs": [
    {
     "name": "stdout",
     "output_type": "stream",
     "text": [
      "G3 = [32, 24, 32, 32, 32, 30, 29, 32, 25, 28, 21, 20, 24, 24, 22]\n",
      "Array{Any,1}[[1, 375, [32]], [2, 375, [32]], [3, 375, [32]], [4, 375, [32]], [5, 383, [24]], [6, 379, [28]], [7, 382, [25]], [8, 375, [32]], [9, 383, [24]], [10, 383, [24]], [11, 378, [29]], [12, 377, [30]]]\n"
     ]
    },
    {
     "data": {
      "text/html": [
       "<table class=\"data-frame\"><thead><tr><th></th><th>month</th><th>available_capacity</th><th>capacities_used</th></tr><tr><th></th><th>Int64</th><th>Int64</th><th>Array…</th></tr></thead><tbody><p>12 rows × 3 columns</p><tr><th>1</th><td>1</td><td>375</td><td>[32]</td></tr><tr><th>2</th><td>2</td><td>375</td><td>[32]</td></tr><tr><th>3</th><td>3</td><td>375</td><td>[32]</td></tr><tr><th>4</th><td>4</td><td>375</td><td>[32]</td></tr><tr><th>5</th><td>5</td><td>361</td><td>[24, 22]</td></tr><tr><th>6</th><td>6</td><td>379</td><td>[28]</td></tr><tr><th>7</th><td>7</td><td>382</td><td>[25]</td></tr><tr><th>8</th><td>8</td><td>375</td><td>[32]</td></tr><tr><th>9</th><td>9</td><td>362</td><td>[24, 21]</td></tr><tr><th>10</th><td>10</td><td>363</td><td>[24, 20]</td></tr><tr><th>11</th><td>11</td><td>378</td><td>[29]</td></tr><tr><th>12</th><td>12</td><td>377</td><td>[30]</td></tr></tbody></table>"
      ],
      "text/latex": [
       "\\begin{tabular}{r|ccc}\n",
       "\t& month & available\\_capacity & capacities\\_used\\\\\n",
       "\t\\hline\n",
       "\t1 & 1 & 375 & [32] \\\\\n",
       "\t2 & 2 & 375 & [32] \\\\\n",
       "\t3 & 3 & 375 & [32] \\\\\n",
       "\t4 & 4 & 375 & [32] \\\\\n",
       "\t5 & 5 & 361 & [24, 22] \\\\\n",
       "\t6 & 6 & 379 & [28] \\\\\n",
       "\t7 & 7 & 382 & [25] \\\\\n",
       "\t8 & 8 & 375 & [32] \\\\\n",
       "\t9 & 9 & 362 & [24, 21] \\\\\n",
       "\t10 & 10 & 363 & [24, 20] \\\\\n",
       "\t11 & 11 & 378 & [29] \\\\\n",
       "\t12 & 12 & 377 & [30] \\\\\n",
       "\\end{tabular}\n"
      ],
      "text/plain": [
       "12×3 DataFrame\n",
       "│ Row │ month │ available_capacity │ capacities_used │\n",
       "│     │ \u001b[90mInt64\u001b[39m │ \u001b[90mInt64\u001b[39m              │ \u001b[90mArray{Int64,1}\u001b[39m  │\n",
       "├─────┼───────┼────────────────────┼─────────────────┤\n",
       "│ 1   │ 1     │ 375                │ [32]            │\n",
       "│ 2   │ 2     │ 375                │ [32]            │\n",
       "│ 3   │ 3     │ 375                │ [32]            │\n",
       "│ 4   │ 4     │ 375                │ [32]            │\n",
       "│ 5   │ 5     │ 361                │ [24, 22]        │\n",
       "│ 6   │ 6     │ 379                │ [28]            │\n",
       "│ 7   │ 7     │ 382                │ [25]            │\n",
       "│ 8   │ 8     │ 375                │ [32]            │\n",
       "│ 9   │ 9     │ 362                │ [24, 21]        │\n",
       "│ 10  │ 10    │ 363                │ [24, 20]        │\n",
       "│ 11  │ 11    │ 378                │ [29]            │\n",
       "│ 12  │ 12    │ 377                │ [30]            │"
      ]
     },
     "execution_count": 118,
     "metadata": {},
     "output_type": "execute_result"
    }
   ],
   "source": [
    "G3 = rand(20:32, 15)\n",
    "@show G3\n",
    "months = usines_in_a_year2(G3)"
   ]
  },
  {
   "cell_type": "code",
   "execution_count": null,
   "metadata": {},
   "outputs": [],
   "source": []
  }
 ],
 "metadata": {
  "kernelspec": {
   "display_name": "Julia 1.0.3",
   "language": "julia",
   "name": "julia-1.0"
  },
  "language_info": {
   "file_extension": ".jl",
   "mimetype": "application/julia",
   "name": "julia",
   "version": "1.0.3"
  }
 },
 "nbformat": 4,
 "nbformat_minor": 2
}
