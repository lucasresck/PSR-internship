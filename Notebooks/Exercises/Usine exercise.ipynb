{
 "cells": [
  {
   "cell_type": "markdown",
   "metadata": {},
   "source": [
    "Dado um conjunto de capacidades G_i de usinas, a soma dessas capacidades das usinas que estão operando é a capacidade disponível. Cada usina deve entrar em manutenção uma vez por ano. Deve-se distribuir as usinas durante um ano de modo que a menor das capacidades disponíveis dos meses seja maiximizada."
   ]
  },
  {
   "cell_type": "code",
   "execution_count": 20,
   "metadata": {},
   "outputs": [
    {
     "data": {
      "text/plain": [
       "usines_in_a_year (generic function with 1 method)"
      ]
     },
     "execution_count": 20,
     "metadata": {},
     "output_type": "execute_result"
    }
   ],
   "source": [
    "function usines_in_a_year(data)\n",
    "    sort!(data, rev = true)\n",
    "    schedule = copy(data[1:12])\n",
    "    months = copy(data[1:12])\n",
    "    rest = copy(data[13:end])\n",
    "    schedule[10] += rest[1]\n",
    "    schedule[11] += rest[2]\n",
    "    schedule[12] += rest[3]\n",
    "    new_schedule = copy(schedule)\n",
    "    ijk = [10, 11, 12]\n",
    "    for i in 10:11:12        \n",
    "        new_schedule[i] += rest[1]\n",
    "        for j in 10:11:12\n",
    "            new_schedule[j] += rest[2]\n",
    "            for k in 10:11:12\n",
    "                new_schedule[k] += rest[3]\n",
    "                if max(new_schedule...) < min(schedule...)\n",
    "                    schedule = copy(new_schedule)\n",
    "                    ijk = [i, j, k]\n",
    "                end\n",
    "                new_schedule[k] -= rest[3]                \n",
    "            end\n",
    "            new_schedule[j] -= rest[2]\n",
    "        end\n",
    "        new_schedule[i] -= rest[1]\n",
    "    end\n",
    "    println(months[1:12])\n",
    "    println(\"$(rest[1]) in month $(ijk[1])\")\n",
    "    println(\"$(rest[2]) in month $(ijk[2])\")\n",
    "    println(\"$(rest[3]) in month $(ijk[3])\")\n",
    "end"
   ]
  },
  {
   "cell_type": "code",
   "execution_count": 21,
   "metadata": {},
   "outputs": [
    {
     "name": "stdout",
     "output_type": "stream",
     "text": [
      "[32, 23, 20, 20, 18, 17, 14, 13, 12, 12, 10, 10]\n",
      "7 in month 10\n",
      "7 in month 11\n",
      "5 in month 12\n"
     ]
    }
   ],
   "source": [
    "data = [10, 5, 20, 18, 23, 32, 7, 12, 10, 20, 17, 14, 12, 13, 7]\n",
    "usines_in_a_year(data)"
   ]
  },
  {
   "cell_type": "code",
   "execution_count": 4,
   "metadata": {},
   "outputs": [
    {
     "data": {
      "text/plain": [
       "1"
      ]
     },
     "execution_count": 4,
     "metadata": {},
     "output_type": "execute_result"
    }
   ],
   "source": [
    "min([1, 1, 2]...)"
   ]
  },
  {
   "cell_type": "markdown",
   "metadata": {},
   "source": [
    "Uma ideia é distribuir as doze usinas com maiores capacidades nos doze meses. A partir disso, distribuir as usinas restantes junto com aquelas que atualmente somam a menor capacidade. Talvez não seja o modo mais eficiente."
   ]
  },
  {
   "cell_type": "code",
   "execution_count": 58,
   "metadata": {},
   "outputs": [
    {
     "data": {
      "text/plain": [
       "usines_in_a_year2 (generic function with 1 method)"
      ]
     },
     "execution_count": 58,
     "metadata": {},
     "output_type": "execute_result"
    }
   ],
   "source": [
    "function usines_in_a_year2(G)\n",
    "    G = copy(G)\n",
    "    capacity = sum(G)\n",
    "    sort!(G, rev = true)\n",
    "    months = [[month, capacity - G[month], G[month]] for month in 1:12]\n",
    "    G = copy(G[13:end])\n",
    "    for usine in G\n",
    "        sort!(months, by = month -> month[2], rev = true)\n",
    "        push!(months[1], usine)\n",
    "        months[1][2] -= usine\n",
    "    end\n",
    "    sort!(months, by = month -> month[1])\n",
    "    return months\n",
    "end   "
   ]
  },
  {
   "cell_type": "code",
   "execution_count": 61,
   "metadata": {},
   "outputs": [
    {
     "name": "stdout",
     "output_type": "stream",
     "text": [
      "Mês, capacidade disponível e usinas usadas\n"
     ]
    },
    {
     "data": {
      "text/plain": [
       "12-element Array{Array{Int64,1},1}:\n",
       " [1, 188, 32]    \n",
       " [2, 197, 23]    \n",
       " [3, 200, 20]    \n",
       " [4, 200, 20]    \n",
       " [5, 202, 18]    \n",
       " [6, 203, 17]    \n",
       " [7, 206, 14]    \n",
       " [8, 207, 13]    \n",
       " [9, 203, 12, 5] \n",
       " [10, 208, 12]   \n",
       " [11, 203, 10, 7]\n",
       " [12, 203, 10, 7]"
      ]
     },
     "execution_count": 61,
     "metadata": {},
     "output_type": "execute_result"
    }
   ],
   "source": [
    "G = [10, 5, 20, 18, 23, 32, 7, 12, 10, 20, 17, 14, 12, 13, 7]\n",
    "months = usines_in_a_year2(G)\n",
    "println(\"Mês, capacidade disponível e usinas usadas\")\n",
    "months"
   ]
  },
  {
   "cell_type": "code",
   "execution_count": 62,
   "metadata": {},
   "outputs": [
    {
     "name": "stdout",
     "output_type": "stream",
     "text": [
      "Mês, capacidade disponível e usinas usadas\n"
     ]
    },
    {
     "data": {
      "text/plain": [
       "12-element Array{Array{Int64,1},1}:\n",
       " [1, 253, 23]     \n",
       " [2, 253, 23]     \n",
       " [3, 253, 23]     \n",
       " [4, 253, 23]     \n",
       " [5, 253, 23]     \n",
       " [6, 253, 23]     \n",
       " [7, 253, 23]     \n",
       " [8, 253, 23]     \n",
       " [9, 253, 23]     \n",
       " [10, 253, 19, 4] \n",
       " [11, 253, 17, 6] \n",
       " [12, 253, 12, 11]"
      ]
     },
     "execution_count": 62,
     "metadata": {},
     "output_type": "execute_result"
    }
   ],
   "source": [
    "G2 = [23, 23, 6, 23, 23, 12, 23, 23, 4, 23, 23, 23, 17, 11, 19]\n",
    "months = usines_in_a_year2(G2)\n",
    "println(\"Mês, capacidade disponível e usinas usadas\")\n",
    "months"
   ]
  },
  {
   "cell_type": "code",
   "execution_count": 67,
   "metadata": {},
   "outputs": [
    {
     "name": "stdout",
     "output_type": "stream",
     "text": [
      "G3 = [28, 23, 20, 30, 22, 29, 28, 31, 26, 29, 22, 32, 21, 30, 27]\n",
      "Mês, capacidade disponível e usinas usadas\n"
     ]
    },
    {
     "data": {
      "text/plain": [
       "12-element Array{Array{Int64,1},1}:\n",
       " [1, 366, 32]     \n",
       " [2, 367, 31]     \n",
       " [3, 368, 30]     \n",
       " [4, 368, 30]     \n",
       " [5, 369, 29]     \n",
       " [6, 369, 29]     \n",
       " [7, 370, 28]     \n",
       " [8, 370, 28]     \n",
       " [9, 371, 27]     \n",
       " [10, 352, 26, 20]\n",
       " [11, 354, 23, 21]\n",
       " [12, 354, 22, 22]"
      ]
     },
     "execution_count": 67,
     "metadata": {},
     "output_type": "execute_result"
    }
   ],
   "source": [
    "G3 = rand(20:32, 15)\n",
    "@show G3\n",
    "months = usines_in_a_year2(G3)\n",
    "println(\"Mês, capacidade disponível e usinas usadas\")\n",
    "months"
   ]
  },
  {
   "cell_type": "code",
   "execution_count": null,
   "metadata": {},
   "outputs": [],
   "source": []
  },
  {
   "cell_type": "code",
   "execution_count": null,
   "metadata": {},
   "outputs": [],
   "source": []
  }
 ],
 "metadata": {
  "kernelspec": {
   "display_name": "Julia 1.0.3",
   "language": "julia",
   "name": "julia-1.0"
  },
  "language_info": {
   "file_extension": ".jl",
   "mimetype": "application/julia",
   "name": "julia",
   "version": "1.0.3"
  }
 },
 "nbformat": 4,
 "nbformat_minor": 2
}
