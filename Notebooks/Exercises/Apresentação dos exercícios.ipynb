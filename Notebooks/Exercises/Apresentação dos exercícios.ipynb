{
 "cells": [
  {
   "cell_type": "markdown",
   "metadata": {},
   "source": [
    "# Problema do despacho térmico"
   ]
  },
  {
   "cell_type": "markdown",
   "metadata": {},
   "source": [
    "Existem $n$ usinas termelétricas e cada usina $i$ tem capacidade máxima $G_i$ e custo $c_i$. Dada uma demanda $d$, qual a melhor maneira de escolher as capacidades de operação $g_i$ de cada usina de modo a minimizar o custo $C$?"
   ]
  },
  {
   "cell_type": "markdown",
   "metadata": {},
   "source": [
    "A ideia aqui é esgotar as capacidades de operação $g$ das usinas mais baratas, até atingir a demanda $d$."
   ]
  },
  {
   "cell_type": "code",
   "execution_count": null,
   "metadata": {},
   "outputs": [],
   "source": [
    "import Pkg; Pkg.add(\"DataFrames\")"
   ]
  },
  {
   "cell_type": "code",
   "execution_count": 137,
   "metadata": {},
   "outputs": [],
   "source": [
    "using DataFrames\n",
    "\n",
    "function despacho_termico(G_i, c_i, d)\n",
    "    is = collect(range(1, stop = length(G_i)))\n",
    "    Gc = collect(zip(is, G_i, c_i))\n",
    "    sort!(Gc, by = x -> x[3])\n",
    "    used = []\n",
    "    while d > 0\n",
    "        if d >= Gc[1][2]\n",
    "            d -= Gc[1][2]\n",
    "            bye = popfirst!(Gc)\n",
    "            push!(used, bye)\n",
    "        else\n",
    "            push!(used, (Gc[1][1], d, Gc[1][3]))\n",
    "            d = 0\n",
    "        end\n",
    "    end\n",
    "    sort!(used, by = x -> x[1])\n",
    "    usines = DataFrame(usines = (used -> used[1]).(used), capacity_used = (used -> used[2]).(used), cost = (used -> used[3]).(used))\n",
    "    return usines\n",
    "end;"
   ]
  },
  {
   "cell_type": "code",
   "execution_count": 138,
   "metadata": {},
   "outputs": [
    {
     "data": {
      "text/html": [
       "<table class=\"data-frame\"><thead><tr><th></th><th>usines</th><th>capacity_used</th><th>cost</th></tr><tr><th></th><th>Int64</th><th>Int64</th><th>Int64</th></tr></thead><tbody><p>6 rows × 3 columns</p><tr><th>1</th><td>1</td><td>100</td><td>2</td></tr><tr><th>2</th><td>2</td><td>50</td><td>100</td></tr><tr><th>3</th><td>3</td><td>50</td><td>1</td></tr><tr><th>4</th><td>4</td><td>10</td><td>1</td></tr><tr><th>5</th><td>5</td><td>109</td><td>1</td></tr><tr><th>6</th><td>6</td><td>1</td><td>99</td></tr></tbody></table>"
      ],
      "text/latex": [
       "\\begin{tabular}{r|ccc}\n",
       "\t& usines & capacity\\_used & cost\\\\\n",
       "\t\\hline\n",
       "\t1 & 1 & 100 & 2 \\\\\n",
       "\t2 & 2 & 50 & 100 \\\\\n",
       "\t3 & 3 & 50 & 1 \\\\\n",
       "\t4 & 4 & 10 & 1 \\\\\n",
       "\t5 & 5 & 109 & 1 \\\\\n",
       "\t6 & 6 & 1 & 99 \\\\\n",
       "\\end{tabular}\n"
      ],
      "text/plain": [
       "6×3 DataFrame\n",
       "│ Row │ usines │ capacity_used │ cost  │\n",
       "│     │ \u001b[90mInt64\u001b[39m  │ \u001b[90mInt64\u001b[39m         │ \u001b[90mInt64\u001b[39m │\n",
       "├─────┼────────┼───────────────┼───────┤\n",
       "│ 1   │ 1      │ 100           │ 2     │\n",
       "│ 2   │ 2      │ 50            │ 100   │\n",
       "│ 3   │ 3      │ 50            │ 1     │\n",
       "│ 4   │ 4      │ 10            │ 1     │\n",
       "│ 5   │ 5      │ 109           │ 1     │\n",
       "│ 6   │ 6      │ 1             │ 99    │"
      ]
     },
     "execution_count": 138,
     "metadata": {},
     "output_type": "execute_result"
    }
   ],
   "source": [
    "G_i = [100, 200, 50, 10, 109, 1] #Usinas i na ordem\n",
    "c_i = [2, 100, 1, 1, 1, 99]\n",
    "d = 320\n",
    "\n",
    "used = despacho_termico(G_i, c_i, d)"
   ]
  },
  {
   "cell_type": "markdown",
   "metadata": {},
   "source": [
    "# Problema da maximização da capacidade disponível mínima do ano (agenda de manutenção)"
   ]
  },
  {
   "cell_type": "markdown",
   "metadata": {},
   "source": [
    "Dado um conjunto de capacidades máximas $G_i$ de usinas $i$, a soma das capacidades das usinas que estão operando em um determinado mês é a capacidade disponível desse mês. Cada usina deve entrar em manutenção uma vez por ano. Deve-se distribuir as as paradas de manutenção das usinas durante um ano em uma agenda de manutenção, de modo que a $\\textbf{menor das capacidades disponíveis dos meses seja maximizada}$."
   ]
  },
  {
   "cell_type": "markdown",
   "metadata": {},
   "source": [
    "A ideia neste caso é distribuir as doze usinas com maiores capacidades nos doze meses. A partir disso, distribuir as usinas restantes, cada uma, no mês que atualmente tem maior capacidade disponível."
   ]
  },
  {
   "cell_type": "code",
   "execution_count": 81,
   "metadata": {},
   "outputs": [],
   "source": [
    "#=function usines_in_a_year2(G)\n",
    "    G = copy(G)\n",
    "    capacity = sum(G)\n",
    "    sort!(G, rev = true)\n",
    "    months = [[month, capacity - G[month], G[month]] for month in 1:12]\n",
    "    G = copy(G[13:end])\n",
    "    for usine in G\n",
    "        sort!(months, by = month -> month[2], rev = true)\n",
    "        push!(months[1], usine)\n",
    "        months[1][2] -= usine\n",
    "    end\n",
    "    sort!(months, by = month -> month[1])\n",
    "    months = DataFrame(month = (month -> month[1]).(months), available_capacity = (month -> month[2]).(months), capacities_used = (month -> month[3:end]).(months))\n",
    "    return months\n",
    "end=#"
   ]
  },
  {
   "cell_type": "code",
   "execution_count": 87,
   "metadata": {},
   "outputs": [
    {
     "name": "stdout",
     "output_type": "stream",
     "text": [
      "\u001b[32m\u001b[1m Resolving\u001b[22m\u001b[39m package versions...\n",
      "\u001b[32m\u001b[1m Installed\u001b[22m\u001b[39m RandomNumbers ─ v1.0.3\n",
      "\u001b[32m\u001b[1m  Updating\u001b[22m\u001b[39m `C:\\Users\\lucasresck\\.julia\\environments\\v1.0\\Project.toml`\n",
      " \u001b[90m [e6cf234a]\u001b[39m\u001b[92m + RandomNumbers v1.0.3\u001b[39m\n",
      "\u001b[32m\u001b[1m  Updating\u001b[22m\u001b[39m `C:\\Users\\lucasresck\\.julia\\environments\\v1.0\\Manifest.toml`\n",
      " \u001b[90m [e6cf234a]\u001b[39m\u001b[92m + RandomNumbers v1.0.3\u001b[39m\n",
      "\u001b[32m\u001b[1m  Building\u001b[22m\u001b[39m RandomNumbers → `C:\\Users\\lucasresck\\.julia\\packages\\RandomNumbers\\cr9ta\\deps\\build.log`\n"
     ]
    }
   ],
   "source": [
    "import Pkg; Pkg.add(\"RandomNumbers\")"
   ]
  },
  {
   "cell_type": "code",
   "execution_count": 133,
   "metadata": {},
   "outputs": [],
   "source": [
    "using Random\n",
    "\n",
    "function usines_in_a_year2(G)\n",
    "    capacity = sum(G)\n",
    "    is = collect(range(1, stop = length(G)))\n",
    "    G = collect(zip(is, G))\n",
    "    sort!(G, by = G -> G[2], rev = true)\n",
    "    months = [[month, capacity - G[usine][2], [G[usine][2]], [G[usine][1]]] for (month, usine) in zip(collect(1:12), shuffle(collect(1:12)))]\n",
    "    G = copy(G[13:end])\n",
    "    for usine in G\n",
    "        sort!(months, by = month -> month[2], rev = true)\n",
    "        push!(months[1][3], usine[2])\n",
    "        push!(months[1][4], usine[1])\n",
    "        months[1][2] -= usine[2]\n",
    "    end\n",
    "    sort!(months, by = month -> month[1])\n",
    "    months = DataFrame(month = (month -> month[1]).(months), available_capacity = (month -> month[2]).(months), capacities_used = (month -> month[3]).(months), usines_used = (month -> month[4]).(months))\n",
    "    return months\n",
    "end;"
   ]
  },
  {
   "cell_type": "code",
   "execution_count": 139,
   "metadata": {},
   "outputs": [
    {
     "data": {
      "text/html": [
       "<table class=\"data-frame\"><thead><tr><th></th><th>month</th><th>available_capacity</th><th>capacities_used</th><th>usines_used</th></tr><tr><th></th><th>Int64</th><th>Int64</th><th>Array…</th><th>Array…</th></tr></thead><tbody><p>12 rows × 4 columns</p><tr><th>1</th><td>1</td><td>225</td><td>[13]</td><td>[14]</td></tr><tr><th>2</th><td>2</td><td>206</td><td>[32]</td><td>[6]</td></tr><tr><th>3</th><td>3</td><td>221</td><td>[12, 5]</td><td>[13, 2]</td></tr><tr><th>4</th><td>4</td><td>226</td><td>[12]</td><td>[8]</td></tr><tr><th>5</th><td>5</td><td>215</td><td>[23]</td><td>[5]</td></tr><tr><th>6</th><td>6</td><td>220</td><td>[18]</td><td>[4]</td></tr><tr><th>7</th><td>7</td><td>221</td><td>[10, 7]</td><td>[9, 7]</td></tr><tr><th>8</th><td>8</td><td>221</td><td>[10, 7]</td><td>[1, 15]</td></tr><tr><th>9</th><td>9</td><td>218</td><td>[20]</td><td>[10]</td></tr><tr><th>10</th><td>10</td><td>218</td><td>[20]</td><td>[3]</td></tr><tr><th>11</th><td>11</td><td>221</td><td>[17]</td><td>[11]</td></tr><tr><th>12</th><td>12</td><td>206</td><td>[32]</td><td>[12]</td></tr></tbody></table>"
      ],
      "text/latex": [
       "\\begin{tabular}{r|cccc}\n",
       "\t& month & available\\_capacity & capacities\\_used & usines\\_used\\\\\n",
       "\t\\hline\n",
       "\t1 & 1 & 225 & [13] & [14] \\\\\n",
       "\t2 & 2 & 206 & [32] & [6] \\\\\n",
       "\t3 & 3 & 221 & [12, 5] & [13, 2] \\\\\n",
       "\t4 & 4 & 226 & [12] & [8] \\\\\n",
       "\t5 & 5 & 215 & [23] & [5] \\\\\n",
       "\t6 & 6 & 220 & [18] & [4] \\\\\n",
       "\t7 & 7 & 221 & [10, 7] & [9, 7] \\\\\n",
       "\t8 & 8 & 221 & [10, 7] & [1, 15] \\\\\n",
       "\t9 & 9 & 218 & [20] & [10] \\\\\n",
       "\t10 & 10 & 218 & [20] & [3] \\\\\n",
       "\t11 & 11 & 221 & [17] & [11] \\\\\n",
       "\t12 & 12 & 206 & [32] & [12] \\\\\n",
       "\\end{tabular}\n"
      ],
      "text/plain": [
       "12×4 DataFrame\n",
       "│ Row │ month │ available_capacity │ capacities_used │ usines_used │\n",
       "│     │ \u001b[90mInt64\u001b[39m │ \u001b[90mInt64\u001b[39m              │ \u001b[90mArray{Int64,1}\u001b[39m  │ \u001b[90mArray…\u001b[39m      │\n",
       "├─────┼───────┼────────────────────┼─────────────────┼─────────────┤\n",
       "│ 1   │ 1     │ 225                │ [13]            │ [14]        │\n",
       "│ 2   │ 2     │ 206                │ [32]            │ [6]         │\n",
       "│ 3   │ 3     │ 221                │ [12, 5]         │ [13, 2]     │\n",
       "│ 4   │ 4     │ 226                │ [12]            │ [8]         │\n",
       "│ 5   │ 5     │ 215                │ [23]            │ [5]         │\n",
       "│ 6   │ 6     │ 220                │ [18]            │ [4]         │\n",
       "│ 7   │ 7     │ 221                │ [10, 7]         │ [9, 7]      │\n",
       "│ 8   │ 8     │ 221                │ [10, 7]         │ [1, 15]     │\n",
       "│ 9   │ 9     │ 218                │ [20]            │ [10]        │\n",
       "│ 10  │ 10    │ 218                │ [20]            │ [3]         │\n",
       "│ 11  │ 11    │ 221                │ [17]            │ [11]        │\n",
       "│ 12  │ 12    │ 206                │ [32]            │ [12]        │"
      ]
     },
     "execution_count": 139,
     "metadata": {},
     "output_type": "execute_result"
    }
   ],
   "source": [
    "G = [10, 5, 20, 18, 23, 32, 7, 12, 10, 20, 17, 32, 12, 13, 7]\n",
    "months = usines_in_a_year2(G)"
   ]
  },
  {
   "cell_type": "code",
   "execution_count": 140,
   "metadata": {},
   "outputs": [
    {
     "data": {
      "text/html": [
       "<table class=\"data-frame\"><thead><tr><th></th><th>month</th><th>available_capacity</th><th>capacities_used</th><th>usines_used</th></tr><tr><th></th><th>Int64</th><th>Int64</th><th>Array…</th><th>Array…</th></tr></thead><tbody><p>12 rows × 4 columns</p><tr><th>1</th><td>1</td><td>253</td><td>[23]</td><td>[7]</td></tr><tr><th>2</th><td>2</td><td>253</td><td>[23]</td><td>[11]</td></tr><tr><th>3</th><td>3</td><td>253</td><td>[23]</td><td>[2]</td></tr><tr><th>4</th><td>4</td><td>253</td><td>[23]</td><td>[1]</td></tr><tr><th>5</th><td>5</td><td>253</td><td>[19, 4]</td><td>[15, 9]</td></tr><tr><th>6</th><td>6</td><td>253</td><td>[23]</td><td>[5]</td></tr><tr><th>7</th><td>7</td><td>253</td><td>[17, 6]</td><td>[13, 3]</td></tr><tr><th>8</th><td>8</td><td>253</td><td>[23]</td><td>[8]</td></tr><tr><th>9</th><td>9</td><td>253</td><td>[23]</td><td>[12]</td></tr><tr><th>10</th><td>10</td><td>253</td><td>[23]</td><td>[4]</td></tr><tr><th>11</th><td>11</td><td>253</td><td>[12, 11]</td><td>[6, 14]</td></tr><tr><th>12</th><td>12</td><td>253</td><td>[23]</td><td>[10]</td></tr></tbody></table>"
      ],
      "text/latex": [
       "\\begin{tabular}{r|cccc}\n",
       "\t& month & available\\_capacity & capacities\\_used & usines\\_used\\\\\n",
       "\t\\hline\n",
       "\t1 & 1 & 253 & [23] & [7] \\\\\n",
       "\t2 & 2 & 253 & [23] & [11] \\\\\n",
       "\t3 & 3 & 253 & [23] & [2] \\\\\n",
       "\t4 & 4 & 253 & [23] & [1] \\\\\n",
       "\t5 & 5 & 253 & [19, 4] & [15, 9] \\\\\n",
       "\t6 & 6 & 253 & [23] & [5] \\\\\n",
       "\t7 & 7 & 253 & [17, 6] & [13, 3] \\\\\n",
       "\t8 & 8 & 253 & [23] & [8] \\\\\n",
       "\t9 & 9 & 253 & [23] & [12] \\\\\n",
       "\t10 & 10 & 253 & [23] & [4] \\\\\n",
       "\t11 & 11 & 253 & [12, 11] & [6, 14] \\\\\n",
       "\t12 & 12 & 253 & [23] & [10] \\\\\n",
       "\\end{tabular}\n"
      ],
      "text/plain": [
       "12×4 DataFrame\n",
       "│ Row │ month │ available_capacity │ capacities_used │ usines_used │\n",
       "│     │ \u001b[90mInt64\u001b[39m │ \u001b[90mInt64\u001b[39m              │ \u001b[90mArray{Int64,1}\u001b[39m  │ \u001b[90mArray…\u001b[39m      │\n",
       "├─────┼───────┼────────────────────┼─────────────────┼─────────────┤\n",
       "│ 1   │ 1     │ 253                │ [23]            │ [7]         │\n",
       "│ 2   │ 2     │ 253                │ [23]            │ [11]        │\n",
       "│ 3   │ 3     │ 253                │ [23]            │ [2]         │\n",
       "│ 4   │ 4     │ 253                │ [23]            │ [1]         │\n",
       "│ 5   │ 5     │ 253                │ [19, 4]         │ [15, 9]     │\n",
       "│ 6   │ 6     │ 253                │ [23]            │ [5]         │\n",
       "│ 7   │ 7     │ 253                │ [17, 6]         │ [13, 3]     │\n",
       "│ 8   │ 8     │ 253                │ [23]            │ [8]         │\n",
       "│ 9   │ 9     │ 253                │ [23]            │ [12]        │\n",
       "│ 10  │ 10    │ 253                │ [23]            │ [4]         │\n",
       "│ 11  │ 11    │ 253                │ [12, 11]        │ [6, 14]     │\n",
       "│ 12  │ 12    │ 253                │ [23]            │ [10]        │"
      ]
     },
     "execution_count": 140,
     "metadata": {},
     "output_type": "execute_result"
    }
   ],
   "source": [
    "G2 = [23, 23, 6, 23, 23, 12, 23, 23, 4, 23, 23, 23, 17, 11, 19]\n",
    "months = usines_in_a_year2(G2)"
   ]
  },
  {
   "cell_type": "code",
   "execution_count": 141,
   "metadata": {},
   "outputs": [
    {
     "name": "stdout",
     "output_type": "stream",
     "text": [
      "G3 = [22, 30, 28, 24, 23, 32, 24, 32, 29, 26, 24, 29, 20, 24, 24]\n"
     ]
    },
    {
     "data": {
      "text/html": [
       "<table class=\"data-frame\"><thead><tr><th></th><th>month</th><th>available_capacity</th><th>capacities_used</th><th>usines_used</th></tr><tr><th></th><th>Int64</th><th>Int64</th><th>Array…</th><th>Array…</th></tr></thead><tbody><p>12 rows × 4 columns</p><tr><th>1</th><td>1</td><td>359</td><td>[32]</td><td>[8]</td></tr><tr><th>2</th><td>2</td><td>363</td><td>[28]</td><td>[3]</td></tr><tr><th>3</th><td>3</td><td>361</td><td>[30]</td><td>[2]</td></tr><tr><th>4</th><td>4</td><td>344</td><td>[24, 23]</td><td>[4, 5]</td></tr><tr><th>5</th><td>5</td><td>345</td><td>[24, 22]</td><td>[11, 1]</td></tr><tr><th>6</th><td>6</td><td>362</td><td>[29]</td><td>[9]</td></tr><tr><th>7</th><td>7</td><td>365</td><td>[26]</td><td>[10]</td></tr><tr><th>8</th><td>8</td><td>362</td><td>[29]</td><td>[12]</td></tr><tr><th>9</th><td>9</td><td>347</td><td>[24, 20]</td><td>[14, 13]</td></tr><tr><th>10</th><td>10</td><td>359</td><td>[32]</td><td>[6]</td></tr><tr><th>11</th><td>11</td><td>367</td><td>[24]</td><td>[15]</td></tr><tr><th>12</th><td>12</td><td>367</td><td>[24]</td><td>[7]</td></tr></tbody></table>"
      ],
      "text/latex": [
       "\\begin{tabular}{r|cccc}\n",
       "\t& month & available\\_capacity & capacities\\_used & usines\\_used\\\\\n",
       "\t\\hline\n",
       "\t1 & 1 & 359 & [32] & [8] \\\\\n",
       "\t2 & 2 & 363 & [28] & [3] \\\\\n",
       "\t3 & 3 & 361 & [30] & [2] \\\\\n",
       "\t4 & 4 & 344 & [24, 23] & [4, 5] \\\\\n",
       "\t5 & 5 & 345 & [24, 22] & [11, 1] \\\\\n",
       "\t6 & 6 & 362 & [29] & [9] \\\\\n",
       "\t7 & 7 & 365 & [26] & [10] \\\\\n",
       "\t8 & 8 & 362 & [29] & [12] \\\\\n",
       "\t9 & 9 & 347 & [24, 20] & [14, 13] \\\\\n",
       "\t10 & 10 & 359 & [32] & [6] \\\\\n",
       "\t11 & 11 & 367 & [24] & [15] \\\\\n",
       "\t12 & 12 & 367 & [24] & [7] \\\\\n",
       "\\end{tabular}\n"
      ],
      "text/plain": [
       "12×4 DataFrame\n",
       "│ Row │ month │ available_capacity │ capacities_used │ usines_used │\n",
       "│     │ \u001b[90mInt64\u001b[39m │ \u001b[90mInt64\u001b[39m              │ \u001b[90mArray{Int64,1}\u001b[39m  │ \u001b[90mArray…\u001b[39m      │\n",
       "├─────┼───────┼────────────────────┼─────────────────┼─────────────┤\n",
       "│ 1   │ 1     │ 359                │ [32]            │ [8]         │\n",
       "│ 2   │ 2     │ 363                │ [28]            │ [3]         │\n",
       "│ 3   │ 3     │ 361                │ [30]            │ [2]         │\n",
       "│ 4   │ 4     │ 344                │ [24, 23]        │ [4, 5]      │\n",
       "│ 5   │ 5     │ 345                │ [24, 22]        │ [11, 1]     │\n",
       "│ 6   │ 6     │ 362                │ [29]            │ [9]         │\n",
       "│ 7   │ 7     │ 365                │ [26]            │ [10]        │\n",
       "│ 8   │ 8     │ 362                │ [29]            │ [12]        │\n",
       "│ 9   │ 9     │ 347                │ [24, 20]        │ [14, 13]    │\n",
       "│ 10  │ 10    │ 359                │ [32]            │ [6]         │\n",
       "│ 11  │ 11    │ 367                │ [24]            │ [15]        │\n",
       "│ 12  │ 12    │ 367                │ [24]            │ [7]         │"
      ]
     },
     "execution_count": 141,
     "metadata": {},
     "output_type": "execute_result"
    }
   ],
   "source": [
    "G3 = rand(20:32, 15)\n",
    "@show G3\n",
    "months = usines_in_a_year2(G3)"
   ]
  },
  {
   "cell_type": "code",
   "execution_count": null,
   "metadata": {},
   "outputs": [],
   "source": []
  }
 ],
 "metadata": {
  "kernelspec": {
   "display_name": "Julia 1.0.3",
   "language": "julia",
   "name": "julia-1.0"
  },
  "language_info": {
   "file_extension": ".jl",
   "mimetype": "application/julia",
   "name": "julia",
   "version": "1.0.3"
  }
 },
 "nbformat": 4,
 "nbformat_minor": 2
}
