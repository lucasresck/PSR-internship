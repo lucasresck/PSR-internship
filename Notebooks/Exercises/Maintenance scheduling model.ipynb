{
 "cells": [
  {
   "cell_type": "code",
   "execution_count": 5,
   "metadata": {},
   "outputs": [
    {
     "name": "stderr",
     "output_type": "stream",
     "text": [
      "┌ Info: Recompiling stale cache file C:\\Users\\lucasresck\\.julia\\compiled\\v1.0\\JuMP\\DmXqY.ji for JuMP [4076af6c-e467-56ae-b986-b466b2749572]\n",
      "└ @ Base loading.jl:1190\n",
      "┌ Warning: Module Compat with build ID 87896584169362 is missing from the cache.\n",
      "│ This may mean Compat [34da2185-b29b-5c13-b0c7-acf172513d20] does not support precompilation but is imported by a module that does.\n",
      "└ @ Base loading.jl:947\n",
      "┌ Warning: Module Compat with build ID 87896584169362 is missing from the cache.\n",
      "│ This may mean Compat [34da2185-b29b-5c13-b0c7-acf172513d20] does not support precompilation but is imported by a module that does.\n",
      "└ @ Base loading.jl:947\n",
      "┌ Info: Precompiling MathProgBase [fdba3010-5040-5b88-9595-932c9decdf73]\n",
      "└ @ Base loading.jl:1192\n",
      "┌ Warning: Module Compat with build ID 87896584169362 is missing from the cache.\n",
      "│ This may mean Compat [34da2185-b29b-5c13-b0c7-acf172513d20] does not support precompilation but is imported by a module that does.\n",
      "└ @ Base loading.jl:947\n",
      "┌ Info: Recompiling stale cache file C:\\Users\\lucasresck\\.julia\\compiled\\v1.0\\ReverseDiffSparse\\VqGhr.ji for ReverseDiffSparse [89212889-6d3f-5f97-b412-7825138f6c9c]\n",
      "└ @ Base loading.jl:1190\n",
      "┌ Warning: Module DiffResults with build ID 420385209097569 is missing from the cache.\n",
      "│ This may mean DiffResults [163ba53b-c6d8-5494-b064-1a9d43ac40c5] does not support precompilation but is imported by a module that does.\n",
      "└ @ Base loading.jl:947\n",
      "┌ Warning: Module DiffResults with build ID 420385209097569 is missing from the cache.\n",
      "│ This may mean DiffResults [163ba53b-c6d8-5494-b064-1a9d43ac40c5] does not support precompilation but is imported by a module that does.\n",
      "└ @ Base loading.jl:947\n",
      "┌ Info: Precompiling ForwardDiff [f6369f11-7733-5829-9624-2563aa707210]\n",
      "└ @ Base loading.jl:1192\n",
      "┌ Warning: Module DiffResults with build ID 420385209097569 is missing from the cache.\n",
      "│ This may mean DiffResults [163ba53b-c6d8-5494-b064-1a9d43ac40c5] does not support precompilation but is imported by a module that does.\n",
      "└ @ Base loading.jl:947\n",
      "┌ Info: Recompiling stale cache file C:\\Users\\lucasresck\\.julia\\compiled\\v1.0\\Cbc\\ARPfV.ji for Cbc [9961bab8-2fa3-5c5a-9d89-47fab24efd76]\n",
      "└ @ Base loading.jl:1190\n",
      "┌ Warning: Module Compat with build ID 87896584169362 is missing from the cache.\n",
      "│ This may mean Compat [34da2185-b29b-5c13-b0c7-acf172513d20] does not support precompilation but is imported by a module that does.\n",
      "└ @ Base loading.jl:947\n"
     ]
    }
   ],
   "source": [
    "using JuMP, Cbc"
   ]
  },
  {
   "cell_type": "code",
   "execution_count": 12,
   "metadata": {},
   "outputs": [
    {
     "name": "stdout",
     "output_type": "stream",
     "text": [
      "\u001b[32m\u001b[1m  Building\u001b[22m\u001b[39m Xpress → `C:\\Users\\lucasresck\\.julia\\packages\\Xpress\\Jdi4R\\deps\\build.log`\n"
     ]
    },
    {
     "name": "stderr",
     "output_type": "stream",
     "text": [
      "┌ Error: Error building `Xpress`: \n",
      "│ ERROR: LoadError: Unable to locate Xpress installation, please check your enviroment variable XPRESSDIR . Note that Xpress must be obtained separately from fico.com\n",
      "│ Stacktrace:\n",
      "│  [1] error(::String) at .\\error.jl:33\n",
      "│  [2] top-level scope at C:\\Users\\lucasresck\\.julia\\packages\\Xpress\\Jdi4R\\deps\\build.jl:40\n",
      "│  [3] include at .\\boot.jl:317 [inlined]\n",
      "│  [4] include_relative(::Module, ::String) at .\\loading.jl:1044\n",
      "│  [5] include(::Module, ::String) at .\\sysimg.jl:29\n",
      "│  [6] include(::String) at .\\client.jl:392\n",
      "│  [7] top-level scope at none:0\n",
      "│ in expression starting at C:\\Users\\lucasresck\\.julia\\packages\\Xpress\\Jdi4R\\deps\\build.jl:39\n",
      "└ @ Pkg.Operations C:\\cygwin\\home\\Administrator\\buildbot\\worker\\package_win64\\build\\usr\\share\\julia\\stdlib\\v1.0\\Pkg\\src\\Operations.jl:1097\n"
     ]
    }
   ],
   "source": [
    "Pkg.build(\"Xpress\")"
   ]
  },
  {
   "cell_type": "code",
   "execution_count": 10,
   "metadata": {},
   "outputs": [],
   "source": [
    "N_t = 12\n",
    "#José Batlle y Ordóñez (1), Punta del Tigre (1), La Tablada (2), Maldonado (1)\n",
    "g_j = hcat([[394, 300, 285, 24] for i in 1:N_t]...)\n",
    "#Salto Grande Dam (7), Constitución (El Palmar) Dam (3), Gabriel Terra (Rincón del Bonete) Dam (4), Baygorria Dam (3)\n",
    "g_h = hcat([[1890, 333, 160, 108] for i in 1:N_t]...)\n",
    "u_j = [1, 1, 2, 1]\n",
    "u_h = [7, 3, 4, 3]\n",
    "ψ_j = Int.(zeros(size(g_j)[1], N_t))\n",
    "ψ_h = Int.(zeros(size(g_h)[1], N_t))\n",
    "N_S = 10\n",
    "r = zeros(2, N_S, N_t)\n",
    "for s in 1:N_S\n",
    "    for t in 1:N_t\n",
    "        r[:, s, t] = [0, 0]\n",
    "    end\n",
    "end\n",
    "d = Int.(round.(2494 .* [0.92, 0.93, 0.86, 0.87, 0.89, 1, 0.94, 0.96, 0.97, 0.89, 0.9, 0.91]))\n",
    "d_s = zeros(N_S, N_t)\n",
    "for s in 1:N_S\n",
    "    for t in 1:N_t\n",
    "        d_s[s, t] = d[t] - sum(r[:, s, t])\n",
    "    end\n",
    "end\n",
    "β = 0.1\n",
    "λ = 0.7\n",
    "k = 1;"
   ]
  },
  {
   "cell_type": "code",
   "execution_count": 7,
   "metadata": {},
   "outputs": [],
   "source": [
    "N_t = 3\n",
    "#José Batlle y Ordóñez (1), Punta del Tigre (1), La Tablada (2), Maldonado (1)\n",
    "g_j = hcat([[394, 300] for i in 1:N_t]...)\n",
    "#Salto Grande Dam (7), Constitución (El Palmar) Dam (3), Gabriel Terra (Rincón del Bonete) Dam (4), Baygorria Dam (3)\n",
    "g_h = hcat([[1890, 333, 160, 108] for i in 1:N_t]...)\n",
    "u_j = [1, 1]\n",
    "u_h = [7, 3]\n",
    "ψ_j = Int.(zeros(size(g_j)[1], N_t))\n",
    "ψ_h = Int.(zeros(size(g_h)[1], N_t))\n",
    "N_S = 2\n",
    "r = zeros(2, N_S, N_t)\n",
    "for s in 1:N_S\n",
    "    for t in 1:N_t\n",
    "        r[:, s, t] = [0, 0]\n",
    "    end\n",
    "end\n",
    "d = Int.(round.(2494 .* [0.92, 0.93, 0.86]))\n",
    "d_s = zeros(N_S, N_t)\n",
    "for s in 1:N_S\n",
    "    for t in 1:N_t\n",
    "        d_s[s, t] = d[t] - sum(r[:, s, t])\n",
    "    end\n",
    "end\n",
    "β = 0.1\n",
    "λ = 0.7\n",
    "k = 1;"
   ]
  },
  {
   "cell_type": "code",
   "execution_count": 11,
   "metadata": {},
   "outputs": [],
   "source": [
    "m = Model(solver = CbcSolver())\n",
    "\n",
    "@variables m begin\n",
    "    α_j[j = 1:size(g_j)[1], u = 1:u_j[j], t = 1:N_t], Bin\n",
    "    α_h[h = 1:size(g_h)[1], u = 1:u_h[h], t = 1:N_t], Bin\n",
    "    δ_s[1:N_S]\n",
    "    z\n",
    "    μ_s[1:N_S] <= 0\n",
    "end\n",
    "\n",
    "@constraintref reserve[1:N_t, 1:N_S]\n",
    "for t in 1:N_t\n",
    "    for s in 1:N_S\n",
    "        reserve[t, s] = @constraint(m, δ_s[s] <= 1 / d[t] * \n",
    "            (sum(sum((1 - ψ_h[h, t]) * g_h[h, t] / u_h[h] * α_h[h, u, t] for u in 1:u_h[h]) for h in 1:size(g_h)[1])\n",
    "                + sum(sum((1 - ψ_j[j, t]) * g_j[j, t] / u_j[j] * α_j[j, u, t] for u in 1:u_j[j]) for j in 1:size(g_j)[1])))\n",
    "    end\n",
    "end\n",
    "\n",
    "@constraintref CVaR[1:N_S]\n",
    "for s in 1:N_S\n",
    "    CVaR[s] = @constraint(m, μ_s[s] + z <= δ_s[s])\n",
    "end\n",
    "\n",
    "@constraintref units_h[1:size(g_h)[1], 1:sort(u_h)[end]]\n",
    "for h in 1:size(g_h)[1]\n",
    "    for u in 1:u_h[h]\n",
    "        units_h[h, u] = @constraint(m, sum(α_h[h, u, t] for t in 1:N_t) == N_t - k)\n",
    "    end\n",
    "end\n",
    "\n",
    "@constraintref units_j[1:size(g_j)[1], 1:sort(u_j)[end]]\n",
    "for j in 1:size(g_j)[1]\n",
    "    for u in 1:u_j[j]\n",
    "        units_j[j, u] = @constraint(m, sum(α_j[j, u, t] for t in 1:N_t) == N_t - k)\n",
    "    end\n",
    "end\n",
    "\n",
    "@expression(m, CVaR_β, z + 1 / N_S * 1 / (1 - β) * sum(μ_s))\n",
    "\n",
    "@objective(m, Max, λ * CVaR_β + (1 - λ) * 1 / N_S * sum(δ_s));"
   ]
  },
  {
   "cell_type": "code",
   "execution_count": null,
   "metadata": {},
   "outputs": [],
   "source": [
    "@time solve(m)"
   ]
  },
  {
   "cell_type": "code",
   "execution_count": null,
   "metadata": {},
   "outputs": [],
   "source": []
  }
 ],
 "metadata": {
  "kernelspec": {
   "display_name": "Julia 1.0.3",
   "language": "julia",
   "name": "julia-1.0"
  },
  "language_info": {
   "file_extension": ".jl",
   "mimetype": "application/julia",
   "name": "julia",
   "version": "1.0.3"
  }
 },
 "nbformat": 4,
 "nbformat_minor": 2
}
