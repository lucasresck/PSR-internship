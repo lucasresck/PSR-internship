{
 "cells": [
  {
   "cell_type": "markdown",
   "metadata": {},
   "source": [
    "# Problema do despacho térmico"
   ]
  },
  {
   "cell_type": "markdown",
   "metadata": {},
   "source": [
    "Existem n usinas e cada usina i tem capacidade máxima G_i e custo c_i. Dada uma demanda d, qual a melhor maneira de escolher as capacidades de operação g_i de cada usina de modo a minimizar o custo C?"
   ]
  },
  {
   "cell_type": "markdown",
   "metadata": {},
   "source": [
    "Uma ideia é usar a capacidade das usinas mais baratas até que a demanda seja suprida."
   ]
  },
  {
   "cell_type": "code",
   "execution_count": 39,
   "metadata": {},
   "outputs": [],
   "source": [
    "G_i = [100, 200, 50]\n",
    "c_i = [1, 2, 3]\n",
    "d = 200\n",
    "Gc = collect(zip(G_i, c_i))\n",
    "sort!(Gc, by = x -> x[2])\n",
    "\n",
    "while d > 0\n",
    "    d -= Gc[1][1]\n",
    "    popfirst!(Gc)\n",
    "end\n",
    "\n",
    "\n",
    "#while d > 0\n",
    "    "
   ]
  },
  {
   "cell_type": "code",
   "execution_count": 22,
   "metadata": {},
   "outputs": [
    {
     "ename": "UndefKeywordError",
     "evalue": "UndefKeywordError: keyword argument dims not assigned",
     "output_type": "error",
     "traceback": [
      "UndefKeywordError: keyword argument dims not assigned",
      "",
      "Stacktrace:",
      " [1] (::getfield(Base, Symbol(\"#kw##sort\")))(::NamedTuple{(:by,),Tuple{getfield(Main, Symbol(\"##13#14\"))}}, ::typeof(sort), ::Array{Float64,2}) at .\\none:0",
      " [2] top-level scope at In[22]:1"
     ]
    }
   ],
   "source": [
    "sort(Gc, by = x -> x[1])"
   ]
  },
  {
   "cell_type": "code",
   "execution_count": 18,
   "metadata": {},
   "outputs": [
    {
     "ename": "MethodError",
     "evalue": "MethodError: no method matching show_supertypes(::Type{NamedTuple})\nClosest candidates are:\n  show_supertypes(!Matched::IO, !Matched::DataType) at show.jl:537\n  show_supertypes(!Matched::DataType) at show.jl:544",
     "output_type": "error",
     "traceback": [
      "MethodError: no method matching show_supertypes(::Type{NamedTuple})\nClosest candidates are:\n  show_supertypes(!Matched::IO, !Matched::DataType) at show.jl:537\n  show_supertypes(!Matched::DataType) at show.jl:544",
      "",
      "Stacktrace:",
      " [1] top-level scope at In[18]:2"
     ]
    }
   ],
   "source": [
    "using Base: show_supertypes  # import the function from the `Base` package\n",
    "\n",
    "show_supertypes(NamedTuple)"
   ]
  },
  {
   "cell_type": "code",
   "execution_count": 26,
   "metadata": {},
   "outputs": [
    {
     "ename": "LoadError",
     "evalue": "Invalid @var syntax `extra token \"sortperm\" after end of expression`.",
     "output_type": "error",
     "traceback": [
      "Invalid @var syntax `extra token \"sortperm\" after end of expression`.",
      "",
      "Stacktrace:",
      " [1] error(::String) at .\\error.jl:33",
      " [2] splitexpr(::Any) at .\\docs\\bindings.jl:28",
      " [3] bindingexpr(::Any) at .\\docs\\bindings.jl:17",
      " [4] lookup_doc(::Expr) at C:\\cygwin\\home\\Administrator\\buildbot\\worker\\package_win64\\build\\usr\\share\\julia\\stdlib\\v1.0\\REPL\\src\\docview.jl:137",
      " [5] docm(::LineNumberNode, ::Module, ::Any) at .\\docs\\Docs.jl:501",
      " [6] @doc(::LineNumberNode, ::Module, ::Expr, ::Vararg{Expr,N} where N) at .\\boot.jl:451",
      " [7] eval at .\\boot.jl:319 [inlined]",
      " [8] execute_request(::ZMQ.Socket, ::IJulia.Msg) at C:\\Users\\lucasresck\\.julia\\packages\\IJulia\\GIANC\\src\\execute_request.jl:64",
      " [9] #invokelatest#1 at .\\essentials.jl:697 [inlined]",
      " [10] invokelatest at .\\essentials.jl:696 [inlined]",
      " [11] eventloop(::ZMQ.Socket) at C:\\Users\\lucasresck\\.julia\\packages\\IJulia\\GIANC\\src\\eventloop.jl:8",
      " [12] (::getfield(IJulia, Symbol(\"##15#18\")))() at .\\task.jl:259"
     ]
    }
   ],
   "source": [
    "?help sortperm"
   ]
  },
  {
   "cell_type": "code",
   "execution_count": 30,
   "metadata": {},
   "outputs": [
    {
     "ename": "UndefKeywordError",
     "evalue": "UndefKeywordError: keyword argument dims not assigned",
     "output_type": "error",
     "traceback": [
      "UndefKeywordError: keyword argument dims not assigned",
      "",
      "Stacktrace:",
      " [1] (::getfield(Base, Symbol(\"#kw##sort\")))(::NamedTuple{(:by,),Tuple{getfield(Main, Symbol(\"##17#18\"))}}, ::typeof(sort), ::Array{Int64,2}) at .\\none:0",
      " [2] top-level scope at In[30]:2"
     ]
    }
   ],
   "source": [
    "a = [-1 1; 2 3]\n",
    "sort(a, by=x->x[1])"
   ]
  },
  {
   "cell_type": "code",
   "execution_count": 31,
   "metadata": {},
   "outputs": [
    {
     "data": {
      "text/plain": [
       "3×2 Array{Float64,2}:\n",
       " 100.0  1.0\n",
       " 200.0  2.0\n",
       "  50.0  3.0"
      ]
     },
     "execution_count": 31,
     "metadata": {},
     "output_type": "execute_result"
    }
   ],
   "source": [
    "Gc"
   ]
  },
  {
   "cell_type": "code",
   "execution_count": 35,
   "metadata": {},
   "outputs": [
    {
     "ename": "UndefKeywordError",
     "evalue": "UndefKeywordError: keyword argument dims not assigned",
     "output_type": "error",
     "traceback": [
      "UndefKeywordError: keyword argument dims not assigned",
      "",
      "Stacktrace:",
      " [1] sort(::Array{Float64,2}) at .\\sort.jl:966",
      " [2] top-level scope at In[35]:1"
     ]
    }
   ],
   "source": [
    "sort(Gc)"
   ]
  },
  {
   "cell_type": "code",
   "execution_count": null,
   "metadata": {},
   "outputs": [],
   "source": []
  }
 ],
 "metadata": {
  "kernelspec": {
   "display_name": "Julia 1.0.3",
   "language": "julia",
   "name": "julia-1.0"
  },
  "language_info": {
   "file_extension": ".jl",
   "mimetype": "application/julia",
   "name": "julia",
   "version": "1.0.3"
  }
 },
 "nbformat": 4,
 "nbformat_minor": 2
}
