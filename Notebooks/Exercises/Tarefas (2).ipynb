{
 "cells": [
  {
   "cell_type": "code",
   "execution_count": 15,
   "metadata": {},
   "outputs": [],
   "source": [
    "using DataFrames\n",
    "using JuMP, Cbc"
   ]
  },
  {
   "cell_type": "markdown",
   "metadata": {},
   "source": [
    "# 1.8.1 Probabilidade de falha"
   ]
  },
  {
   "cell_type": "markdown",
   "metadata": {},
   "source": [
    "Dadas duas variáveis independentes $X$ e $Y$ e suas probabilidades $f_X(x)$ e $f_Y(y)$, respectivamente, como calcular $f_Z(z)$ onde $Z = X + Y$?"
   ]
  },
  {
   "cell_type": "markdown",
   "metadata": {},
   "source": [
    "Calculamos a probabilidade conjunta $f(x, y) = f_X(x)f_Y(y)$.\n",
    "\n",
    "Seguimos com $F_Z(z) = P(Z \\leq z) = P(X + Y \\leq z) = \\int\\int_{R}f(x, y)dA$, com $R$ definida pela região $X + Y \\leq z$. Temos, portanto, a probabilidade acumulada de $X + Y \\leq z$.\n",
    "\n",
    "Temos também $F_Z(z) = \\int_{-\\infty}^z f_Z(t)dt$. Deriva-se $F_Z(z)$ encontrado e tem-se $f_Z(z)$."
   ]
  },
  {
   "cell_type": "markdown",
   "metadata": {},
   "source": [
    "# 1.8.2 Implementação para $2$ usinas"
   ]
  },
  {
   "cell_type": "markdown",
   "metadata": {},
   "source": [
    "Uma implementação possível para duas usinas é calcular a priori as probabilidades para todos os casos de manutenção. \n",
    "\n",
    "$f_i$ é uma variável auxiliar que indica que a usina $i$ está em manutenção ($0$ corresponde à manutenção); $P_c$ é a probabilidade da demanda ser suprida em um dado cenário de manutenção; $P_j$ é a probabilidade da demanda ser suprida no cenário de manutenção $j$; $\\gamma_j$ é uma variável auxiliar da convolução. Segue:\n",
    "\n",
    "$$min\\ \\ G_{disp}$$\n",
    "\n",
    "$$s.a.\\ \\ G_{disp} = \\sum G_i f_i$$\n",
    "$$P_c \\geq \\epsilon$$\n",
    "$$P_c = \\sum_{j = 0} P_j \\gamma_j$$\n",
    "$$\\sum_{j = 0} \\gamma_j = 1$$\n",
    "\n",
    "$$\\gamma_j \\geq 0, \\forall j$$\n",
    "$$\\gamma_0 \\geq 1 - f_1 - f_2$$\n",
    "$$\\gamma_1 \\geq f_1 - f_2$$\n",
    "$$\\gamma_2 \\geq f_2 - f_1$$\n",
    "$$\\gamma_3 \\geq f_1 + f_2 - 1$$\n",
    "\n",
    "Sendo assim, como $\\sum_{j = 0} \\gamma_j = 1$, apenas um $\\gamma_j$ será $1$, de modo que $P_c = \\sum_{i = 0} P_i \\gamma_i$ será igual a apenas um $P_j \\gamma_j$. Ou seja, o solver escolhe aquele caso (ou um daqueles casos) em que $P_j \\geq \\epsilon$."
   ]
  },
  {
   "cell_type": "markdown",
   "metadata": {},
   "source": [
    "Sejam duas usinas com capacidades disponíveis $G_1 = 30$ e $G_2 = 40$ e uma demanda $D = 35$."
   ]
  },
  {
   "cell_type": "code",
   "execution_count": 49,
   "metadata": {},
   "outputs": [],
   "source": [
    "G8_2 = [30, 40]\n",
    "D8_2 = 35\n",
    "p8_2 = [0.5, 0.5]\n",
    "ϵ8_2 = 0.3 #Probabilidade de falha de cada gerador\n",
    "nplants8_2 = length(G8_2)\n",
    "nmonths8_2 = size(D8_2);"
   ]
  },
  {
   "cell_type": "code",
   "execution_count": 50,
   "metadata": {},
   "outputs": [
    {
     "data": {
      "text/html": [
       "<table class=\"data-frame\"><thead><tr><th></th><th>usinas</th><th>probabilidade</th></tr><tr><th></th><th>Any</th><th>Float64⍰</th></tr></thead><tbody><p>4 rows × 2 columns</p><tr><th>1</th><td>0</td><td>0.0</td></tr><tr><th>2</th><td>1</td><td>0.0</td></tr><tr><th>3</th><td>2</td><td>0.5</td></tr><tr><th>4</th><td>[1, 2]</td><td>missing</td></tr></tbody></table>"
      ],
      "text/latex": [
       "\\begin{tabular}{r|cc}\n",
       "\t& usinas & probabilidade\\\\\n",
       "\t\\hline\n",
       "\t1 & 0 & 0.0 \\\\\n",
       "\t2 & 1 & 0.0 \\\\\n",
       "\t3 & 2 & 0.5 \\\\\n",
       "\t4 & [1, 2] &  \\\\\n",
       "\\end{tabular}\n"
      ],
      "text/plain": [
       "4×2 DataFrame\n",
       "│ Row │ usinas │ probabilidade │\n",
       "│     │ \u001b[90mAny\u001b[39m    │ \u001b[90mFloat64⍰\u001b[39m      │\n",
       "├─────┼────────┼───────────────┤\n",
       "│ 1   │ 0      │ 0.0           │\n",
       "│ 2   │ 1      │ 0.0           │\n",
       "│ 3   │ 2      │ 0.5           │\n",
       "│ 4   │ [1, 2] │ \u001b[90mmissing\u001b[39m       │"
      ]
     },
     "execution_count": 50,
     "metadata": {},
     "output_type": "execute_result"
    }
   ],
   "source": [
    "tabela8_2 = DataFrames.DataFrame(usinas = [0, 1, 2, [1,2]], probabilidade = [0, 0, 0.5, missing])"
   ]
  },
  {
   "cell_type": "code",
   "execution_count": 51,
   "metadata": {},
   "outputs": [
    {
     "data": {
      "text/html": [
       "<table class=\"data-frame\"><thead><tr><th></th><th>usinas</th><th>probabilidade</th></tr><tr><th></th><th>Any</th><th>Float64⍰</th></tr></thead><tbody><p>4 rows × 2 columns</p><tr><th>1</th><td>0</td><td>0.0</td></tr><tr><th>2</th><td>1</td><td>0.0</td></tr><tr><th>3</th><td>2</td><td>0.5</td></tr><tr><th>4</th><td>[1, 2]</td><td>0.5</td></tr></tbody></table>"
      ],
      "text/latex": [
       "\\begin{tabular}{r|cc}\n",
       "\t& usinas & probabilidade\\\\\n",
       "\t\\hline\n",
       "\t1 & 0 & 0.0 \\\\\n",
       "\t2 & 1 & 0.0 \\\\\n",
       "\t3 & 2 & 0.5 \\\\\n",
       "\t4 & [1, 2] & 0.5 \\\\\n",
       "\\end{tabular}\n"
      ],
      "text/plain": [
       "4×2 DataFrame\n",
       "│ Row │ usinas │ probabilidade │\n",
       "│     │ \u001b[90mAny\u001b[39m    │ \u001b[90mFloat64⍰\u001b[39m      │\n",
       "├─────┼────────┼───────────────┤\n",
       "│ 1   │ 0      │ 0.0           │\n",
       "│ 2   │ 1      │ 0.0           │\n",
       "│ 3   │ 2      │ 0.5           │\n",
       "│ 4   │ [1, 2] │ 0.5           │"
      ]
     },
     "execution_count": 51,
     "metadata": {},
     "output_type": "execute_result"
    }
   ],
   "source": [
    "F_Z8_2 = 0\n",
    "for X in [0, 1]\n",
    "    for Y in [0, 1]\n",
    "        Z = G8_2[1] * X + G8_2[2] * Y\n",
    "        if Z < D8_2\n",
    "            F_Z8_2 += (X + (-1)^X * p8_2[1]) * (Y + (-1)^Y * p8_2[2])\n",
    "        end\n",
    "    end\n",
    "end\n",
    "tabela8_2.probabilidade[4] = 1 - F_Z8_2\n",
    "tabela8_2"
   ]
  },
  {
   "cell_type": "code",
   "execution_count": 52,
   "metadata": {},
   "outputs": [],
   "source": [
    "m8_2 = Model(solver = CbcSolver())\n",
    "\n",
    "@variable(m8_2, f[1:nplants8_2], Bin)\n",
    "@variable(m8_2, γ[1:nplants8_2^2], Bin)\n",
    "@variable(m8_2, G_disp)\n",
    "@variable(m8_2, Pc)\n",
    "\n",
    "@constraint(m8_2, G_disp == sum(G8_2 .* f))\n",
    "@constraint(m8_2, Pc >= ϵ8_2)\n",
    "@constraint(m8_2, Pc == sum(tabela8_2.probabilidade .* γ))\n",
    "@constraint(m8_2, sum(γ) == 1)\n",
    "\n",
    "@constraint(m8_2, γ[1] >= 1 - f[1] - f[2])\n",
    "@constraint(m8_2, γ[2] >= f[1] - f[2])\n",
    "@constraint(m8_2, γ[3] >= f[2] - f[1])\n",
    "@constraint(m8_2, γ[4] >= f[1] + f[2] - 1)\n",
    "\n",
    "@objective(m8_2, Min, G_disp);"
   ]
  },
  {
   "cell_type": "code",
   "execution_count": 53,
   "metadata": {},
   "outputs": [
    {
     "name": "stdout",
     "output_type": "stream",
     "text": [
      "  0.002988 seconds (65 allocations: 6.867 KiB)\n",
      "getvalue(f) = [0.0, 1.0]\n",
      "getvalue(γ) = [0.0, 0.0, 1.0, 0.0]\n",
      "getvalue(G_disp) = 40.0\n",
      "getvalue(Pc) = 0.5\n"
     ]
    }
   ],
   "source": [
    "@time solve(m8_2)\n",
    "@show getvalue(f)\n",
    "@show getvalue(γ)\n",
    "@show getvalue(G_disp)\n",
    "@show getvalue(Pc);"
   ]
  },
  {
   "cell_type": "markdown",
   "metadata": {},
   "source": [
    "# 1.8.3 Implementação para $n$ usinas"
   ]
  },
  {
   "cell_type": "markdown",
   "metadata": {},
   "source": [
    "Calcula-se a priori as probabilidades para todos os casos de manutenção. \n",
    "\n",
    "$f_i$ é uma variável auxiliar que indica que a usina $i$ está em manutenção ($0$ corresponde à manutenção); $P_c$ é a probabilidade da demanda ser suprida em um dado cenário de manutenção; $P_j$ é a probabilidade da demanda ser suprida no cenário de manutenção $j$; $\\gamma_j$ é uma variável auxiliar da convolução. Segue:\n",
    "\n",
    "$$min\\ \\ G_{disp}$$\n",
    "\n",
    "$$s.a.\\ \\ G_{disp} = \\sum G_i f_i$$\n",
    "$$P_c \\geq \\epsilon$$\n",
    "$$P_c = \\sum_{j = 0} P_j \\gamma_j$$\n",
    "$$\\sum_{j = 0} \\gamma_j = 1$$\n",
    "\n",
    "$$\\gamma_j \\geq 0, \\forall j$$\n",
    "$$\\gamma_j \\geq \\sum_{k \\in K_j} f_k - \\sum_{m \\in M_j} f_m - |K_j| + 1, \\ \\ \\forall j$$\n",
    "\n",
    "sendo $K_j$ o conjunto de usinas disponíveis no cenário de manutenção $j$, $M_j$ o conjunto de usinas em manutenção no cenário $j$ e $|K_j|$ o número de usinas disponíveis no cenário $j$."
   ]
  },
  {
   "cell_type": "code",
   "execution_count": 209,
   "metadata": {},
   "outputs": [],
   "source": [
    "G8_3 = G8_2\n",
    "D8_3 = D8_2\n",
    "ϵ8_3 = 0.5\n",
    "p8_3 = p8_2\n",
    "nplants8_3 = length(G8_3);"
   ]
  },
  {
   "cell_type": "code",
   "execution_count": 210,
   "metadata": {},
   "outputs": [],
   "source": [
    "function prob(G, p, D)\n",
    "    F_Z = 0\n",
    "    nplants = length(G)\n",
    "    for config in 0:(2^nplants - 1) #Para cada configuração de falha\n",
    "        config_bin = Base.bin(Unsigned(config), nplants, false) #Converte para binário\n",
    "        X = [parse(Int, config_bin[end - plant + 1]) for plant in 1:nplants] #Converte para array\n",
    "        Z = sum(G .* X)            \n",
    "        if Z < D\n",
    "            F_Z += prod(X .+ (-1).^X .* p)\n",
    "        end\n",
    "    end\n",
    "    return 1 - F_Z\n",
    "end;"
   ]
  },
  {
   "cell_type": "code",
   "execution_count": 211,
   "metadata": {},
   "outputs": [],
   "source": [
    "function tabela(G, p, D)\n",
    "    nplants = length(G)\n",
    "    tabela = zeros(2^nplants, 2)\n",
    "    tabela = convert(Array{Any}, tabela)\n",
    "    \n",
    "    for config in 0:(2^nplants - 1)\n",
    "        config_bin = Base.bin(Unsigned(config), nplants, false)\n",
    "        tabela[config + 1, 1] = config_bin\n",
    "        G_aux = []\n",
    "        p_aux = []\n",
    "        for plant in 1:nplants\n",
    "            if config_bin[end + 1 - plant] == '1'\n",
    "                push!(G_aux, G[plant])\n",
    "                push!(p_aux, p[plant])\n",
    "            end\n",
    "        end\n",
    "        if length(G_aux) == 0 #Se o número de usinas é zero\n",
    "            probability = 0.0\n",
    "        else\n",
    "            probability = prob(G_aux, p_aux, D)\n",
    "        end\n",
    "        tabela[config + 1, 2] = probability\n",
    "    end\n",
    "    return tabela\n",
    "end;     "
   ]
  },
  {
   "cell_type": "code",
   "execution_count": 212,
   "metadata": {},
   "outputs": [],
   "source": [
    "tabela8_3 = tabela(G8_3, p8_3, D8_3);"
   ]
  },
  {
   "cell_type": "code",
   "execution_count": 213,
   "metadata": {},
   "outputs": [],
   "source": [
    "m8_3 = Model(solver = CbcSolver())\n",
    "\n",
    "@variable(m8_3, G_disp)\n",
    "@variable(m8_3, f[1:nplants8_3], Bin)\n",
    "@variable(m8_3, Pc)\n",
    "@variable(m8_3, γ[1:2^nplants8_3], Bin)\n",
    "\n",
    "@constraint(m8_3, G_disp == sum(G8_3 .* f))\n",
    "@constraint(m8_3, Pc >= ϵ8_3)\n",
    "@constraint(m8_3, Pc == sum(tabela8_3[:, 2] .* γ))\n",
    "@constraint(m8_3, sum(γ) == 1)\n",
    "\n",
    "for j in 0:(2^nplants8_3 - 1)\n",
    "    j_bin = Base.bin(Unsigned(j), nplants8_3, false)\n",
    "    j_array = [parse(Int, j_bin[end + 1 - plant]) for plant in 1:nplants8_3]\n",
    "    @constraint(m8_3, γ[j + 1] >= sum((-1)^(1 + j_array[plant]) * f[plant] for plant in 1:nplants8_3) + 1 - count_ones(j))\n",
    "end\n",
    "\n",
    "@objective(m8_3, Min, G_disp);"
   ]
  },
  {
   "cell_type": "code",
   "execution_count": 214,
   "metadata": {},
   "outputs": [
    {
     "name": "stdout",
     "output_type": "stream",
     "text": [
      "  0.002703 seconds (65 allocations: 6.867 KiB)\n",
      "getvalue(f) = [0.0, 1.0]\n",
      "getvalue(γ) = [0.0, 0.0, 1.0, 0.0]\n",
      "getvalue(G_disp) = 40.0\n",
      "getvalue(Pc) = 0.5\n"
     ]
    }
   ],
   "source": [
    "@time solve(m8_3)\n",
    "@show getvalue(f)\n",
    "@show getvalue(γ)\n",
    "@show getvalue(G_disp)\n",
    "@show getvalue(Pc);"
   ]
  },
  {
   "cell_type": "code",
   "execution_count": null,
   "metadata": {},
   "outputs": [],
   "source": []
  }
 ],
 "metadata": {
  "kernelspec": {
   "display_name": "Julia 1.0.3",
   "language": "julia",
   "name": "julia-1.0"
  },
  "language_info": {
   "file_extension": ".jl",
   "mimetype": "application/julia",
   "name": "julia",
   "version": "1.0.3"
  }
 },
 "nbformat": 4,
 "nbformat_minor": 2
}
