{
 "cells": [
  {
   "cell_type": "markdown",
   "metadata": {},
   "source": [
    "# Exercise 1"
   ]
  },
  {
   "cell_type": "code",
   "execution_count": 4,
   "metadata": {},
   "outputs": [
    {
     "name": "stdout",
     "output_type": "stream",
     "text": [
      "InnerProduct = 32\n"
     ]
    }
   ],
   "source": [
    "x_vals = [1, 2, 3]\n",
    "y_vals = [4, 5, 6]\n",
    "InnerProduct = 0\n",
    "\n",
    "for (a, b) in zip(x_vals, y_vals)\n",
    "    InnerProduct += a * b\n",
    "end\n",
    "\n",
    "@show InnerProduct;"
   ]
  },
  {
   "cell_type": "code",
   "execution_count": 6,
   "metadata": {},
   "outputs": [
    {
     "data": {
      "text/plain": [
       "50"
      ]
     },
     "execution_count": 6,
     "metadata": {},
     "output_type": "execute_result"
    }
   ],
   "source": [
    "count = [number for number in 0:99 if iseven(number)]\n",
    "length(count)"
   ]
  },
  {
   "cell_type": "code",
   "execution_count": 10,
   "metadata": {},
   "outputs": [
    {
     "data": {
      "text/plain": [
       "2"
      ]
     },
     "execution_count": 10,
     "metadata": {},
     "output_type": "execute_result"
    }
   ],
   "source": [
    "pairs = ((2, 5), (4, 2), (9, 8), (12, 10))\n",
    "count2 = [pair for pair in pairs if iseven(pair[1]) && iseven(pair[2])]\n",
    "length(count2)"
   ]
  },
  {
   "cell_type": "markdown",
   "metadata": {},
   "source": [
    "# Exercise 2"
   ]
  },
  {
   "cell_type": "code",
   "execution_count": 17,
   "metadata": {
    "scrolled": true
   },
   "outputs": [
    {
     "name": "stdout",
     "output_type": "stream",
     "text": [
      "p(x, coeff) = 103\n"
     ]
    }
   ],
   "source": [
    "function p(x, coeff)\n",
    "    p = 0\n",
    "    for (i, coeff) in enumerate(coeff)\n",
    "        p += coeff * x^(i - 1)\n",
    "    end\n",
    "    return p\n",
    "end\n",
    "        \n",
    "x = 100\n",
    "coeff = [3, 1, 0, 0]\n",
    "@show p(x, coeff);"
   ]
  },
  {
   "cell_type": "markdown",
   "metadata": {},
   "source": [
    "# Exercise 3"
   ]
  },
  {
   "cell_type": "code",
   "execution_count": 20,
   "metadata": {},
   "outputs": [
    {
     "data": {
      "text/plain": [
       "2"
      ]
     },
     "execution_count": 20,
     "metadata": {},
     "output_type": "execute_result"
    }
   ],
   "source": [
    "function capital(string)\n",
    "    count = 0\n",
    "    for letter in string\n",
    "        if letter in \"ABCDEFGHIJKLMNOPQRSTUVWXYZ\"\n",
    "            count +=1\n",
    "        end\n",
    "    end\n",
    "    return count\n",
    "end\n",
    "\n",
    "capital(\"Lucas Emanuel\")"
   ]
  },
  {
   "cell_type": "markdown",
   "metadata": {},
   "source": [
    "# Exercise 4"
   ]
  },
  {
   "cell_type": "code",
   "execution_count": 25,
   "metadata": {},
   "outputs": [
    {
     "name": "stdout",
     "output_type": "stream",
     "text": [
      "3, false\n",
      "1, true\n",
      "314, true\n",
      "14, false\n",
      "1, true\n",
      "13, false\n",
      "6, false\n",
      "2, true\n"
     ]
    }
   ],
   "source": [
    "function sequences(seq_a, seq_b)\n",
    "    for element in seq_a\n",
    "        println(\"$element, $(element in seq_b)\")\n",
    "    end\n",
    "end\n",
    "\n",
    "seq_a = (3, 1, 314, 14, 1, 13, 6, 2)\n",
    "seq_b = [\"a\", 2, 7, 8, 9, 0, 77765, 1, 314, 7]\n",
    "sequences(seq_a, seq_b)"
   ]
  },
  {
   "cell_type": "markdown",
   "metadata": {},
   "source": [
    "# Exercise 5"
   ]
  },
  {
   "cell_type": "code",
   "execution_count": 36,
   "metadata": {},
   "outputs": [
    {
     "data": {
      "text/plain": [
       "0.24999999999925004"
      ]
     },
     "execution_count": 36,
     "metadata": {},
     "output_type": "execute_result"
    }
   ],
   "source": [
    "function linapprox(f, a, b, n, x)\n",
    "    points = collect(range(a, length = n, stop = b))\n",
    "    x_0 = 0\n",
    "    x_1 = 0\n",
    "    for (i, point) in enumerate(points)\n",
    "        if x == point\n",
    "            return point\n",
    "        elseif x < point\n",
    "            x_0 = point\n",
    "            x_1 = points[i + 1]\n",
    "            break\n",
    "        end\n",
    "    end\n",
    "    y_0 = f(x_0)\n",
    "    y_1 = f(x_1)\n",
    "    y = y_0 + (x - x_0) * (y_1 - y_0) / (x_1 - x_0)\n",
    "    return y\n",
    "end\n",
    "\n",
    "linapprox(x -> x^2, 0, 1, 1000000, 0.5)"
   ]
  },
  {
   "cell_type": "markdown",
   "metadata": {},
   "source": [
    "# Exercise 6"
   ]
  },
  {
   "cell_type": "code",
   "execution_count": 37,
   "metadata": {},
   "outputs": [
    {
     "data": {
      "text/plain": [
       "167"
      ]
     },
     "execution_count": 37,
     "metadata": {},
     "output_type": "execute_result"
    }
   ],
   "source": [
    "open(\"us_cities.txt\", \"w\") do f\n",
    "  write(f,\n",
    "\"new york: 8244910\n",
    "los angeles: 3819702\n",
    "chicago: 2707120\n",
    "houston: 2145146\n",
    "philadelphia: 1536471\n",
    "phoenix: 1469471\n",
    "san antonio: 1359758\n",
    "san diego: 1326179\n",
    "dallas: 1223229\")\n",
    "end"
   ]
  },
  {
   "cell_type": "code",
   "execution_count": 58,
   "metadata": {},
   "outputs": [
    {
     "name": "stdout",
     "output_type": "stream",
     "text": [
      "23831986"
     ]
    }
   ],
   "source": [
    "open(\"us_cities.txt\", \"r\") do f\n",
    "    total = 0\n",
    "    for line in eachline(f)\n",
    "        words = split(line)\n",
    "        population = parse(Int, words[end])\n",
    "        total += population\n",
    "    end\n",
    "    print(total)\n",
    "end"
   ]
  },
  {
   "cell_type": "code",
   "execution_count": null,
   "metadata": {},
   "outputs": [],
   "source": []
  }
 ],
 "metadata": {
  "kernelspec": {
   "display_name": "Julia 1.0.3",
   "language": "julia",
   "name": "julia-1.0"
  },
  "language_info": {
   "file_extension": ".jl",
   "mimetype": "application/julia",
   "name": "julia",
   "version": "1.0.3"
  }
 },
 "nbformat": 4,
 "nbformat_minor": 2
}
