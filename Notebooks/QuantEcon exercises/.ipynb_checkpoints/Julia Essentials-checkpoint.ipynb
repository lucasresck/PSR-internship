{
 "cells": [
  {
   "cell_type": "markdown",
   "metadata": {},
   "source": [
    "# Exercise 1"
   ]
  },
  {
   "cell_type": "code",
   "execution_count": 4,
   "metadata": {},
   "outputs": [
    {
     "name": "stdout",
     "output_type": "stream",
     "text": [
      "InnerProduct = 32\n"
     ]
    }
   ],
   "source": [
    "x_vals = [1, 2, 3]\n",
    "y_vals = [4, 5, 6]\n",
    "InnerProduct = 0\n",
    "\n",
    "for (a, b) in zip(x_vals, y_vals)\n",
    "    InnerProduct += a * b\n",
    "end\n",
    "\n",
    "@show InnerProduct;"
   ]
  },
  {
   "cell_type": "code",
   "execution_count": 6,
   "metadata": {},
   "outputs": [
    {
     "data": {
      "text/plain": [
       "50"
      ]
     },
     "execution_count": 6,
     "metadata": {},
     "output_type": "execute_result"
    }
   ],
   "source": [
    "count = [number for number in 0:99 if iseven(number)]\n",
    "length(count)"
   ]
  },
  {
   "cell_type": "code",
   "execution_count": 10,
   "metadata": {},
   "outputs": [
    {
     "data": {
      "text/plain": [
       "2"
      ]
     },
     "execution_count": 10,
     "metadata": {},
     "output_type": "execute_result"
    }
   ],
   "source": [
    "pairs = ((2, 5), (4, 2), (9, 8), (12, 10))\n",
    "count2 = [pair for pair in pairs if iseven(pair[1]) && iseven(pair[2])]\n",
    "length(count2)"
   ]
  },
  {
   "cell_type": "markdown",
   "metadata": {},
   "source": [
    "# Exercise 2"
   ]
  },
  {
   "cell_type": "code",
   "execution_count": 17,
   "metadata": {},
   "outputs": [
    {
     "name": "stdout",
     "output_type": "stream",
     "text": [
      "p(x, coeff) = 103\n"
     ]
    }
   ],
   "source": [
    "function p(x, coeff)\n",
    "    p = 0\n",
    "    for (i, coeff) in enumerate(coeff)\n",
    "        p += coeff * x^(i - 1)\n",
    "    end\n",
    "    return p\n",
    "end\n",
    "        \n",
    "x = 100\n",
    "coeff = [3, 1, 0, 0]\n",
    "@show p(x, coeff);"
   ]
  },
  {
   "cell_type": "markdown",
   "metadata": {},
   "source": [
    "# Exercise 3"
   ]
  },
  {
   "cell_type": "code",
   "execution_count": 20,
   "metadata": {},
   "outputs": [
    {
     "data": {
      "text/plain": [
       "2"
      ]
     },
     "execution_count": 20,
     "metadata": {},
     "output_type": "execute_result"
    }
   ],
   "source": [
    "function capital(string)\n",
    "    count = 0\n",
    "    for letter in string\n",
    "        if letter in \"ABCDEFGHIJKLMNOPQRSTUVWXYZ\"\n",
    "            count +=1\n",
    "        end\n",
    "    end\n",
    "    return count\n",
    "end\n",
    "\n",
    "capital(\"Lucas Emanuel\")"
   ]
  },
  {
   "cell_type": "code",
   "execution_count": null,
   "metadata": {},
   "outputs": [],
   "source": [
    "function sequences(seq_a, seq_b)\n",
    "    for element in seq_a\n",
    "        @show element"
   ]
  },
  {
   "cell_type": "code",
   "execution_count": null,
   "metadata": {},
   "outputs": [],
   "source": []
  }
 ],
 "metadata": {
  "kernelspec": {
   "display_name": "Julia 1.0.3",
   "language": "julia",
   "name": "julia-1.0"
  },
  "language_info": {
   "file_extension": ".jl",
   "mimetype": "application/julia",
   "name": "julia",
   "version": "1.0.3"
  }
 },
 "nbformat": 4,
 "nbformat_minor": 2
}
