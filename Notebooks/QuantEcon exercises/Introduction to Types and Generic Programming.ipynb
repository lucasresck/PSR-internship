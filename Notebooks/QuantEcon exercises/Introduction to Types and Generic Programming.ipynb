{
 "cells": [
  {
   "cell_type": "code",
   "execution_count": 1,
   "metadata": {},
   "outputs": [
    {
     "name": "stderr",
     "output_type": "stream",
     "text": [
      "┌ Warning: On Windows, creating file symlinks requires Administrator privileges\n",
      "└ @ Base.Filesystem file.jl:789\n"
     ]
    }
   ],
   "source": [
    "using InstantiateFromURL\n",
    "\n",
    "# activate the QuantEcon environment\n",
    "activate_github(\"QuantEcon/QuantEconLecturePackages\", tag = \"v0.9.5\");"
   ]
  },
  {
   "cell_type": "code",
   "execution_count": 2,
   "metadata": {},
   "outputs": [],
   "source": [
    "using LinearAlgebra, Statistics, Compat\n"
   ]
  },
  {
   "cell_type": "markdown",
   "metadata": {},
   "source": [
    "# Exercise 2"
   ]
  },
  {
   "cell_type": "code",
   "execution_count": 3,
   "metadata": {},
   "outputs": [],
   "source": [
    "using BenchmarkTools"
   ]
  },
  {
   "cell_type": "code",
   "execution_count": 4,
   "metadata": {},
   "outputs": [
    {
     "name": "stdout",
     "output_type": "stream",
     "text": [
      "  870.571 ns (10 allocations: 1.94 KiB)\n"
     ]
    },
    {
     "data": {
      "text/plain": [
       "2×2 Array{Float64,2}:\n",
       " 0.666667     1.11022e-16\n",
       " 1.11022e-16  0.666667   "
      ]
     },
     "execution_count": 4,
     "metadata": {},
     "output_type": "execute_result"
    }
   ],
   "source": [
    "Σ = [0.4  0.3;\n",
    "     0.3  0.45]\n",
    "G = I\n",
    "R = 0.5 * Σ\n",
    "\n",
    "gain(Σ, G, R) = Σ * G' * inv(G * Σ * G' + R)\n",
    "@btime gain($Σ, $G, $R)"
   ]
  },
  {
   "cell_type": "code",
   "execution_count": 5,
   "metadata": {},
   "outputs": [
    {
     "name": "stdout",
     "output_type": "stream",
     "text": [
      "  13.684 ns (0 allocations: 0 bytes)\n"
     ]
    },
    {
     "data": {
      "text/plain": [
       "2×2 SArray{Tuple{2,2},Float64,2,4}:\n",
       " 0.666667     1.11022e-16\n",
       " 2.22045e-16  0.666667   "
      ]
     },
     "execution_count": 5,
     "metadata": {},
     "output_type": "execute_result"
    }
   ],
   "source": [
    "using StaticArrays\n",
    "\n",
    "Σ = SMatrix{2, 2}([0.4  0.3;\n",
    "     0.3  0.45])\n",
    "G = I\n",
    "R = 0.5 * Σ\n",
    "\n",
    "gain(Σ, G, R) = Σ * G' * inv(G * Σ * G' + R)\n",
    "@btime gain($Σ, $G, $R)"
   ]
  },
  {
   "cell_type": "markdown",
   "metadata": {},
   "source": [
    "# Exercise 3"
   ]
  },
  {
   "cell_type": "code",
   "execution_count": 6,
   "metadata": {},
   "outputs": [
    {
     "name": "stdout",
     "output_type": "stream",
     "text": [
      "p = Poly(2 - 5*x + 2*x^2)\n",
      "(p(0.1), p′(0.1)) = (1.52, -4.6)\n",
      "roots(p) = [2.0, 0.5]\n"
     ]
    },
    {
     "data": {
      "image/svg+xml": [
       "<?xml version=\"1.0\" encoding=\"utf-8\"?>\n",
       "<svg xmlns=\"http://www.w3.org/2000/svg\" xmlns:xlink=\"http://www.w3.org/1999/xlink\" width=\"600\" height=\"400\" viewBox=\"0 0 2400 1600\">\n",
       "<defs>\n",
       "  <clipPath id=\"clip6100\">\n",
       "    <rect x=\"0\" y=\"0\" width=\"2000\" height=\"2000\"/>\n",
       "  </clipPath>\n",
       "</defs>\n",
       "<defs>\n",
       "  <clipPath id=\"clip6101\">\n",
       "    <rect x=\"0\" y=\"0\" width=\"2400\" height=\"1600\"/>\n",
       "  </clipPath>\n",
       "</defs>\n",
       "<polygon clip-path=\"url(#clip6101)\" points=\"\n",
       "0,1600 2400,1600 2400,0 0,0 \n",
       "  \" fill=\"#ffffff\" fill-rule=\"evenodd\" fill-opacity=\"1\"/>\n",
       "<defs>\n",
       "  <clipPath id=\"clip6102\">\n",
       "    <rect x=\"480\" y=\"0\" width=\"1681\" height=\"1600\"/>\n",
       "  </clipPath>\n",
       "</defs>\n",
       "<polygon clip-path=\"url(#clip6101)\" points=\"\n",
       "176.123,1503.47 2321.26,1503.47 2321.26,47.2441 176.123,47.2441 \n",
       "  \" fill=\"#ffffff\" fill-rule=\"evenodd\" fill-opacity=\"1\"/>\n",
       "<defs>\n",
       "  <clipPath id=\"clip6103\">\n",
       "    <rect x=\"176\" y=\"47\" width=\"2146\" height=\"1457\"/>\n",
       "  </clipPath>\n",
       "</defs>\n",
       "<polyline clip-path=\"url(#clip6103)\" style=\"stroke:#000000; stroke-width:2; stroke-opacity:0.1; fill:none\" points=\"\n",
       "  236.834,1503.47 236.834,47.2441 \n",
       "  \"/>\n",
       "<polyline clip-path=\"url(#clip6103)\" style=\"stroke:#000000; stroke-width:2; stroke-opacity:0.1; fill:none\" points=\"\n",
       "  742.763,1503.47 742.763,47.2441 \n",
       "  \"/>\n",
       "<polyline clip-path=\"url(#clip6103)\" style=\"stroke:#000000; stroke-width:2; stroke-opacity:0.1; fill:none\" points=\"\n",
       "  1248.69,1503.47 1248.69,47.2441 \n",
       "  \"/>\n",
       "<polyline clip-path=\"url(#clip6103)\" style=\"stroke:#000000; stroke-width:2; stroke-opacity:0.1; fill:none\" points=\"\n",
       "  1754.62,1503.47 1754.62,47.2441 \n",
       "  \"/>\n",
       "<polyline clip-path=\"url(#clip6103)\" style=\"stroke:#000000; stroke-width:2; stroke-opacity:0.1; fill:none\" points=\"\n",
       "  2260.55,1503.47 2260.55,47.2441 \n",
       "  \"/>\n",
       "<polyline clip-path=\"url(#clip6103)\" style=\"stroke:#000000; stroke-width:2; stroke-opacity:0.1; fill:none\" points=\"\n",
       "  176.123,1337.37 2321.26,1337.37 \n",
       "  \"/>\n",
       "<polyline clip-path=\"url(#clip6103)\" style=\"stroke:#000000; stroke-width:2; stroke-opacity:0.1; fill:none\" points=\"\n",
       "  176.123,921.066 2321.26,921.066 \n",
       "  \"/>\n",
       "<polyline clip-path=\"url(#clip6103)\" style=\"stroke:#000000; stroke-width:2; stroke-opacity:0.1; fill:none\" points=\"\n",
       "  176.123,504.762 2321.26,504.762 \n",
       "  \"/>\n",
       "<polyline clip-path=\"url(#clip6103)\" style=\"stroke:#000000; stroke-width:2; stroke-opacity:0.1; fill:none\" points=\"\n",
       "  176.123,88.4582 2321.26,88.4582 \n",
       "  \"/>\n",
       "<polyline clip-path=\"url(#clip6101)\" style=\"stroke:#000000; stroke-width:4; stroke-opacity:1; fill:none\" points=\"\n",
       "  176.123,1503.47 2321.26,1503.47 \n",
       "  \"/>\n",
       "<polyline clip-path=\"url(#clip6101)\" style=\"stroke:#000000; stroke-width:4; stroke-opacity:1; fill:none\" points=\"\n",
       "  176.123,1503.47 176.123,47.2441 \n",
       "  \"/>\n",
       "<polyline clip-path=\"url(#clip6101)\" style=\"stroke:#000000; stroke-width:4; stroke-opacity:1; fill:none\" points=\"\n",
       "  236.834,1503.47 236.834,1481.63 \n",
       "  \"/>\n",
       "<polyline clip-path=\"url(#clip6101)\" style=\"stroke:#000000; stroke-width:4; stroke-opacity:1; fill:none\" points=\"\n",
       "  742.763,1503.47 742.763,1481.63 \n",
       "  \"/>\n",
       "<polyline clip-path=\"url(#clip6101)\" style=\"stroke:#000000; stroke-width:4; stroke-opacity:1; fill:none\" points=\"\n",
       "  1248.69,1503.47 1248.69,1481.63 \n",
       "  \"/>\n",
       "<polyline clip-path=\"url(#clip6101)\" style=\"stroke:#000000; stroke-width:4; stroke-opacity:1; fill:none\" points=\"\n",
       "  1754.62,1503.47 1754.62,1481.63 \n",
       "  \"/>\n",
       "<polyline clip-path=\"url(#clip6101)\" style=\"stroke:#000000; stroke-width:4; stroke-opacity:1; fill:none\" points=\"\n",
       "  2260.55,1503.47 2260.55,1481.63 \n",
       "  \"/>\n",
       "<polyline clip-path=\"url(#clip6101)\" style=\"stroke:#000000; stroke-width:4; stroke-opacity:1; fill:none\" points=\"\n",
       "  176.123,1337.37 208.3,1337.37 \n",
       "  \"/>\n",
       "<polyline clip-path=\"url(#clip6101)\" style=\"stroke:#000000; stroke-width:4; stroke-opacity:1; fill:none\" points=\"\n",
       "  176.123,921.066 208.3,921.066 \n",
       "  \"/>\n",
       "<polyline clip-path=\"url(#clip6101)\" style=\"stroke:#000000; stroke-width:4; stroke-opacity:1; fill:none\" points=\"\n",
       "  176.123,504.762 208.3,504.762 \n",
       "  \"/>\n",
       "<polyline clip-path=\"url(#clip6101)\" style=\"stroke:#000000; stroke-width:4; stroke-opacity:1; fill:none\" points=\"\n",
       "  176.123,88.4582 208.3,88.4582 \n",
       "  \"/>\n",
       "<g clip-path=\"url(#clip6101)\">\n",
       "<text style=\"fill:#000000; fill-opacity:1; font-family:Arial,Helvetica Neue,Helvetica,sans-serif; font-size:48px; text-anchor:middle;\" transform=\"rotate(0, 236.834, 1557.47)\" x=\"236.834\" y=\"1557.47\">-2</text>\n",
       "</g>\n",
       "<g clip-path=\"url(#clip6101)\">\n",
       "<text style=\"fill:#000000; fill-opacity:1; font-family:Arial,Helvetica Neue,Helvetica,sans-serif; font-size:48px; text-anchor:middle;\" transform=\"rotate(0, 742.763, 1557.47)\" x=\"742.763\" y=\"1557.47\">-1</text>\n",
       "</g>\n",
       "<g clip-path=\"url(#clip6101)\">\n",
       "<text style=\"fill:#000000; fill-opacity:1; font-family:Arial,Helvetica Neue,Helvetica,sans-serif; font-size:48px; text-anchor:middle;\" transform=\"rotate(0, 1248.69, 1557.47)\" x=\"1248.69\" y=\"1557.47\">0</text>\n",
       "</g>\n",
       "<g clip-path=\"url(#clip6101)\">\n",
       "<text style=\"fill:#000000; fill-opacity:1; font-family:Arial,Helvetica Neue,Helvetica,sans-serif; font-size:48px; text-anchor:middle;\" transform=\"rotate(0, 1754.62, 1557.47)\" x=\"1754.62\" y=\"1557.47\">1</text>\n",
       "</g>\n",
       "<g clip-path=\"url(#clip6101)\">\n",
       "<text style=\"fill:#000000; fill-opacity:1; font-family:Arial,Helvetica Neue,Helvetica,sans-serif; font-size:48px; text-anchor:middle;\" transform=\"rotate(0, 2260.55, 1557.47)\" x=\"2260.55\" y=\"1557.47\">2</text>\n",
       "</g>\n",
       "<g clip-path=\"url(#clip6101)\">\n",
       "<text style=\"fill:#000000; fill-opacity:1; font-family:Arial,Helvetica Neue,Helvetica,sans-serif; font-size:48px; text-anchor:end;\" transform=\"rotate(0, 152.123, 1354.87)\" x=\"152.123\" y=\"1354.87\">-10</text>\n",
       "</g>\n",
       "<g clip-path=\"url(#clip6101)\">\n",
       "<text style=\"fill:#000000; fill-opacity:1; font-family:Arial,Helvetica Neue,Helvetica,sans-serif; font-size:48px; text-anchor:end;\" transform=\"rotate(0, 152.123, 938.566)\" x=\"152.123\" y=\"938.566\">0</text>\n",
       "</g>\n",
       "<g clip-path=\"url(#clip6101)\">\n",
       "<text style=\"fill:#000000; fill-opacity:1; font-family:Arial,Helvetica Neue,Helvetica,sans-serif; font-size:48px; text-anchor:end;\" transform=\"rotate(0, 152.123, 522.262)\" x=\"152.123\" y=\"522.262\">10</text>\n",
       "</g>\n",
       "<g clip-path=\"url(#clip6101)\">\n",
       "<text style=\"fill:#000000; fill-opacity:1; font-family:Arial,Helvetica Neue,Helvetica,sans-serif; font-size:48px; text-anchor:end;\" transform=\"rotate(0, 152.123, 105.958)\" x=\"152.123\" y=\"105.958\">20</text>\n",
       "</g>\n",
       "<polyline clip-path=\"url(#clip6103)\" style=\"stroke:#009af9; stroke-width:4; stroke-opacity:1; fill:none\" points=\"\n",
       "  236.834,88.4582 287.427,141.745 338.02,193.367 388.613,243.323 439.206,291.614 489.799,338.24 540.391,383.201 590.984,426.497 641.577,468.127 692.17,508.092 \n",
       "  742.763,546.392 793.356,583.027 843.949,617.997 894.541,651.301 945.134,682.94 995.727,712.914 1046.32,741.223 1096.91,767.866 1147.51,792.844 1198.1,816.157 \n",
       "  1248.69,837.805 1299.28,857.788 1349.88,876.105 1400.47,892.757 1451.06,907.744 1501.66,921.066 1552.25,932.722 1602.84,942.714 1653.43,951.04 1704.03,957.7 \n",
       "  1754.62,962.696 1805.21,966.027 1855.81,967.692 1906.4,967.692 1956.99,966.027 2007.58,962.696 2058.18,957.7 2108.77,951.04 2159.36,942.714 2209.96,932.722 \n",
       "  2260.55,921.066 \n",
       "  \"/>\n",
       "<polyline clip-path=\"url(#clip6103)\" style=\"stroke:#e26f46; stroke-width:4; stroke-opacity:1; fill:none\" points=\"\n",
       "  236.834,1462.26 287.427,1445.61 338.02,1428.96 388.613,1412.3 439.206,1395.65 489.799,1379 540.391,1362.35 590.984,1345.7 641.577,1329.04 692.17,1312.39 \n",
       "  742.763,1295.74 793.356,1279.09 843.949,1262.43 894.541,1245.78 945.134,1229.13 995.727,1212.48 1046.32,1195.83 1096.91,1179.17 1147.51,1162.52 1198.1,1145.87 \n",
       "  1248.69,1129.22 1299.28,1112.57 1349.88,1095.91 1400.47,1079.26 1451.06,1062.61 1501.66,1045.96 1552.25,1029.3 1602.84,1012.65 1653.43,996 1704.03,979.348 \n",
       "  1754.62,962.696 1805.21,946.044 1855.81,929.392 1906.4,912.74 1956.99,896.088 2007.58,879.435 2058.18,862.783 2108.77,846.131 2159.36,829.479 2209.96,812.827 \n",
       "  2260.55,796.175 \n",
       "  \"/>\n",
       "<polygon clip-path=\"url(#clip6101)\" points=\"\n",
       "1971.81,312.204 2249.26,312.204 2249.26,130.764 1971.81,130.764 \n",
       "  \" fill=\"#ffffff\" fill-rule=\"evenodd\" fill-opacity=\"1\"/>\n",
       "<polyline clip-path=\"url(#clip6101)\" style=\"stroke:#000000; stroke-width:4; stroke-opacity:1; fill:none\" points=\"\n",
       "  1971.81,312.204 2249.26,312.204 2249.26,130.764 1971.81,130.764 1971.81,312.204 \n",
       "  \"/>\n",
       "<polyline clip-path=\"url(#clip6101)\" style=\"stroke:#009af9; stroke-width:4; stroke-opacity:1; fill:none\" points=\"\n",
       "  1995.81,191.244 2139.81,191.244 \n",
       "  \"/>\n",
       "<g clip-path=\"url(#clip6101)\">\n",
       "<text style=\"fill:#000000; fill-opacity:1; font-family:Arial,Helvetica Neue,Helvetica,sans-serif; font-size:48px; text-anchor:start;\" transform=\"rotate(0, 2163.81, 208.744)\" x=\"2163.81\" y=\"208.744\">p</text>\n",
       "</g>\n",
       "<polyline clip-path=\"url(#clip6101)\" style=\"stroke:#e26f46; stroke-width:4; stroke-opacity:1; fill:none\" points=\"\n",
       "  1995.81,251.724 2139.81,251.724 \n",
       "  \"/>\n",
       "<g clip-path=\"url(#clip6101)\">\n",
       "<text style=\"fill:#000000; fill-opacity:1; font-family:Arial,Helvetica Neue,Helvetica,sans-serif; font-size:48px; text-anchor:start;\" transform=\"rotate(0, 2163.81, 269.224)\" x=\"2163.81\" y=\"269.224\">p&apos;</text>\n",
       "</g>\n",
       "</svg>\n"
      ]
     },
     "execution_count": 6,
     "metadata": {},
     "output_type": "execute_result"
    }
   ],
   "source": [
    "using Polynomials, Plots\n",
    "\n",
    "p = Poly([2, -5, 2], :x)  # :x just gives a symbol for display\n",
    "\n",
    "@show p\n",
    "p′ = polyder(p)   # gives the derivative of p, another polynomial\n",
    "@show p(0.1), p′(0.1)  # call like a function\n",
    "@show roots(p);   # find roots such that p(x) = 0\n",
    "\n",
    "x = -2:0.1:2\n",
    "y_1 = [p(x) for x in x]\n",
    "y_2 = [p′(x) for x in x]\n",
    "\n",
    "plot(x, y_1, label = \"p\")\n",
    "plot!(x, y_2, label = \"p'\")"
   ]
  },
  {
   "cell_type": "markdown",
   "metadata": {},
   "source": [
    "# Exercise 4"
   ]
  },
  {
   "cell_type": "code",
   "execution_count": 7,
   "metadata": {},
   "outputs": [
    {
     "name": "stdout",
     "output_type": "stream",
     "text": [
      "Root = 2.0, and tolerance = 2.76667577736589e-13 in 7 iterations\n",
      "roots(p) = [2.0, 0.5]\n"
     ]
    }
   ],
   "source": [
    "using ForwardDiff\n",
    "\n",
    "# good style\n",
    "function newtonsmethod(p::Poly, x_0; tolerance = 1E-7, maxiter = 100)\n",
    "    # setup the algorithm\n",
    "    x_old = x_0\n",
    "    normdiff = 1\n",
    "    iter = 1\n",
    "    p_prime = polyder(p)\n",
    "    while normdiff > tolerance && iter <= maxiter\n",
    "        x_new = x_old - p(x_old) / p_prime(x_old) # use the passed in map\n",
    "        normdiff = abs(x_new - x_old)\n",
    "        x_old = x_new\n",
    "        iter = iter + 1\n",
    "    end\n",
    "    return (value = x_old, normdiff=normdiff, iter=iter) # A named tuple\n",
    "end\n",
    "\n",
    "p = Poly([2, -5, 2], :x)\n",
    "\n",
    "x_0 = 3\n",
    "\n",
    "sol = newtonsmethod(p, x_0)\n",
    "println(\"Root = $(sol.value), and tolerance = $(sol.normdiff) in $(sol.iter)\"*\n",
    "        \" iterations\")\n",
    "@show roots(p);"
   ]
  },
  {
   "cell_type": "markdown",
   "metadata": {},
   "source": [
    "# Exercise 5"
   ]
  },
  {
   "cell_type": "code",
   "execution_count": 8,
   "metadata": {},
   "outputs": [
    {
     "data": {
      "text/plain": [
       "trapezoidal (generic function with 3 methods)"
      ]
     },
     "execution_count": 8,
     "metadata": {},
     "output_type": "execute_result"
    }
   ],
   "source": [
    "function trapezoidal(f::AbstractArray, x::AbstractArray)\n",
    "    @assert length(f) == length(x)\n",
    "    integrate = 0\n",
    "    for i in 2:length(f)\n",
    "        integrate += (f[i - 1] + f[i]) / 2 * (x[i] - x[i - 1])\n",
    "    end\n",
    "    return integrate\n",
    "end\n",
    "\n",
    "function trapezoidal(f::AbstractArray, x::AbstractRange)\n",
    "    @assert length(f) == length(x)\n",
    "    integrate = 0\n",
    "    for i in 2:length(f)\n",
    "        integrate += (f[i - 1] + f[i]) / 2 * (x[i] - x[i - 1])\n",
    "    end\n",
    "    return integrate\n",
    "end\n",
    "\n",
    "function trapezoidal(f::Function, x̲::Real, x̄::Real, N::Real)\n",
    "    x = range(x̲, stop = x̄, length = N)\n",
    "    y = [f(z) for z in x]\n",
    "    return trapezoidal(y, x)\n",
    "end"
   ]
  },
  {
   "cell_type": "code",
   "execution_count": 21,
   "metadata": {},
   "outputs": [
    {
     "name": "stdout",
     "output_type": "stream",
     "text": [
      "trapezoidal(y, x) = 0.083325\n",
      "trapezoidal(y, x) = 0.083325\n",
      "trapezoidal(f, 0.0, 1.0, 1000) = 0.0833332498330829\n"
     ]
    }
   ],
   "source": [
    "x = 0.0:0.01:1.0 #x is a range\n",
    "f(x) = x^2 - x^3\n",
    "y = [f(z) for z in x]\n",
    "@show trapezoidal(y, x)\n",
    "\n",
    "x = collect(x) #Now x is an Array\n",
    "@show trapezoidal(y, x)\n",
    "\n",
    "@show trapezoidal(f, 0.0, 1.0, 1000);"
   ]
  },
  {
   "cell_type": "code",
   "execution_count": 22,
   "metadata": {},
   "outputs": [
    {
     "data": {
      "image/svg+xml": [
       "<?xml version=\"1.0\" encoding=\"utf-8\"?>\n",
       "<svg xmlns=\"http://www.w3.org/2000/svg\" xmlns:xlink=\"http://www.w3.org/1999/xlink\" width=\"600\" height=\"400\" viewBox=\"0 0 2400 1600\">\n",
       "<defs>\n",
       "  <clipPath id=\"clip7900\">\n",
       "    <rect x=\"0\" y=\"0\" width=\"2000\" height=\"2000\"/>\n",
       "  </clipPath>\n",
       "</defs>\n",
       "<defs>\n",
       "  <clipPath id=\"clip7901\">\n",
       "    <rect x=\"0\" y=\"0\" width=\"2400\" height=\"1600\"/>\n",
       "  </clipPath>\n",
       "</defs>\n",
       "<polygon clip-path=\"url(#clip7901)\" points=\"\n",
       "0,1600 2400,1600 2400,0 0,0 \n",
       "  \" fill=\"#ffffff\" fill-rule=\"evenodd\" fill-opacity=\"1\"/>\n",
       "<defs>\n",
       "  <clipPath id=\"clip7902\">\n",
       "    <rect x=\"480\" y=\"0\" width=\"1681\" height=\"1600\"/>\n",
       "  </clipPath>\n",
       "</defs>\n",
       "<polygon clip-path=\"url(#clip7901)\" points=\"\n",
       "405.143,1503.47 2321.26,1503.47 2321.26,47.2441 405.143,47.2441 \n",
       "  \" fill=\"#ffffff\" fill-rule=\"evenodd\" fill-opacity=\"1\"/>\n",
       "<defs>\n",
       "  <clipPath id=\"clip7903\">\n",
       "    <rect x=\"405\" y=\"47\" width=\"1917\" height=\"1457\"/>\n",
       "  </clipPath>\n",
       "</defs>\n",
       "<polyline clip-path=\"url(#clip7903)\" style=\"stroke:#000000; stroke-width:2; stroke-opacity:0.1; fill:none\" points=\"\n",
       "  660.224,1503.47 660.224,47.2441 \n",
       "  \"/>\n",
       "<polyline clip-path=\"url(#clip7903)\" style=\"stroke:#000000; stroke-width:2; stroke-opacity:0.1; fill:none\" points=\"\n",
       "  1061.93,1503.47 1061.93,47.2441 \n",
       "  \"/>\n",
       "<polyline clip-path=\"url(#clip7903)\" style=\"stroke:#000000; stroke-width:2; stroke-opacity:0.1; fill:none\" points=\"\n",
       "  1463.63,1503.47 1463.63,47.2441 \n",
       "  \"/>\n",
       "<polyline clip-path=\"url(#clip7903)\" style=\"stroke:#000000; stroke-width:2; stroke-opacity:0.1; fill:none\" points=\"\n",
       "  1865.33,1503.47 1865.33,47.2441 \n",
       "  \"/>\n",
       "<polyline clip-path=\"url(#clip7903)\" style=\"stroke:#000000; stroke-width:2; stroke-opacity:0.1; fill:none\" points=\"\n",
       "  2267.03,1503.47 2267.03,47.2441 \n",
       "  \"/>\n",
       "<polyline clip-path=\"url(#clip7903)\" style=\"stroke:#000000; stroke-width:2; stroke-opacity:0.1; fill:none\" points=\"\n",
       "  405.143,1271.47 2321.26,1271.47 \n",
       "  \"/>\n",
       "<polyline clip-path=\"url(#clip7903)\" style=\"stroke:#000000; stroke-width:2; stroke-opacity:0.1; fill:none\" points=\"\n",
       "  405.143,945.116 2321.26,945.116 \n",
       "  \"/>\n",
       "<polyline clip-path=\"url(#clip7903)\" style=\"stroke:#000000; stroke-width:2; stroke-opacity:0.1; fill:none\" points=\"\n",
       "  405.143,618.76 2321.26,618.76 \n",
       "  \"/>\n",
       "<polyline clip-path=\"url(#clip7903)\" style=\"stroke:#000000; stroke-width:2; stroke-opacity:0.1; fill:none\" points=\"\n",
       "  405.143,292.404 2321.26,292.404 \n",
       "  \"/>\n",
       "<polyline clip-path=\"url(#clip7901)\" style=\"stroke:#000000; stroke-width:4; stroke-opacity:1; fill:none\" points=\"\n",
       "  405.143,1503.47 2321.26,1503.47 \n",
       "  \"/>\n",
       "<polyline clip-path=\"url(#clip7901)\" style=\"stroke:#000000; stroke-width:4; stroke-opacity:1; fill:none\" points=\"\n",
       "  405.143,1503.47 405.143,47.2441 \n",
       "  \"/>\n",
       "<polyline clip-path=\"url(#clip7901)\" style=\"stroke:#000000; stroke-width:4; stroke-opacity:1; fill:none\" points=\"\n",
       "  660.224,1503.47 660.224,1481.63 \n",
       "  \"/>\n",
       "<polyline clip-path=\"url(#clip7901)\" style=\"stroke:#000000; stroke-width:4; stroke-opacity:1; fill:none\" points=\"\n",
       "  1061.93,1503.47 1061.93,1481.63 \n",
       "  \"/>\n",
       "<polyline clip-path=\"url(#clip7901)\" style=\"stroke:#000000; stroke-width:4; stroke-opacity:1; fill:none\" points=\"\n",
       "  1463.63,1503.47 1463.63,1481.63 \n",
       "  \"/>\n",
       "<polyline clip-path=\"url(#clip7901)\" style=\"stroke:#000000; stroke-width:4; stroke-opacity:1; fill:none\" points=\"\n",
       "  1865.33,1503.47 1865.33,1481.63 \n",
       "  \"/>\n",
       "<polyline clip-path=\"url(#clip7901)\" style=\"stroke:#000000; stroke-width:4; stroke-opacity:1; fill:none\" points=\"\n",
       "  2267.03,1503.47 2267.03,1481.63 \n",
       "  \"/>\n",
       "<polyline clip-path=\"url(#clip7901)\" style=\"stroke:#000000; stroke-width:4; stroke-opacity:1; fill:none\" points=\"\n",
       "  405.143,1271.47 433.885,1271.47 \n",
       "  \"/>\n",
       "<polyline clip-path=\"url(#clip7901)\" style=\"stroke:#000000; stroke-width:4; stroke-opacity:1; fill:none\" points=\"\n",
       "  405.143,945.116 433.885,945.116 \n",
       "  \"/>\n",
       "<polyline clip-path=\"url(#clip7901)\" style=\"stroke:#000000; stroke-width:4; stroke-opacity:1; fill:none\" points=\"\n",
       "  405.143,618.76 433.885,618.76 \n",
       "  \"/>\n",
       "<polyline clip-path=\"url(#clip7901)\" style=\"stroke:#000000; stroke-width:4; stroke-opacity:1; fill:none\" points=\"\n",
       "  405.143,292.404 433.885,292.404 \n",
       "  \"/>\n",
       "<g clip-path=\"url(#clip7901)\">\n",
       "<text style=\"fill:#000000; fill-opacity:1; font-family:Arial,Helvetica Neue,Helvetica,sans-serif; font-size:48px; text-anchor:middle;\" transform=\"rotate(0, 660.224, 1557.47)\" x=\"660.224\" y=\"1557.47\">200</text>\n",
       "</g>\n",
       "<g clip-path=\"url(#clip7901)\">\n",
       "<text style=\"fill:#000000; fill-opacity:1; font-family:Arial,Helvetica Neue,Helvetica,sans-serif; font-size:48px; text-anchor:middle;\" transform=\"rotate(0, 1061.93, 1557.47)\" x=\"1061.93\" y=\"1557.47\">400</text>\n",
       "</g>\n",
       "<g clip-path=\"url(#clip7901)\">\n",
       "<text style=\"fill:#000000; fill-opacity:1; font-family:Arial,Helvetica Neue,Helvetica,sans-serif; font-size:48px; text-anchor:middle;\" transform=\"rotate(0, 1463.63, 1557.47)\" x=\"1463.63\" y=\"1557.47\">600</text>\n",
       "</g>\n",
       "<g clip-path=\"url(#clip7901)\">\n",
       "<text style=\"fill:#000000; fill-opacity:1; font-family:Arial,Helvetica Neue,Helvetica,sans-serif; font-size:48px; text-anchor:middle;\" transform=\"rotate(0, 1865.33, 1557.47)\" x=\"1865.33\" y=\"1557.47\">800</text>\n",
       "</g>\n",
       "<g clip-path=\"url(#clip7901)\">\n",
       "<text style=\"fill:#000000; fill-opacity:1; font-family:Arial,Helvetica Neue,Helvetica,sans-serif; font-size:48px; text-anchor:middle;\" transform=\"rotate(0, 2267.03, 1557.47)\" x=\"2267.03\" y=\"1557.47\">1000</text>\n",
       "</g>\n",
       "<g clip-path=\"url(#clip7901)\">\n",
       "<text style=\"fill:#000000; fill-opacity:1; font-family:Arial,Helvetica Neue,Helvetica,sans-serif; font-size:48px; text-anchor:start;\" transform=\"rotate(0, 107.732, 1295.2)\" x=\"107.732\" y=\"1295.2\">8.3326×10</text>\n",
       "</g>\n",
       "<g clip-path=\"url(#clip7901)\">\n",
       "<text style=\"fill:#000000; fill-opacity:1; font-family:Arial,Helvetica Neue,Helvetica,sans-serif; font-size:38px; text-anchor:start;\" transform=\"rotate(0, 336.559, 1267.79)\" x=\"336.559\" y=\"1267.79\">-</text>\n",
       "</g>\n",
       "<g clip-path=\"url(#clip7901)\">\n",
       "<text style=\"fill:#000000; fill-opacity:1; font-family:Arial,Helvetica Neue,Helvetica,sans-serif; font-size:38px; text-anchor:start;\" transform=\"rotate(0, 359.399, 1267.79)\" x=\"359.399\" y=\"1267.79\">2</text>\n",
       "</g>\n",
       "<g clip-path=\"url(#clip7901)\">\n",
       "<text style=\"fill:#000000; fill-opacity:1; font-family:Arial,Helvetica Neue,Helvetica,sans-serif; font-size:48px; text-anchor:start;\" transform=\"rotate(0, 107.732, 968.844)\" x=\"107.732\" y=\"968.844\">8.3328×10</text>\n",
       "</g>\n",
       "<g clip-path=\"url(#clip7901)\">\n",
       "<text style=\"fill:#000000; fill-opacity:1; font-family:Arial,Helvetica Neue,Helvetica,sans-serif; font-size:38px; text-anchor:start;\" transform=\"rotate(0, 336.559, 941.434)\" x=\"336.559\" y=\"941.434\">-</text>\n",
       "</g>\n",
       "<g clip-path=\"url(#clip7901)\">\n",
       "<text style=\"fill:#000000; fill-opacity:1; font-family:Arial,Helvetica Neue,Helvetica,sans-serif; font-size:38px; text-anchor:start;\" transform=\"rotate(0, 359.399, 941.434)\" x=\"359.399\" y=\"941.434\">2</text>\n",
       "</g>\n",
       "<g clip-path=\"url(#clip7901)\">\n",
       "<text style=\"fill:#000000; fill-opacity:1; font-family:Arial,Helvetica Neue,Helvetica,sans-serif; font-size:48px; text-anchor:start;\" transform=\"rotate(0, 107.732, 642.488)\" x=\"107.732\" y=\"642.488\">8.3330×10</text>\n",
       "</g>\n",
       "<g clip-path=\"url(#clip7901)\">\n",
       "<text style=\"fill:#000000; fill-opacity:1; font-family:Arial,Helvetica Neue,Helvetica,sans-serif; font-size:38px; text-anchor:start;\" transform=\"rotate(0, 336.559, 615.077)\" x=\"336.559\" y=\"615.077\">-</text>\n",
       "</g>\n",
       "<g clip-path=\"url(#clip7901)\">\n",
       "<text style=\"fill:#000000; fill-opacity:1; font-family:Arial,Helvetica Neue,Helvetica,sans-serif; font-size:38px; text-anchor:start;\" transform=\"rotate(0, 359.399, 615.077)\" x=\"359.399\" y=\"615.077\">2</text>\n",
       "</g>\n",
       "<g clip-path=\"url(#clip7901)\">\n",
       "<text style=\"fill:#000000; fill-opacity:1; font-family:Arial,Helvetica Neue,Helvetica,sans-serif; font-size:48px; text-anchor:start;\" transform=\"rotate(0, 107.732, 316.131)\" x=\"107.732\" y=\"316.131\">8.3332×10</text>\n",
       "</g>\n",
       "<g clip-path=\"url(#clip7901)\">\n",
       "<text style=\"fill:#000000; fill-opacity:1; font-family:Arial,Helvetica Neue,Helvetica,sans-serif; font-size:38px; text-anchor:start;\" transform=\"rotate(0, 336.559, 288.721)\" x=\"336.559\" y=\"288.721\">-</text>\n",
       "</g>\n",
       "<g clip-path=\"url(#clip7901)\">\n",
       "<text style=\"fill:#000000; fill-opacity:1; font-family:Arial,Helvetica Neue,Helvetica,sans-serif; font-size:38px; text-anchor:start;\" transform=\"rotate(0, 359.399, 288.721)\" x=\"359.399\" y=\"288.721\">2</text>\n",
       "</g>\n",
       "<polyline clip-path=\"url(#clip7903)\" style=\"stroke:#009af9; stroke-width:4; stroke-opacity:1; fill:none\" points=\"\n",
       "  459.373,1462.26 461.381,1434.65 463.39,1407.86 465.398,1381.85 467.407,1356.59 469.415,1332.06 471.424,1308.23 473.432,1285.07 475.441,1262.55 477.449,1240.66 \n",
       "  479.458,1219.36 481.466,1198.65 483.475,1178.49 485.483,1158.87 487.492,1139.77 489.5,1121.17 491.509,1103.05 493.517,1085.4 495.526,1068.2 497.534,1051.43 \n",
       "  499.543,1035.09 501.552,1019.15 503.56,1003.61 505.569,988.443 507.577,973.648 509.586,959.21 511.594,945.116 513.603,931.357 515.611,917.922 517.62,904.8 \n",
       "  519.628,891.982 521.637,879.459 523.645,867.221 525.654,855.261 527.662,843.569 529.671,832.138 531.679,820.961 533.688,810.029 535.696,799.335 537.705,788.873 \n",
       "  539.713,778.636 541.722,768.617 543.73,758.811 545.739,749.212 547.747,739.813 549.756,730.609 551.764,721.595 553.773,712.766 555.781,704.116 557.79,695.641 \n",
       "  559.798,687.336 561.807,679.196 563.815,671.218 565.824,663.397 567.832,655.728 569.841,648.209 571.849,640.834 573.858,633.601 575.866,626.505 577.875,619.544 \n",
       "  579.883,612.714 581.892,606.012 583.9,599.434 585.909,592.977 587.917,586.639 589.926,580.417 591.934,574.307 593.943,568.307 595.951,562.415 597.96,556.628 \n",
       "  599.968,550.943 601.977,545.358 603.985,539.871 605.994,534.479 608.002,529.181 610.011,523.973 612.019,518.855 614.028,513.824 616.036,508.877 618.045,504.014 \n",
       "  620.053,499.232 622.062,494.53 624.071,489.905 626.079,485.356 628.088,480.882 630.096,476.48 632.105,472.15 634.113,467.889 636.122,463.697 638.13,459.571 \n",
       "  640.139,455.51 642.147,451.514 644.156,447.58 646.164,443.707 648.173,439.894 650.181,436.141 652.19,432.444 654.198,428.805 656.207,425.22 658.215,421.69 \n",
       "  660.224,418.212 662.232,414.787 664.241,411.413 666.249,408.089 668.258,404.814 670.266,401.586 672.275,398.406 674.283,395.272 676.292,392.184 678.3,389.14 \n",
       "  680.309,386.139 682.317,383.182 684.326,380.266 686.334,377.391 688.343,374.557 690.351,371.762 692.36,369.006 694.368,366.289 696.377,363.609 698.385,360.966 \n",
       "  700.394,358.359 702.402,355.787 704.411,353.25 706.419,350.747 708.428,348.278 710.436,345.842 712.445,343.439 714.453,341.067 716.462,338.726 718.47,336.417 \n",
       "  720.479,334.137 722.487,331.887 724.496,329.666 726.504,327.474 728.513,325.31 730.521,323.174 732.53,321.065 734.538,318.983 736.547,316.927 738.555,314.897 \n",
       "  740.564,312.892 742.572,310.912 744.581,308.957 746.589,307.026 748.598,305.119 750.607,303.235 752.615,301.375 754.624,299.537 756.632,297.721 758.641,295.927 \n",
       "  760.649,294.155 762.658,292.404 764.666,290.673 766.675,288.964 768.683,287.274 770.692,285.605 772.7,283.955 774.709,282.325 776.717,280.713 778.726,279.12 \n",
       "  780.734,277.546 782.743,275.989 784.751,274.451 786.76,272.93 788.768,271.426 790.777,269.94 792.785,268.47 794.794,267.017 796.802,265.58 798.811,264.159 \n",
       "  800.819,262.754 802.828,261.365 804.836,259.991 806.845,258.632 808.853,257.288 810.862,255.958 812.87,254.643 814.879,253.343 816.887,252.056 818.896,250.784 \n",
       "  820.904,249.525 822.913,248.279 824.921,247.047 826.93,245.827 828.938,244.621 830.947,243.428 832.955,242.246 834.964,241.078 836.972,239.921 838.981,238.777 \n",
       "  840.989,237.644 842.998,236.523 845.006,235.414 847.015,234.316 849.023,233.229 851.032,232.154 853.04,231.089 855.049,230.035 857.057,228.991 859.066,227.959 \n",
       "  861.074,226.936 863.083,225.924 865.091,224.921 867.1,223.929 869.108,222.947 871.117,221.974 873.126,221.01 875.134,220.057 877.143,219.112 879.151,218.177 \n",
       "  881.16,217.25 883.168,216.333 885.177,215.425 887.185,214.525 889.194,213.634 891.202,212.751 893.211,211.877 895.219,211.011 897.228,210.153 899.236,209.303 \n",
       "  901.245,208.461 903.253,207.627 905.262,206.801 907.27,205.983 909.279,205.172 911.287,204.369 913.296,203.573 915.304,202.784 917.313,202.003 919.321,201.229 \n",
       "  921.33,200.461 923.338,199.701 925.347,198.948 927.355,198.201 929.364,197.462 931.372,196.728 933.381,196.002 935.389,195.281 937.398,194.568 939.406,193.86 \n",
       "  941.415,193.159 943.423,192.464 945.432,191.775 947.44,191.092 949.449,190.415 951.457,189.744 953.466,189.079 955.474,188.42 957.483,187.766 959.491,187.118 \n",
       "  961.5,186.475 963.508,185.838 965.517,185.207 967.525,184.58 969.534,183.96 971.542,183.344 973.551,182.733 975.559,182.128 977.568,181.528 979.576,180.933 \n",
       "  981.585,180.342 983.593,179.757 985.602,179.176 987.61,178.601 989.619,178.03 991.627,177.464 993.636,176.902 995.644,176.345 997.653,175.793 999.662,175.245 \n",
       "  1001.67,174.701 1003.68,174.162 1005.69,173.627 1007.7,173.097 1009.7,172.571 1011.71,172.049 1013.72,171.531 1015.73,171.017 1017.74,170.508 1019.75,170.002 \n",
       "  1021.76,169.501 1023.76,169.003 1025.77,168.509 1027.78,168.019 1029.79,167.534 1031.8,167.051 1033.81,166.573 1035.81,166.098 1037.82,165.627 1039.83,165.16 \n",
       "  1041.84,164.696 1043.85,164.236 1045.86,163.779 1047.87,163.326 1049.87,162.876 1051.88,162.43 1053.89,161.987 1055.9,161.547 1057.91,161.111 1059.92,160.678 \n",
       "  1061.93,160.248 1063.93,159.821 1065.94,159.398 1067.95,158.978 1069.96,158.561 1071.97,158.147 1073.98,157.736 1075.98,157.328 1077.99,156.923 1080,156.521 \n",
       "  1082.01,156.122 1084.02,155.726 1086.03,155.333 1088.04,154.943 1090.04,154.555 1092.05,154.171 1094.06,153.789 1096.07,153.41 1098.08,153.033 1100.09,152.659 \n",
       "  1102.1,152.288 1104.1,151.92 1106.11,151.554 1108.12,151.191 1110.13,150.83 1112.14,150.472 1114.15,150.117 1116.15,149.764 1118.16,149.413 1120.17,149.065 \n",
       "  1122.18,148.719 1124.19,148.376 1126.2,148.035 1128.21,147.697 1130.21,147.361 1132.22,147.027 1134.23,146.695 1136.24,146.366 1138.25,146.039 1140.26,145.714 \n",
       "  1142.27,145.392 1144.27,145.071 1146.28,144.753 1148.29,144.437 1150.3,144.123 1152.31,143.811 1154.32,143.502 1156.33,143.194 1158.33,142.889 1160.34,142.585 \n",
       "  1162.35,142.284 1164.36,141.984 1166.37,141.687 1168.38,141.391 1170.38,141.098 1172.39,140.806 1174.4,140.517 1176.41,140.229 1178.42,139.943 1180.43,139.659 \n",
       "  1182.44,139.377 1184.44,139.096 1186.45,138.818 1188.46,138.541 1190.47,138.266 1192.48,137.993 1194.49,137.722 1196.5,137.452 1198.5,137.184 1200.51,136.918 \n",
       "  1202.52,136.654 1204.53,136.391 1206.54,136.13 1208.55,135.87 1210.55,135.612 1212.56,135.356 1214.57,135.102 1216.58,134.849 1218.59,134.597 1220.6,134.348 \n",
       "  1222.61,134.099 1224.61,133.853 1226.62,133.607 1228.63,133.364 1230.64,133.122 1232.65,132.881 1234.66,132.642 1236.67,132.404 1238.67,132.168 1240.68,131.933 \n",
       "  1242.69,131.7 1244.7,131.468 1246.71,131.238 1248.72,131.009 1250.73,130.781 1252.73,130.555 1254.74,130.33 1256.75,130.106 1258.76,129.884 1260.77,129.663 \n",
       "  1262.78,129.444 1264.78,129.225 1266.79,129.009 1268.8,128.793 1270.81,128.579 1272.82,128.366 1274.83,128.154 1276.84,127.943 1278.84,127.734 1280.85,127.526 \n",
       "  1282.86,127.319 1284.87,127.113 1286.88,126.909 1288.89,126.706 1290.9,126.504 1292.9,126.303 1294.91,126.103 1296.92,125.905 1298.93,125.707 1300.94,125.511 \n",
       "  1302.95,125.316 1304.95,125.122 1306.96,124.929 1308.97,124.737 1310.98,124.547 1312.99,124.357 1315,124.169 1317.01,123.981 1319.01,123.795 1321.02,123.61 \n",
       "  1323.03,123.425 1325.04,123.242 1327.05,123.06 1329.06,122.879 1331.07,122.699 1333.07,122.52 1335.08,122.341 1337.09,122.164 1339.1,121.988 1341.11,121.813 \n",
       "  1343.12,121.639 1345.12,121.466 1347.13,121.294 1349.14,121.122 1351.15,120.952 1353.16,120.782 1355.17,120.614 1357.18,120.446 1359.18,120.28 1361.19,120.114 \n",
       "  1363.2,119.949 1365.21,119.785 1367.22,119.622 1369.23,119.46 1371.24,119.299 1373.24,119.139 1375.25,118.979 1377.26,118.82 1379.27,118.663 1381.28,118.506 \n",
       "  1383.29,118.35 1385.3,118.194 1387.3,118.04 1389.31,117.886 1391.32,117.733 1393.33,117.581 1395.34,117.43 1397.35,117.28 1399.35,117.13 1401.36,116.981 \n",
       "  1403.37,116.833 1405.38,116.686 1407.39,116.54 1409.4,116.394 1411.41,116.249 1413.41,116.105 1415.42,115.961 1417.43,115.819 1419.44,115.677 1421.45,115.536 \n",
       "  1423.46,115.395 1425.47,115.255 1427.47,115.116 1429.48,114.978 1431.49,114.84 1433.5,114.704 1435.51,114.567 1437.52,114.432 1439.52,114.297 1441.53,114.163 \n",
       "  1443.54,114.03 1445.55,113.897 1447.56,113.765 1449.57,113.633 1451.58,113.503 1453.58,113.372 1455.59,113.243 1457.6,113.114 1459.61,112.986 1461.62,112.859 \n",
       "  1463.63,112.732 1465.64,112.605 1467.64,112.48 1469.65,112.355 1471.66,112.231 1473.67,112.107 1475.68,111.984 1477.69,111.861 1479.69,111.739 1481.7,111.618 \n",
       "  1483.71,111.497 1485.72,111.377 1487.73,111.258 1489.74,111.139 1491.75,111.02 1493.75,110.903 1495.76,110.785 1497.77,110.669 1499.78,110.553 1501.79,110.437 \n",
       "  1503.8,110.322 1505.81,110.208 1507.81,110.094 1509.82,109.981 1511.83,109.868 1513.84,109.756 1515.85,109.644 1517.86,109.533 1519.87,109.422 1521.87,109.312 \n",
       "  1523.88,109.203 1525.89,109.094 1527.9,108.985 1529.91,108.877 1531.92,108.77 1533.92,108.663 1535.93,108.556 1537.94,108.45 1539.95,108.345 1541.96,108.24 \n",
       "  1543.97,108.135 1545.98,108.031 1547.98,107.928 1549.99,107.825 1552,107.722 1554.01,107.62 1556.02,107.519 1558.03,107.418 1560.04,107.317 1562.04,107.217 \n",
       "  1564.05,107.117 1566.06,107.018 1568.07,106.919 1570.08,106.821 1572.09,106.723 1574.09,106.625 1576.1,106.528 1578.11,106.432 1580.12,106.336 1582.13,106.24 \n",
       "  1584.14,106.145 1586.15,106.05 1588.15,105.955 1590.16,105.862 1592.17,105.768 1594.18,105.675 1596.19,105.582 1598.2,105.49 1600.21,105.398 1602.21,105.307 \n",
       "  1604.22,105.216 1606.23,105.125 1608.24,105.035 1610.25,104.945 1612.26,104.856 1614.26,104.766 1616.27,104.678 1618.28,104.59 1620.29,104.502 1622.3,104.414 \n",
       "  1624.31,104.327 1626.32,104.241 1628.32,104.154 1630.33,104.068 1632.34,103.983 1634.35,103.898 1636.36,103.813 1638.37,103.728 1640.38,103.644 1642.38,103.561 \n",
       "  1644.39,103.477 1646.4,103.394 1648.41,103.312 1650.42,103.229 1652.43,103.148 1654.44,103.066 1656.44,102.985 1658.45,102.904 1660.46,102.824 1662.47,102.743 \n",
       "  1664.48,102.664 1666.49,102.584 1668.49,102.505 1670.5,102.426 1672.51,102.348 1674.52,102.27 1676.53,102.192 1678.54,102.114 1680.55,102.037 1682.55,101.961 \n",
       "  1684.56,101.884 1686.57,101.808 1688.58,101.732 1690.59,101.657 1692.6,101.581 1694.61,101.507 1696.61,101.432 1698.62,101.358 1700.63,101.284 1702.64,101.21 \n",
       "  1704.65,101.137 1706.66,101.064 1708.66,100.991 1710.67,100.919 1712.68,100.847 1714.69,100.775 1716.7,100.703 1718.71,100.632 1720.72,100.561 1722.72,100.49 \n",
       "  1724.73,100.42 1726.74,100.35 1728.75,100.28 1730.76,100.211 1732.77,100.142 1734.78,100.073 1736.78,100.004 1738.79,99.9357 1740.8,99.8676 1742.81,99.7999 \n",
       "  1744.82,99.7323 1746.83,99.6651 1748.84,99.5981 1750.84,99.5314 1752.85,99.4649 1754.86,99.3988 1756.87,99.3329 1758.88,99.2672 1760.89,99.2019 1762.89,99.1367 \n",
       "  1764.9,99.0719 1766.91,99.0073 1768.92,98.943 1770.93,98.8789 1772.94,98.8151 1774.95,98.7515 1776.95,98.6882 1778.96,98.6251 1780.97,98.5623 1782.98,98.4997 \n",
       "  1784.99,98.4374 1787,98.3753 1789.01,98.3135 1791.01,98.2519 1793.02,98.1905 1795.03,98.1294 1797.04,98.0686 1799.05,98.0079 1801.06,97.9475 1803.06,97.8874 \n",
       "  1805.07,97.8275 1807.08,97.7678 1809.09,97.7083 1811.1,97.6491 1813.11,97.5901 1815.12,97.5313 1817.12,97.4728 1819.13,97.4145 1821.14,97.3564 1823.15,97.2985 \n",
       "  1825.16,97.2409 1827.17,97.1835 1829.18,97.1263 1831.18,97.0693 1833.19,97.0125 1835.2,96.956 1837.21,96.8997 1839.22,96.8435 1841.23,96.7876 1843.23,96.732 \n",
       "  1845.24,96.6765 1847.25,96.6212 1849.26,96.5662 1851.27,96.5113 1853.28,96.4567 1855.29,96.4022 1857.29,96.348 1859.3,96.294 1861.31,96.2402 1863.32,96.1865 \n",
       "  1865.33,96.1331 1867.34,96.0799 1869.35,96.0269 1871.35,95.9741 1873.36,95.9214 1875.37,95.869 1877.38,95.8168 1879.39,95.7648 1881.4,95.7129 1883.41,95.6613 \n",
       "  1885.41,95.6098 1887.42,95.5585 1889.43,95.5074 1891.44,95.4566 1893.45,95.4059 1895.46,95.3553 1897.46,95.305 1899.47,95.2549 1901.48,95.2049 1903.49,95.1551 \n",
       "  1905.5,95.1055 1907.51,95.0561 1909.52,95.0069 1911.52,94.9578 1913.53,94.9089 1915.54,94.8602 1917.55,94.8117 1919.56,94.7634 1921.57,94.7152 1923.58,94.6672 \n",
       "  1925.58,94.6194 1927.59,94.5717 1929.6,94.5242 1931.61,94.4769 1933.62,94.4298 1935.63,94.3828 1937.63,94.336 1939.64,94.2894 1941.65,94.2429 1943.66,94.1966 \n",
       "  1945.67,94.1505 1947.68,94.1045 1949.69,94.0587 1951.69,94.0131 1953.7,93.9676 1955.71,93.9223 1957.72,93.8772 1959.73,93.8322 1961.74,93.7873 1963.75,93.7426 \n",
       "  1965.75,93.6981 1967.76,93.6538 1969.77,93.6096 1971.78,93.5655 1973.79,93.5216 1975.8,93.4779 1977.8,93.4343 1979.81,93.3908 1981.82,93.3476 1983.83,93.3044 \n",
       "  1985.84,93.2614 1987.85,93.2186 1989.86,93.1759 1991.86,93.1334 1993.87,93.091 1995.88,93.0488 1997.89,93.0067 1999.9,92.9647 2001.91,92.9229 2003.92,92.8813 \n",
       "  2005.92,92.8397 2007.93,92.7984 2009.94,92.7571 2011.95,92.7161 2013.96,92.6751 2015.97,92.6343 2017.98,92.5936 2019.98,92.5531 2021.99,92.5127 2024,92.4725 \n",
       "  2026.01,92.4324 2028.02,92.3924 2030.03,92.3525 2032.03,92.3128 2034.04,92.2733 2036.05,92.2338 2038.06,92.1945 2040.07,92.1554 2042.08,92.1163 2044.09,92.0774 \n",
       "  2046.09,92.0386 2048.1,92 2050.11,91.9615 2052.12,91.9231 2054.13,91.8849 2056.14,91.8467 2058.15,91.8087 2060.15,91.7709 2062.16,91.7331 2064.17,91.6955 \n",
       "  2066.18,91.658 2068.19,91.6206 2070.2,91.5834 2072.2,91.5463 2074.21,91.5093 2076.22,91.4724 2078.23,91.4356 2080.24,91.399 2082.25,91.3625 2084.26,91.3261 \n",
       "  2086.26,91.2898 2088.27,91.2537 2090.28,91.2177 2092.29,91.1817 2094.3,91.146 2096.31,91.1103 2098.32,91.0747 2100.32,91.0393 2102.33,91.0039 2104.34,90.9687 \n",
       "  2106.35,90.9336 2108.36,90.8987 2110.37,90.8638 2112.38,90.829 2114.38,90.7944 2116.39,90.7599 2118.4,90.7254 2120.41,90.6911 2122.42,90.6569 2124.43,90.6229 \n",
       "  2126.43,90.5889 2128.44,90.555 2130.45,90.5213 2132.46,90.4876 2134.47,90.4541 2136.48,90.4206 2138.49,90.3873 2140.49,90.3541 2142.5,90.321 2144.51,90.288 \n",
       "  2146.52,90.2551 2148.53,90.2223 2150.54,90.1896 2152.55,90.157 2154.55,90.1245 2156.56,90.0921 2158.57,90.0599 2160.58,90.0277 2162.59,89.9956 2164.6,89.9636 \n",
       "  2166.6,89.9318 2168.61,89.9 2170.62,89.8683 2172.63,89.8367 2174.64,89.8053 2176.65,89.7739 2178.66,89.7426 2180.66,89.7115 2182.67,89.6804 2184.68,89.6494 \n",
       "  2186.69,89.6185 2188.7,89.5877 2190.71,89.557 2192.72,89.5264 2194.72,89.4959 2196.73,89.4655 2198.74,89.4352 2200.75,89.405 2202.76,89.3749 2204.77,89.3448 \n",
       "  2206.77,89.3149 2208.78,89.2851 2210.79,89.2553 2212.8,89.2257 2214.81,89.1961 2216.82,89.1666 2218.83,89.1372 2220.83,89.1079 2222.84,89.0787 2224.85,89.0496 \n",
       "  2226.86,89.0206 2228.87,88.9916 2230.88,88.9628 2232.89,88.934 2234.89,88.9053 2236.9,88.8767 2238.91,88.8482 2240.92,88.8198 2242.93,88.7915 2244.94,88.7633 \n",
       "  2246.95,88.7351 2248.95,88.707 2250.96,88.679 2252.97,88.6511 2254.98,88.6233 2256.99,88.5956 2259,88.5679 2261,88.5404 2263.01,88.5129 2265.02,88.4855 \n",
       "  2267.03,88.4582 \n",
       "  \"/>\n",
       "<polygon clip-path=\"url(#clip7901)\" points=\"\n",
       "1958.43,251.724 2249.26,251.724 2249.26,130.764 1958.43,130.764 \n",
       "  \" fill=\"#ffffff\" fill-rule=\"evenodd\" fill-opacity=\"1\"/>\n",
       "<polyline clip-path=\"url(#clip7901)\" style=\"stroke:#000000; stroke-width:4; stroke-opacity:1; fill:none\" points=\"\n",
       "  1958.43,251.724 2249.26,251.724 2249.26,130.764 1958.43,130.764 1958.43,251.724 \n",
       "  \"/>\n",
       "<polyline clip-path=\"url(#clip7901)\" style=\"stroke:#009af9; stroke-width:4; stroke-opacity:1; fill:none\" points=\"\n",
       "  1982.43,191.244 2126.43,191.244 \n",
       "  \"/>\n",
       "<g clip-path=\"url(#clip7901)\">\n",
       "<text style=\"fill:#000000; fill-opacity:1; font-family:Arial,Helvetica Neue,Helvetica,sans-serif; font-size:48px; text-anchor:start;\" transform=\"rotate(0, 2150.43, 208.744)\" x=\"2150.43\" y=\"208.744\">y1</text>\n",
       "</g>\n",
       "</svg>\n"
      ]
     },
     "execution_count": 22,
     "metadata": {},
     "output_type": "execute_result"
    }
   ],
   "source": [
    "grid_x = 100:1000\n",
    "grid_y = [trapezoidal(f, 0.0, 1.0, N) for N in grid_x]\n",
    "plot(grid_x, grid_y)"
   ]
  },
  {
   "cell_type": "markdown",
   "metadata": {},
   "source": [
    "# Exercise 6"
   ]
  },
  {
   "cell_type": "code",
   "execution_count": 31,
   "metadata": {},
   "outputs": [
    {
     "name": "stdout",
     "output_type": "stream",
     "text": [
      "f(0.5) = 0.25\n",
      "D(0.5) = 0.25001275380063254\n"
     ]
    },
    {
     "data": {
      "text/plain": [
       "0.25001275380063254"
      ]
     },
     "execution_count": 31,
     "metadata": {},
     "output_type": "execute_result"
    }
   ],
   "source": [
    "using ForwardDiff\n",
    "\n",
    "f(x) = x^2\n",
    "\n",
    "D(x) = ForwardDiff.derivative(y -> trapezoidal(f, 0.0, y, 100), x)\n",
    "\n",
    "@show f(0.5)\n",
    "@show D(0.5)"
   ]
  }
 ],
 "metadata": {
  "kernelspec": {
   "display_name": "Julia 1.0.3",
   "language": "julia",
   "name": "julia-1.0"
  },
  "language_info": {
   "file_extension": ".jl",
   "mimetype": "application/julia",
   "name": "julia",
   "version": "1.0.3"
  }
 },
 "nbformat": 4,
 "nbformat_minor": 2
}
