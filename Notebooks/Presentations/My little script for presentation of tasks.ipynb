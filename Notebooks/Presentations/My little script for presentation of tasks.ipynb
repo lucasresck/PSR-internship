{
 "cells": [
  {
   "cell_type": "markdown",
   "metadata": {},
   "source": [
    "- Sobre nós\n",
    "    - De onde veio\n",
    "    - Onde estudou\n",
    "    - Como veio parar aqui: Projeto\n",
    "    - Faculdade\n",
    "    - PSR\n",
    "- Jupyter\n",
    "    - Apresentações\n",
    "        - Outputs\n",
    "        - Markdown\n",
    "            - $\\LaTeX$\n",
    "        - Fins didáticos\n",
    "    - Terminal\n",
    "    - Multilinguagem\n",
    "        - Ótimo para Julia, Python e R\n",
    "    - Servidores na nuvem\n",
    "        - JuliaBox\n",
    "    - Jupyter Lab\n",
    "    - Shortcuts\n",
    "    - GitHub\n",
    "- Problema do agendamento de manutenção\n",
    "    - 1) Problema inicial\n",
    "        - Basicamente tínhamos que resolver o problema de quando colocar as usinas em manutenção, sabendo que cada usina deve entrar em manutenção pelo menos uma vez no ano e a demanda deve ser suprida em todos os meses. Podemos colocar uma variável que é sempre maior que a diferença entre a capacidade disponível e a demanda para todos os meses e minimizar essa variável.\n",
    "    - 2) Cenários de renováveis e demanda líquida com otimização de valor esperado\n",
    "        - Agora temos cenários de energia renovável que afetam a demanda líquida. Devemos levá-los em consideração. Além disso, temos a variável da diferença, porém uma variável por cenário. Assim, quando minimizar-mos, vamos minimizar o valor esperado delas, ou seja, uma média aritmética, no caso discreto.\n",
    "    - 3) CVaR determinístico nas restrições\n",
    "        - Dada uma probabilidade $\\theta$, o $Var_\\theta (x)$ é o menor valor de x tal que sua probabilidade seja maior do que ou igual a $\\theta$. O CVaR, portanto, é o valor esperado de x quando x >= Var. No caso discreto, é a média aritmética dos $\\theta$ piores casos. Calculamos o CVaR de todos os meses e colocamos na restrição.\n",
    "    - 4) CVaR como problema de otimização na função objetivo\n",
    "    - Comparação entre o CVaR na função objetivo e na restrição\n",
    "    - Comparação entre o CVaR e o valor esperado na função objetivo\n",
    "    - 5) Combinação convexa de valor esperado e CVaR\n",
    "    - 6) Minimizar custo total\n",
    "    - 7) Minimizar custo sem $\\alpha$"
   ]
  },
  {
   "cell_type": "code",
   "execution_count": null,
   "metadata": {},
   "outputs": [],
   "source": []
  }
 ],
 "metadata": {
  "kernelspec": {
   "display_name": "Julia 1.0.3",
   "language": "julia",
   "name": "julia-1.0"
  },
  "language_info": {
   "file_extension": ".jl",
   "mimetype": "application/julia",
   "name": "julia",
   "version": "1.0.3"
  }
 },
 "nbformat": 4,
 "nbformat_minor": 2
}
