{
 "cells": [
  {
   "cell_type": "markdown",
   "metadata": {},
   "source": [
    "# Apresentação"
   ]
  },
  {
   "cell_type": "markdown",
   "metadata": {},
   "source": [
    "- PSR maintenance model\n",
    "    - Formulação\n",
    "    - Implementação\n",
    "    - Comparação\n",
    "    - Caso com dados reais\n",
    "- Convolução\n",
    "    - Soma de variáveis aleatórias\n",
    "    - Implementação para 2 usinas\n",
    "    - Implementação para n usinas\n",
    "    - Método de Monte Carlo\n",
    "    - Restrição de manutenção e vários estágios"
   ]
  },
  {
   "cell_type": "code",
   "execution_count": null,
   "metadata": {},
   "outputs": [],
   "source": []
  }
 ],
 "metadata": {
  "kernelspec": {
   "display_name": "Julia 1.0.3",
   "language": "julia",
   "name": "julia-1.0"
  },
  "language_info": {
   "file_extension": ".jl",
   "mimetype": "application/julia",
   "name": "julia",
   "version": "1.0.3"
  }
 },
 "nbformat": 4,
 "nbformat_minor": 2
}
